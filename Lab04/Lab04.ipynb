{
 "cells": [
  {
   "cell_type": "markdown",
   "id": "8e0b6bf9",
   "metadata": {},
   "source": [
    "<h1>Lexical Semantic</h1>"
   ]
  },
  {
   "cell_type": "code",
   "execution_count": 6,
   "id": "92c7afce",
   "metadata": {},
   "outputs": [],
   "source": [
    "# References:\n",
    "    # 1- https://www.educba.com/nltk-wordnet/"
   ]
  },
  {
   "cell_type": "markdown",
   "id": "8f290064",
   "metadata": {},
   "source": [
    "<h4>Wordnet is an English database for lexical which was based on the NLTK corpus reader. It’s best described as an English dictionary with a semantic focus.</h4>"
   ]
  },
  {
   "cell_type": "markdown",
   "id": "d76fcd0e",
   "metadata": {},
   "source": [
    "<h2>Accessing WordNet</h2>"
   ]
  },
  {
   "cell_type": "code",
   "execution_count": 7,
   "id": "6e967984",
   "metadata": {},
   "outputs": [],
   "source": [
    "import nltk"
   ]
  },
  {
   "cell_type": "code",
   "execution_count": 14,
   "id": "2ad5cf9f",
   "metadata": {},
   "outputs": [
    {
     "name": "stdout",
     "output_type": "stream",
     "text": [
      "showing info https://raw.githubusercontent.com/nltk/nltk_data/gh-pages/index.xml\n"
     ]
    },
    {
     "data": {
      "text/plain": [
       "True"
      ]
     },
     "execution_count": 14,
     "metadata": {},
     "output_type": "execute_result"
    }
   ],
   "source": [
    "nltk.download()"
   ]
  },
  {
   "cell_type": "code",
   "execution_count": 16,
   "id": "9c2a4a90",
   "metadata": {},
   "outputs": [],
   "source": [
    "import nltk.book as books"
   ]
  },
  {
   "cell_type": "code",
   "execution_count": 19,
   "id": "845d6fbc",
   "metadata": {},
   "outputs": [],
   "source": [
    "from nltk.corpus import wordnet as wn"
   ]
  },
  {
   "cell_type": "code",
   "execution_count": 21,
   "id": "8e84bc0e",
   "metadata": {},
   "outputs": [
    {
     "name": "stderr",
     "output_type": "stream",
     "text": [
      "[nltk_data] Downloading package omw-1.4 to\n",
      "[nltk_data]     C:\\Users\\lvallejos\\AppData\\Roaming\\nltk_data...\n"
     ]
    },
    {
     "data": {
      "text/plain": [
       "True"
      ]
     },
     "execution_count": 21,
     "metadata": {},
     "output_type": "execute_result"
    }
   ],
   "source": [
    "nltk.download('omw-1.4')"
   ]
  },
  {
   "cell_type": "code",
   "execution_count": 22,
   "id": "74771441",
   "metadata": {},
   "outputs": [
    {
     "data": {
      "text/plain": [
       "[Synset('dog.n.01'),\n",
       " Synset('frump.n.01'),\n",
       " Synset('dog.n.03'),\n",
       " Synset('cad.n.01'),\n",
       " Synset('frank.n.02'),\n",
       " Synset('pawl.n.01'),\n",
       " Synset('andiron.n.01'),\n",
       " Synset('chase.v.01')]"
      ]
     },
     "execution_count": 22,
     "metadata": {},
     "output_type": "execute_result"
    }
   ],
   "source": [
    "wn.synsets('dog')"
   ]
  },
  {
   "cell_type": "code",
   "execution_count": 23,
   "id": "1494ad4b",
   "metadata": {},
   "outputs": [
    {
     "data": {
      "text/plain": [
       "[Synset('chase.v.01')]"
      ]
     },
     "execution_count": 23,
     "metadata": {},
     "output_type": "execute_result"
    }
   ],
   "source": [
    "wn.synsets('dog',pos=wn.VERB)"
   ]
  },
  {
   "cell_type": "code",
   "execution_count": 24,
   "id": "f89fa5cd",
   "metadata": {},
   "outputs": [
    {
     "data": {
      "text/plain": [
       "Synset('dog.n.01')"
      ]
     },
     "execution_count": 24,
     "metadata": {},
     "output_type": "execute_result"
    }
   ],
   "source": [
    "wn.synset('dog.n.01')"
   ]
  },
  {
   "cell_type": "code",
   "execution_count": 27,
   "id": "c5b522fb",
   "metadata": {},
   "outputs": [
    {
     "data": {
      "text/plain": [
       "'a member of the genus Canis (probably descended from the common wolf) that has been domesticated by man since prehistoric times; occurs in many breeds'"
      ]
     },
     "execution_count": 27,
     "metadata": {},
     "output_type": "execute_result"
    }
   ],
   "source": [
    "wn.synset('dog.n.01').definition()"
   ]
  },
  {
   "cell_type": "code",
   "execution_count": 25,
   "id": "78c7d0aa",
   "metadata": {},
   "outputs": [
    {
     "data": {
      "text/plain": [
       "Synset('frump.n.01')"
      ]
     },
     "execution_count": 25,
     "metadata": {},
     "output_type": "execute_result"
    }
   ],
   "source": [
    "wn.synset('dog.n.02')"
   ]
  },
  {
   "cell_type": "code",
   "execution_count": 28,
   "id": "90b21b4a",
   "metadata": {},
   "outputs": [
    {
     "data": {
      "text/plain": [
       "'a dull unattractive unpleasant girl or woman'"
      ]
     },
     "execution_count": 28,
     "metadata": {},
     "output_type": "execute_result"
    }
   ],
   "source": [
    "wn.synset('dog.n.02').definition()"
   ]
  },
  {
   "cell_type": "code",
   "execution_count": 29,
   "id": "05c96f49",
   "metadata": {},
   "outputs": [
    {
     "data": {
      "text/plain": [
       "[Lemma('dog.n.01.dog'),\n",
       " Lemma('dog.n.01.domestic_dog'),\n",
       " Lemma('dog.n.01.Canis_familiaris')]"
      ]
     },
     "execution_count": 29,
     "metadata": {},
     "output_type": "execute_result"
    }
   ],
   "source": [
    "wn.synset('dog.n.01').lemmas() #synonyms"
   ]
  },
  {
   "cell_type": "code",
   "execution_count": 31,
   "id": "f1d20193",
   "metadata": {},
   "outputs": [
    {
     "data": {
      "text/plain": [
       "['dog', 'domestic_dog', 'Canis_familiaris']"
      ]
     },
     "execution_count": 31,
     "metadata": {},
     "output_type": "execute_result"
    }
   ],
   "source": [
    "[str(lemma.name()) for lemma in wn.synset('dog.n.01').lemmas()]"
   ]
  },
  {
   "cell_type": "code",
   "execution_count": 32,
   "id": "014ee6c7",
   "metadata": {},
   "outputs": [
    {
     "data": {
      "text/plain": [
       "[Lemma('frump.n.01.frump'), Lemma('frump.n.01.dog')]"
      ]
     },
     "execution_count": 32,
     "metadata": {},
     "output_type": "execute_result"
    }
   ],
   "source": [
    "wn.synset('dog.n.02').lemmas() #synonyms"
   ]
  },
  {
   "cell_type": "code",
   "execution_count": 33,
   "id": "3e203ea6",
   "metadata": {},
   "outputs": [
    {
     "data": {
      "text/plain": [
       "['frump', 'dog']"
      ]
     },
     "execution_count": 33,
     "metadata": {},
     "output_type": "execute_result"
    }
   ],
   "source": [
    "[str(lemma.name()) for lemma in wn.synset('dog.n.02').lemmas()]"
   ]
  },
  {
   "cell_type": "markdown",
   "id": "ce5b86f0",
   "metadata": {},
   "source": [
    "<h2>Word relationships in WordNet</h2>"
   ]
  },
  {
   "cell_type": "code",
   "execution_count": 34,
   "id": "92303a72",
   "metadata": {},
   "outputs": [
    {
     "data": {
      "text/plain": [
       "Synset('dog.n.01')"
      ]
     },
     "execution_count": 34,
     "metadata": {},
     "output_type": "execute_result"
    }
   ],
   "source": [
    "dog=wn.synset('dog.n.01')\n",
    "dog"
   ]
  },
  {
   "cell_type": "code",
   "execution_count": 35,
   "id": "cc1f18e8",
   "metadata": {},
   "outputs": [
    {
     "data": {
      "text/plain": [
       "[Synset('canine.n.02'), Synset('domestic_animal.n.01')]"
      ]
     },
     "execution_count": 35,
     "metadata": {},
     "output_type": "execute_result"
    }
   ],
   "source": [
    "dog.hypernyms()"
   ]
  },
  {
   "cell_type": "code",
   "execution_count": 36,
   "id": "f2070996",
   "metadata": {},
   "outputs": [
    {
     "data": {
      "text/plain": [
       "[Synset('basenji.n.01'),\n",
       " Synset('corgi.n.01'),\n",
       " Synset('cur.n.01'),\n",
       " Synset('dalmatian.n.02'),\n",
       " Synset('great_pyrenees.n.01'),\n",
       " Synset('griffon.n.02'),\n",
       " Synset('hunting_dog.n.01'),\n",
       " Synset('lapdog.n.01'),\n",
       " Synset('leonberg.n.01'),\n",
       " Synset('mexican_hairless.n.01'),\n",
       " Synset('newfoundland.n.01'),\n",
       " Synset('pooch.n.01'),\n",
       " Synset('poodle.n.01'),\n",
       " Synset('pug.n.01'),\n",
       " Synset('puppy.n.01'),\n",
       " Synset('spitz.n.01'),\n",
       " Synset('toy_dog.n.01'),\n",
       " Synset('working_dog.n.01')]"
      ]
     },
     "execution_count": 36,
     "metadata": {},
     "output_type": "execute_result"
    }
   ],
   "source": [
    "dog.hyponyms()"
   ]
  },
  {
   "cell_type": "code",
   "execution_count": 37,
   "id": "feb0a368",
   "metadata": {},
   "outputs": [],
   "source": [
    "good=wn.synset('good.a.01')"
   ]
  },
  {
   "cell_type": "code",
   "execution_count": 38,
   "id": "84db4924",
   "metadata": {},
   "outputs": [
    {
     "data": {
      "text/plain": [
       "[Lemma('good.a.01.good')]"
      ]
     },
     "execution_count": 38,
     "metadata": {},
     "output_type": "execute_result"
    }
   ],
   "source": [
    "good.lemmas()"
   ]
  },
  {
   "cell_type": "code",
   "execution_count": 39,
   "id": "6eaa3f48",
   "metadata": {},
   "outputs": [],
   "source": [
    "g0 = good.lemmas()[0]"
   ]
  },
  {
   "cell_type": "code",
   "execution_count": 40,
   "id": "c1aef3d6",
   "metadata": {},
   "outputs": [
    {
     "data": {
      "text/plain": [
       "[Lemma('bad.a.01.bad')]"
      ]
     },
     "execution_count": 40,
     "metadata": {},
     "output_type": "execute_result"
    }
   ],
   "source": [
    "g0.antonyms()"
   ]
  },
  {
   "cell_type": "code",
   "execution_count": 41,
   "id": "a81a9ee0",
   "metadata": {},
   "outputs": [
    {
     "data": {
      "text/plain": [
       "[Synset('flag.n.07')]"
      ]
     },
     "execution_count": 41,
     "metadata": {},
     "output_type": "execute_result"
    }
   ],
   "source": [
    "dog.part_meronyms()"
   ]
  },
  {
   "cell_type": "code",
   "execution_count": 42,
   "id": "28905140",
   "metadata": {},
   "outputs": [
    {
     "data": {
      "text/plain": [
       "'a conspicuously marked or shaped tail'"
      ]
     },
     "execution_count": 42,
     "metadata": {},
     "output_type": "execute_result"
    }
   ],
   "source": [
    "dog.part_meronyms()[0].definition()"
   ]
  },
  {
   "cell_type": "code",
   "execution_count": 44,
   "id": "6d78c5fa",
   "metadata": {},
   "outputs": [
    {
     "data": {
      "text/plain": [
       "[]"
      ]
     },
     "execution_count": 44,
     "metadata": {},
     "output_type": "execute_result"
    }
   ],
   "source": [
    "dog.part_holonyms()"
   ]
  },
  {
   "cell_type": "code",
   "execution_count": 43,
   "id": "41c3d5e3",
   "metadata": {},
   "outputs": [
    {
     "data": {
      "text/plain": [
       "[]"
      ]
     },
     "execution_count": 43,
     "metadata": {},
     "output_type": "execute_result"
    }
   ],
   "source": [
    "dog.member_meronyms()"
   ]
  },
  {
   "cell_type": "code",
   "execution_count": 45,
   "id": "2efc4388",
   "metadata": {},
   "outputs": [
    {
     "data": {
      "text/plain": [
       "[Synset('canis.n.01'), Synset('pack.n.06')]"
      ]
     },
     "execution_count": 45,
     "metadata": {},
     "output_type": "execute_result"
    }
   ],
   "source": [
    "dog.member_holonyms()"
   ]
  },
  {
   "cell_type": "code",
   "execution_count": 46,
   "id": "065ebe44",
   "metadata": {},
   "outputs": [
    {
     "data": {
      "text/plain": [
       "'type genus of the Canidae: domestic and wild dogs; wolves; jackals'"
      ]
     },
     "execution_count": 46,
     "metadata": {},
     "output_type": "execute_result"
    }
   ],
   "source": [
    "dog.member_holonyms()[0].definition()"
   ]
  },
  {
   "cell_type": "code",
   "execution_count": 47,
   "id": "1dd753df",
   "metadata": {},
   "outputs": [
    {
     "data": {
      "text/plain": [
       "'a group of hunting animals'"
      ]
     },
     "execution_count": 47,
     "metadata": {},
     "output_type": "execute_result"
    }
   ],
   "source": [
    "dog.member_holonyms()[1].definition()"
   ]
  },
  {
   "cell_type": "markdown",
   "id": "097d43da",
   "metadata": {},
   "source": [
    "<h2>Word Sense Desambiguation</h2>"
   ]
  },
  {
   "cell_type": "code",
   "execution_count": 48,
   "id": "6eae9f71",
   "metadata": {},
   "outputs": [],
   "source": [
    "sentence = \"The bank can guarantee deposits will eventually\tcover future tuition costs because it invests in adjustable-rate mortgage securities\""
   ]
  },
  {
   "cell_type": "code",
   "execution_count": 49,
   "id": "4e657896",
   "metadata": {},
   "outputs": [
    {
     "data": {
      "text/plain": [
       "[Synset('bank.n.01'),\n",
       " Synset('depository_financial_institution.n.01'),\n",
       " Synset('bank.n.03'),\n",
       " Synset('bank.n.04'),\n",
       " Synset('bank.n.05'),\n",
       " Synset('bank.n.06'),\n",
       " Synset('bank.n.07'),\n",
       " Synset('savings_bank.n.02'),\n",
       " Synset('bank.n.09'),\n",
       " Synset('bank.n.10'),\n",
       " Synset('bank.v.01'),\n",
       " Synset('bank.v.02'),\n",
       " Synset('bank.v.03'),\n",
       " Synset('bank.v.04'),\n",
       " Synset('bank.v.05'),\n",
       " Synset('deposit.v.02'),\n",
       " Synset('bank.v.07'),\n",
       " Synset('trust.v.01')]"
      ]
     },
     "execution_count": 49,
     "metadata": {},
     "output_type": "execute_result"
    }
   ],
   "source": [
    "wn.synsets('bank')"
   ]
  },
  {
   "cell_type": "code",
   "execution_count": 52,
   "id": "25934c5a",
   "metadata": {},
   "outputs": [
    {
     "data": {
      "text/plain": [
       "[Synset('bank.n.01'),\n",
       " Synset('depository_financial_institution.n.01'),\n",
       " Synset('bank.n.03'),\n",
       " Synset('bank.n.04'),\n",
       " Synset('bank.n.05'),\n",
       " Synset('bank.n.06'),\n",
       " Synset('bank.n.07'),\n",
       " Synset('savings_bank.n.02'),\n",
       " Synset('bank.n.09'),\n",
       " Synset('bank.n.10')]"
      ]
     },
     "execution_count": 52,
     "metadata": {},
     "output_type": "execute_result"
    }
   ],
   "source": [
    "noun_bank = wn.synsets('bank',pos=wn.NOUN)\n",
    "noun_bank"
   ]
  },
  {
   "cell_type": "code",
   "execution_count": 56,
   "id": "7fabf039",
   "metadata": {},
   "outputs": [
    {
     "data": {
      "text/plain": [
       "'a financial institution that accepts deposits and channels the money into lending activities'"
      ]
     },
     "execution_count": 56,
     "metadata": {},
     "output_type": "execute_result"
    }
   ],
   "source": [
    "wn.synset('bank.n.02').definition() "
   ]
  },
  {
   "cell_type": "code",
   "execution_count": 58,
   "id": "537b1145",
   "metadata": {},
   "outputs": [],
   "source": [
    "from nltk.wsd import lesk\n",
    "from nltk import word_tokenize"
   ]
  },
  {
   "cell_type": "code",
   "execution_count": 59,
   "id": "eea0e5ab",
   "metadata": {},
   "outputs": [],
   "source": [
    "sentence_tok = word_tokenize(sentence)"
   ]
  },
  {
   "cell_type": "code",
   "execution_count": 60,
   "id": "a244c6aa",
   "metadata": {},
   "outputs": [
    {
     "name": "stdout",
     "output_type": "stream",
     "text": [
      "Synset('bank.n.05')\n"
     ]
    }
   ],
   "source": [
    "print(lesk(sentence_tok,'bank','n'))"
   ]
  },
  {
   "cell_type": "code",
   "execution_count": 61,
   "id": "37bd076f",
   "metadata": {},
   "outputs": [
    {
     "data": {
      "text/plain": [
       "'a supply or stock held in reserve for future use (especially in emergencies)'"
      ]
     },
     "execution_count": 61,
     "metadata": {},
     "output_type": "execute_result"
    }
   ],
   "source": [
    "wn.synset('bank.n.05').definition()"
   ]
  },
  {
   "cell_type": "code",
   "execution_count": 68,
   "id": "001197e2",
   "metadata": {},
   "outputs": [
    {
     "data": {
      "text/plain": [
       "['a',\n",
       " 'supply',\n",
       " 'or',\n",
       " 'stock',\n",
       " 'held',\n",
       " 'in',\n",
       " 'reserve',\n",
       " 'for',\n",
       " 'future',\n",
       " 'use',\n",
       " '(',\n",
       " 'especially',\n",
       " 'in',\n",
       " 'emergencies',\n",
       " ')']"
      ]
     },
     "execution_count": 68,
     "metadata": {},
     "output_type": "execute_result"
    }
   ],
   "source": [
    "l=word_tokenize((wn.synset('bank.n.05').definition()))\n",
    "l"
   ]
  },
  {
   "cell_type": "code",
   "execution_count": 69,
   "id": "769cfd72",
   "metadata": {},
   "outputs": [
    {
     "data": {
      "text/plain": [
       "['a',\n",
       " 'financial',\n",
       " 'institution',\n",
       " 'that',\n",
       " 'accepts',\n",
       " 'deposits',\n",
       " 'and',\n",
       " 'channels',\n",
       " 'the',\n",
       " 'money',\n",
       " 'into',\n",
       " 'lending',\n",
       " 'activities']"
      ]
     },
     "execution_count": 69,
     "metadata": {},
     "output_type": "execute_result"
    }
   ],
   "source": [
    "m=word_tokenize((wn.synset('bank.n.02').definition()))\n",
    "m"
   ]
  },
  {
   "cell_type": "code",
   "execution_count": 70,
   "id": "cc0a0817",
   "metadata": {},
   "outputs": [
    {
     "data": {
      "text/plain": [
       "{'The',\n",
       " 'adjustable-rate',\n",
       " 'bank',\n",
       " 'because',\n",
       " 'can',\n",
       " 'costs',\n",
       " 'cover',\n",
       " 'deposits',\n",
       " 'eventually',\n",
       " 'future',\n",
       " 'guarantee',\n",
       " 'in',\n",
       " 'invests',\n",
       " 'it',\n",
       " 'mortgage',\n",
       " 'securities',\n",
       " 'tuition',\n",
       " 'will'}"
      ]
     },
     "execution_count": 70,
     "metadata": {},
     "output_type": "execute_result"
    }
   ],
   "source": [
    "k=set(sentence_tok)\n",
    "k"
   ]
  },
  {
   "cell_type": "code",
   "execution_count": 71,
   "id": "4227b7ca",
   "metadata": {},
   "outputs": [
    {
     "data": {
      "text/plain": [
       "{'future', 'in'}"
      ]
     },
     "execution_count": 71,
     "metadata": {},
     "output_type": "execute_result"
    }
   ],
   "source": [
    "k.intersection(l)"
   ]
  },
  {
   "cell_type": "code",
   "execution_count": 72,
   "id": "20e1e1a4",
   "metadata": {},
   "outputs": [
    {
     "data": {
      "text/plain": [
       "{'deposits'}"
      ]
     },
     "execution_count": 72,
     "metadata": {},
     "output_type": "execute_result"
    }
   ],
   "source": [
    "k.intersection(m)"
   ]
  },
  {
   "cell_type": "markdown",
   "id": "98ebbff8",
   "metadata": {},
   "source": [
    "<h4>Exercises</h4>"
   ]
  },
  {
   "cell_type": "code",
   "execution_count": 73,
   "id": "1746bd83",
   "metadata": {},
   "outputs": [],
   "source": [
    "sentence_1 = \"I went to the bank to deposit some money\""
   ]
  },
  {
   "cell_type": "code",
   "execution_count": 74,
   "id": "228bdc75",
   "metadata": {},
   "outputs": [],
   "source": [
    "sentence_1_tok = word_tokenize(sentence_1)"
   ]
  },
  {
   "cell_type": "code",
   "execution_count": 75,
   "id": "8e630b30",
   "metadata": {},
   "outputs": [
    {
     "name": "stdout",
     "output_type": "stream",
     "text": [
      "Synset('savings_bank.n.02')\n"
     ]
    }
   ],
   "source": [
    "print(lesk(sentence_1_tok,'bank','n'))"
   ]
  },
  {
   "cell_type": "code",
   "execution_count": 76,
   "id": "8e089d5d",
   "metadata": {},
   "outputs": [],
   "source": [
    "sentence_2 = \"She created a big mess of the birthday cake\"\n",
    "sentence_2_tok = word_tokenize(sentence_2)"
   ]
  },
  {
   "cell_type": "code",
   "execution_count": 78,
   "id": "6ef9cb15",
   "metadata": {},
   "outputs": [
    {
     "name": "stdout",
     "output_type": "stream",
     "text": [
      "Synset('mess.n.04')\n"
     ]
    }
   ],
   "source": [
    "print(lesk(sentence_2_tok,'mess','n'))"
   ]
  },
  {
   "cell_type": "code",
   "execution_count": 79,
   "id": "44d0aef6",
   "metadata": {},
   "outputs": [
    {
     "data": {
      "text/plain": [
       "'a meal eaten in a mess hall by service personnel'"
      ]
     },
     "execution_count": 79,
     "metadata": {},
     "output_type": "execute_result"
    }
   ],
   "source": [
    "lesk(sentence_2_tok,'mess','n').definition()"
   ]
  },
  {
   "cell_type": "code",
   "execution_count": 81,
   "id": "fa30958d",
   "metadata": {},
   "outputs": [],
   "source": [
    "sentence_3 = \"In the interest of your safety, please wear your seatbelt\"\n",
    "sentence_3_tok = word_tokenize(sentence_3)"
   ]
  },
  {
   "cell_type": "code",
   "execution_count": 83,
   "id": "4bf8b58b",
   "metadata": {},
   "outputs": [
    {
     "name": "stdout",
     "output_type": "stream",
     "text": [
      "Synset('interest.n.04')\n"
     ]
    }
   ],
   "source": [
    "print(lesk(sentence_3_tok,'interest','n'))"
   ]
  },
  {
   "cell_type": "code",
   "execution_count": 84,
   "id": "6c105b5d",
   "metadata": {},
   "outputs": [],
   "source": [
    "sentence_4 = \"I drank some ice cold water\"\n",
    "sentence_4_tok = word_tokenize(sentence_4)"
   ]
  },
  {
   "cell_type": "code",
   "execution_count": 85,
   "id": "c1fa401d",
   "metadata": {},
   "outputs": [
    {
     "name": "stdout",
     "output_type": "stream",
     "text": [
      "Synset('toast.v.02')\n"
     ]
    }
   ],
   "source": [
    "print(lesk(sentence_4_tok,'drank','v'))"
   ]
  }
 ],
 "metadata": {
  "kernelspec": {
   "display_name": "Python 3 (ipykernel)",
   "language": "python",
   "name": "python3"
  },
  "language_info": {
   "codemirror_mode": {
    "name": "ipython",
    "version": 3
   },
   "file_extension": ".py",
   "mimetype": "text/x-python",
   "name": "python",
   "nbconvert_exporter": "python",
   "pygments_lexer": "ipython3",
   "version": "3.9.12"
  }
 },
 "nbformat": 4,
 "nbformat_minor": 5
}
