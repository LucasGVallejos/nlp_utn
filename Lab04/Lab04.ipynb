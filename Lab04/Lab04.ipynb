{
 "cells": [
  {
   "cell_type": "markdown",
   "id": "8e0b6bf9",
   "metadata": {},
   "source": [
    "<h1>Lexical Semantic</h1>"
   ]
  },
  {
   "cell_type": "markdown",
   "id": "d76fcd0e",
   "metadata": {},
   "source": [
    "<h2>Accessing WordNet</h2>"
   ]
  },
  {
   "cell_type": "code",
   "execution_count": null,
   "id": "6e967984",
   "metadata": {},
   "outputs": [],
   "source": []
  },
  {
   "cell_type": "markdown",
   "id": "ce5b86f0",
   "metadata": {},
   "source": [
    "<h2>Word relationships in WordNet</h2>"
   ]
  },
  {
   "cell_type": "code",
   "execution_count": null,
   "id": "92303a72",
   "metadata": {},
   "outputs": [],
   "source": []
  },
  {
   "cell_type": "markdown",
   "id": "097d43da",
   "metadata": {},
   "source": [
    "<h2>Word Sense Desambiguation</h2>"
   ]
  },
  {
   "cell_type": "code",
   "execution_count": null,
   "id": "6eae9f71",
   "metadata": {},
   "outputs": [],
   "source": []
  }
 ],
 "metadata": {
  "kernelspec": {
   "display_name": "Python 3",
   "language": "python",
   "name": "python3"
  },
  "language_info": {
   "codemirror_mode": {
    "name": "ipython",
    "version": 3
   },
   "file_extension": ".py",
   "mimetype": "text/x-python",
   "name": "python",
   "nbconvert_exporter": "python",
   "pygments_lexer": "ipython3",
   "version": "3.8.8"
  }
 },
 "nbformat": 4,
 "nbformat_minor": 5
}
