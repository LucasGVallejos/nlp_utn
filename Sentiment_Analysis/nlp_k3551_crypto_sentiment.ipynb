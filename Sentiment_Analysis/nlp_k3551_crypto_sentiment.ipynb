{
 "cells": [
  {
   "cell_type": "markdown",
   "id": "715b7abb",
   "metadata": {},
   "source": [
    "<h1>Emotion Detection and Information Retrieval</h1>"
   ]
  },
  {
   "cell_type": "markdown",
   "id": "9b62b9d1",
   "metadata": {},
   "source": [
    "<h2>Installing Libraries</h2>"
   ]
  },
  {
   "cell_type": "code",
   "execution_count": 84,
   "id": "d8b59b9c",
   "metadata": {
    "scrolled": true
   },
   "outputs": [],
   "source": [
    "#!pip install duckduckgo-search\n",
    "#!pip install search-engines\n",
    "#!pip install beautifulsoup4\n",
    "#!pip install spacy\n",
    "#!pip install spacy-langdetect\n",
    "#!python -m spacy download en_core_web_lg\n",
    "#!pip install spacytextblob"
   ]
  },
  {
   "cell_type": "markdown",
   "id": "0fcabefd",
   "metadata": {},
   "source": [
    "<h2>Defining Relevant Tokens</h2>"
   ]
  },
  {
   "cell_type": "code",
   "execution_count": 85,
   "id": "33dbb958",
   "metadata": {},
   "outputs": [],
   "source": [
    "cryptocurrency_name = \"bitcoin\"\n",
    "cryptocurrency_symbol = \"$BTC\"\n",
    "keywords = f\"{cryptocurrency_name} {cryptocurrency_symbol} sentiment\""
   ]
  },
  {
   "cell_type": "code",
   "execution_count": 86,
   "id": "cad1948f",
   "metadata": {},
   "outputs": [],
   "source": [
    "expected_tokens_text = f\"{cryptocurrency_name} \" \\\n",
    "                       f\"{cryptocurrency_symbol} \" \\\n",
    "                       f\"sentiments cryptos cryptocurrencies currencies markets\""
   ]
  },
  {
   "cell_type": "code",
   "execution_count": 87,
   "id": "3cd89a98",
   "metadata": {},
   "outputs": [
    {
     "data": {
      "text/plain": [
       "'bitcoin $BTC sentiments cryptos cryptocurrencies currencies markets'"
      ]
     },
     "execution_count": 87,
     "metadata": {},
     "output_type": "execute_result"
    }
   ],
   "source": [
    "expected_tokens_text"
   ]
  },
  {
   "cell_type": "markdown",
   "id": "f65c7cb2",
   "metadata": {},
   "source": [
    "<h2>Retrieve Links from Search Engines</h2>"
   ]
  },
  {
   "cell_type": "code",
   "execution_count": 88,
   "id": "83800c7e",
   "metadata": {},
   "outputs": [],
   "source": [
    "# References:\n",
    "############# DuckDuckGo\n",
    "# (GoogleSearch) 1. https://medium.com/@nutanbhogendrasharma/how-to-scrape-google-search-engines-in-python-44770b8eab5\n",
    "# (DuckDuckGo)   2. https://pypi.org/project/duckduckgo-search/\n",
    "# (DuckDuckGo vs GoogleSearch) 3. https://medium.com/hackernoon/duckduckgo-vs-google-what-you-need-to-know-869368b08c4f\n",
    "# (DuckDuckGo vs GoogleSearch) 4. https://www.cnet.com/tech/mobile/in-ios-17-apple-adds-ability-to-change-search-engine-in-safari-private-browsing/\n",
    "\n",
    "############# Serch engines like Bing or Yahoo\n",
    "#https://pypi.org/project/search-engines/"
   ]
  },
  {
   "cell_type": "markdown",
   "id": "904dd1f2",
   "metadata": {},
   "source": [
    "<h3> Importing Libraries </h3>"
   ]
  },
  {
   "cell_type": "code",
   "execution_count": 89,
   "id": "766f1287",
   "metadata": {},
   "outputs": [],
   "source": [
    "from duckduckgo_search import DDGS\n",
    "from search_engines import bing_search, yahoo_search\n",
    "import requests"
   ]
  },
  {
   "cell_type": "code",
   "execution_count": 90,
   "id": "c9f6788d",
   "metadata": {},
   "outputs": [],
   "source": [
    "MAX_SITES_RESULTS = 100\n",
    "TIMEOUT_SECONDS = 5"
   ]
  },
  {
   "cell_type": "markdown",
   "id": "fb0ee6c9",
   "metadata": {},
   "source": [
    "<h3>Functions</h3>"
   ]
  },
  {
   "cell_type": "code",
   "execution_count": 91,
   "id": "a0c7205a",
   "metadata": {},
   "outputs": [],
   "source": [
    "def get_results(search_engine, page_url):\n",
    "    try:\n",
    "        response = requests.get(page_url, timeout=TIMEOUT_SECONDS)\n",
    "        response.raise_for_status()  # Raise an exception for HTTP errors\n",
    "        html = response.text\n",
    "        results, next_page_url = search_engine.extract_search_results(html, page_url)\n",
    "        return results, response.url\n",
    "    except requests.exceptions.RequestException as e:\n",
    "        print(f\"An error occurred during 'get_results' function execution: {e}\")\n",
    "        return [], None"
   ]
  },
  {
   "cell_type": "code",
   "execution_count": 92,
   "id": "6b3a0012",
   "metadata": {},
   "outputs": [],
   "source": [
    "def fetch_search_results(search_engine, query, max_results):\n",
    "    search_results = []\n",
    "    search_url = search_engine.get_search_url(query)\n",
    "\n",
    "    while len(search_results) < max_results and search_url:\n",
    "        try:\n",
    "            next_search_results, search_url = get_results(search_engine, search_url)\n",
    "            for result in next_search_results:\n",
    "                if \"url\" in result:\n",
    "                    search_results.append(result['url'])\n",
    "        except Exception as e:\n",
    "            print(f\"An error occurred during 'fetch_search_results' function execution: {e}\")\n",
    "            break\n",
    "\n",
    "    return search_results[:max_results]\n"
   ]
  },
  {
   "cell_type": "markdown",
   "id": "b6dc3d31",
   "metadata": {},
   "source": [
    "<h3>DuckDuckGo for SearchEngine</h3>"
   ]
  },
  {
   "cell_type": "code",
   "execution_count": 93,
   "id": "b1e06589",
   "metadata": {
    "scrolled": true
   },
   "outputs": [
    {
     "data": {
      "text/plain": [
       "100"
      ]
     },
     "execution_count": 93,
     "metadata": {},
     "output_type": "execute_result"
    }
   ],
   "source": [
    "ddgs_results = list(map(lambda r: r[\"href\"], DDGS().text(keywords, max_results=MAX_SITES_RESULTS)))\n",
    "len(ddgs_results)"
   ]
  },
  {
   "cell_type": "markdown",
   "id": "1c3882e8",
   "metadata": {},
   "source": [
    "<h3>Bing for SearchEngine</h3>"
   ]
  },
  {
   "cell_type": "code",
   "execution_count": 94,
   "id": "c72e589f",
   "metadata": {
    "scrolled": true
   },
   "outputs": [
    {
     "name": "stdout",
     "output_type": "stream",
     "text": [
      "Extracted 0 results from page .\n",
      "Extracted 0 results from page .\n",
      "Extracted 0 results from page .\n",
      "Extracted 0 results from page .\n",
      "Extracted 0 results from page .\n",
      "Extracted 0 results from page .\n",
      "Extracted 0 results from page .\n",
      "Extracted 0 results from page .\n",
      "Extracted 0 results from page .\n",
      "Extracted 0 results from page .\n",
      "Extracted 0 results from page .\n",
      "Extracted 0 results from page .\n",
      "Extracted 0 results from page .\n",
      "Extracted 0 results from page .\n",
      "Extracted 0 results from page .\n",
      "Extracted 0 results from page .\n",
      "Extracted 0 results from page .\n",
      "Extracted 0 results from page .\n",
      "Extracted 0 results from page .\n",
      "Extracted 0 results from page .\n",
      "Extracted 0 results from page .\n",
      "Extracted 0 results from page .\n",
      "Extracted 9 results from page .\n",
      "Extracted 10 results from page .\n",
      "Extracted 10 results from page .\n",
      "Extracted 10 results from page .\n",
      "Extracted 10 results from page .\n",
      "Extracted 10 results from page .\n",
      "Extracted 10 results from page .\n",
      "Extracted 10 results from page .\n",
      "Extracted 10 results from page .\n",
      "Extracted 10 results from page .\n",
      "Extracted 10 results from page .\n"
     ]
    },
    {
     "data": {
      "text/plain": [
       "100"
      ]
     },
     "execution_count": 94,
     "metadata": {},
     "output_type": "execute_result"
    }
   ],
   "source": [
    "bing_search_results = fetch_search_results(bing_search, keywords, MAX_SITES_RESULTS)\n",
    "len(bing_search_results)"
   ]
  },
  {
   "cell_type": "markdown",
   "id": "ca1bba08",
   "metadata": {},
   "source": [
    "<h3>Yahoo for SearchEngine</h3>"
   ]
  },
  {
   "cell_type": "code",
   "execution_count": 95,
   "id": "8929ab89",
   "metadata": {
    "scrolled": true
   },
   "outputs": [
    {
     "data": {
      "text/plain": [
       "100"
      ]
     },
     "execution_count": 95,
     "metadata": {},
     "output_type": "execute_result"
    }
   ],
   "source": [
    "yahoo_search_results = fetch_search_results(yahoo_search, keywords, MAX_SITES_RESULTS)\n",
    "len(yahoo_search_results)"
   ]
  },
  {
   "cell_type": "markdown",
   "id": "8053aa5a",
   "metadata": {},
   "source": [
    "<h3> Mergin all Results </h3>"
   ]
  },
  {
   "cell_type": "code",
   "execution_count": 96,
   "id": "ca538139",
   "metadata": {},
   "outputs": [
    {
     "data": {
      "text/plain": [
       "{'',\n",
       " 'https://academy.binance.com/en/articles/what-is-crypto-market-sentiment',\n",
       " 'https://academy.binance.com/en/glossary/halving',\n",
       " 'https://alternative.me/crypto/',\n",
       " 'https://alternative.me/crypto/fear-and-greed-index/',\n",
       " 'https://beincrypto.com/bitcoin-btc-will-not-reach-new-ath-until-2025-7991-people-poll/',\n",
       " 'https://beincrypto.com/learn/how-to-short-bitcoin/',\n",
       " 'https://beincrypto.com/price/bitcoin/price-prediction/',\n",
       " 'https://beincrypto.com/unbelievable-bitcoin-price-predictions-2023-top-analysts/',\n",
       " 'https://bitcoinist.com/bitcoin-sentiment-returns-neutral-prices-down/',\n",
       " 'https://bitcoinist.com/bitcoin-sentiment-surges-neutral-first-september/',\n",
       " 'https://coincodex.com/crypto/bitcoin-cash/price-prediction/',\n",
       " 'https://coincodex.com/crypto/bitcoin/price-prediction/',\n",
       " 'https://coincodex.com/sentiment/',\n",
       " 'https://coinmarketcap.com/currencies/bitcoin/',\n",
       " 'https://coinpedia.org/price-prediction/bitcoin-price-prediction/',\n",
       " 'https://cointelegraph.com/news/bitcoin-price-holds-as-institutional-investor-boosts-sentiment',\n",
       " 'https://cointelegraph.com/news/bitcoin-short-term-holders-panic-amid-nearly-100-unrealized-loss',\n",
       " 'https://cointelegraph.com/news/bitcoin-will-surge-in-2023-but-be-careful-what-you-wish-for',\n",
       " 'https://cointelegraph.com/news/btc-mining-difficulty-5-things-bitcoin-this-week',\n",
       " 'https://cointelegraph.com/news/btc-price-fear-svb-5-things-bitcoin-this-week',\n",
       " 'https://cointelegraph.com/news/btc-price-rally-doubt-bitcoin-young-supply-bear-market',\n",
       " 'https://cointelegraph.com/news/crypto-fear-and-greed-index-hits-highest-level-since-bitcoin-s-all-time-high',\n",
       " 'https://cointelegraph.com/news/gbtc-premium-stays-negative-suggests-bitcoin-price-sentiment-still-low',\n",
       " 'https://cointelegraph.com/news/uptober-might-be-over-bitcoin-price-data-shows-investor-sentiment-at-3-month-low',\n",
       " 'https://cointelegraph.com/news/war-cpi-28k-btc-price-5-things-bitcoin-week',\n",
       " 'https://cryptonews.com/exclusives/top-3-btc-sentiment-analysis-tools-how-they-work-how-to-use-6889.htm',\n",
       " 'https://cryptonews.com/news/bitcoin-price-prediction-as-btc-fast-approaches-29000-level-here-are-key-levels-watch.htm',\n",
       " 'https://cryptonews.com/news/bitcoin-price-prediction-btc-rises-4-amidst-dovish-fomc-sentiment.htm',\n",
       " 'https://cryptopotato.com/chainlink-link-defies-market-sentiment-bitcoin-btc-stalls-at-26-5k-weekend-watch/',\n",
       " 'https://cryptopotato.com/is-the-bitcoin-price-in-danger-btc-holders-sitting-on-major-unrealized-losses/',\n",
       " 'https://es.investing.com/crypto/bitcoin/btc-usd-scoreboard',\n",
       " 'https://insidebitcoins.com/news/bitcoin-price-prediction-btc-stops-the-drop-bullish-sentiments-taking-over',\n",
       " 'https://investorplace.com/2023/04/7-cryptos-to-watch-as-market-sentiment-hits-a-snag/',\n",
       " 'https://investorplace.com/2023/10/7-cryptos-to-watch-as-a-hot-jobs-report-cools-sentiment/',\n",
       " 'https://link.springer.com/article/10.1007/s11156-022-01086-4',\n",
       " 'https://link.springer.com/article/10.1007/s42521-022-00052-y',\n",
       " 'https://milkroad.com/fear-greed/',\n",
       " 'https://news.bitcoin.com/bitcoin-ethereum-technical-analysis-btc-eth-consolidate-ahead-of-us-consumer-sentiment-data',\n",
       " 'https://news.bitcoin.com/bitcoin-ethereum-technical-analysis-btc-eth-consolidate-ahead-of-us-gdp-consumer-sentiment-data/',\n",
       " 'https://news.bitcoin.com/bitcoin-ethereum-technical-analysis-btc-eth-start-week-lower-as-bearish-sentiment-returns-to-markets/',\n",
       " 'https://news.bitcoin.com/bitcoin-ethereum-technical-analysis-btc-hits-1-week-low-bullish-sentiment-fades-on-monday',\n",
       " 'https://news.bitcoin.com/bitcoin-ethereum-technical-analysis-btc-nears-10-day-low-as-bears-regain-market-sentiment/',\n",
       " 'https://news.bitcoin.com/bitcoin-sentiment-on-twitter-highest-level-in-3-years/',\n",
       " 'https://news.bitcoin.com/bitcoins-bearish-prices-at-the-end-of-2021-not-much-different-than-8-previous-year-end-cycles/',\n",
       " 'https://royalsocietypublishing.org/doi/10.1098/rsos.220276',\n",
       " 'https://seekingalpha.com/article/4593766-bitcoin-surges-81-percent-ytd-is-the-rally-for-real-or-just-fomo',\n",
       " 'https://seekingalpha.com/article/4635271-bitcoin-why-im-buying-14-year-old-tulips-with-both-hands',\n",
       " 'https://seekingalpha.com/news/3982463-bitcoin-rises-to-one-year-high-shrugging-off-stock-market-blues',\n",
       " 'https://twitter.com/btcsentimentCOM',\n",
       " 'https://www.augmento.ai/bitcoin-sentiment/',\n",
       " 'https://www.bitdegree.org/cryptocurrency-prices/fear-and-greed-index',\n",
       " 'https://www.bittsanalytics.com/sentiment-index/BTC',\n",
       " 'https://www.bloomberg.com/news/articles/2023-10-10/bitcoin-btc-tightens-grip-on-crypto-in-sign-of-wary-investor-mood',\n",
       " 'https://www.bloomberg.com/news/articles/2023-10-17/bitcoin-btc-10-jump-to-30-000-hints-at-playbook-for-spot-etfs',\n",
       " 'https://www.cmegroup.com/markets/cryptocurrencies/bitcoin/bitcoin.html',\n",
       " 'https://www.cnbc.com/2023/10/18/mike-novogratz-thinks-the-sec-will-approve-a-bitcoin-etf-as-early-as-this-year.html',\n",
       " 'https://www.coinbase.com/price/bitcoin',\n",
       " 'https://www.coinbase.com/price/bitcoin/usd',\n",
       " 'https://www.coindesk.com/consensus-magazine/2023/10/16/whats-all-the-fuss-about-bitcoin-etfs/',\n",
       " 'https://www.coindesk.com/markets/2022/01/06/market-wrap-bitcoin-sentiment-turns-extremely-bearish/',\n",
       " 'https://www.coindesk.com/markets/2023/10/18/bitcoin-nears-29k-as-fidelity-etf-amendment-bumps-bullish-sentiment/',\n",
       " 'https://www.coindesk.com/markets/2023/10/18/spot-bitcoin-etf-approvals-could-add-1-trillion-to-crypto-market-cap-cryptoquant-says/',\n",
       " 'https://www.coindesk.com/tag/bitcoin-sentiment-index/',\n",
       " 'https://www.crypto-sentiment.com/bitcoin-sentiment',\n",
       " 'https://www.cryptoeq.io/sentiment-report/sentiment/bitcoin',\n",
       " 'https://www.dailyfx.com/bitcoin',\n",
       " 'https://www.dailyfx.com/sentiment-report',\n",
       " 'https://www.fool.com/investing/2023/04/02/is-bitcoin-a-screaming-buy-right-now-this-metric-s/',\n",
       " 'https://www.fool.com/investing/2023/10/15/should-you-buy-bitcoin-while-its-below-30000/',\n",
       " 'https://www.forbes.com/advisor/au/investing/cryptocurrency/bitcoin-halving/',\n",
       " 'https://www.forbes.com/sites/digital-assets/2023/09/05/bitcoin-whales-show-bullish-sentiment-during-market-fluctuations/',\n",
       " 'https://www.fxstreet.com/cryptocurrencies/bitcoin',\n",
       " 'https://www.fxstreet.com/cryptocurrencies/news/bitcoin-bulls-in-full-retreat-as-btc-sentiment-slumps-to-fear-territory-202104260404',\n",
       " 'https://www.fxstreet.com/cryptocurrencies/news/bitcoin-whales-signal-accumulation-trend-while-fear-subsides-202310160814',\n",
       " 'https://www.google.com/finance/quote/BTC-USDT',\n",
       " 'https://www.ig.com/en/forex/markets-forex/bitcoin-1',\n",
       " 'https://www.investing.com/crypto/bitcoin/bitcoin-futures-scoreboard',\n",
       " 'https://www.investing.com/crypto/bitcoin/btc-usd-scoreboard',\n",
       " 'https://www.investing.com/news/cryptocurrency-news/sentiment-for-bitcoin-btc-remains-negative-santiment-feed-2903442',\n",
       " 'https://www.investopedia.com/articles/investing/052014/why-bitcoins-value-so-volatile.asp',\n",
       " 'https://www.kucoin.com/learn/trading/sentiment-analysis-in-crypto-trading-a-beginners-guide',\n",
       " 'https://www.lookintobitcoin.com/',\n",
       " 'https://www.lookintobitcoin.com/bitcoin-price-live/',\n",
       " 'https://www.lookintobitcoin.com/charts/active-address-sentiment-indicator/',\n",
       " 'https://www.lookintobitcoin.com/charts/bitcoin-fear-and-greed-index/',\n",
       " 'https://www.marketbeat.com/cryptocurrencies/bitcoin/',\n",
       " 'https://www.msn.com/en-us/money/markets/bitcoin-s-dance-with-the-28-000-threshold-a-market-sentiment-indicator/ar-AA1inPTl',\n",
       " 'https://www.nasdaq.com/articles/the-effect-of-sentiment-on-the-bitcoin-price',\n",
       " 'https://www.ncbi.nlm.nih.gov/pmc/articles/PMC9581699/',\n",
       " 'https://www.newsbtc.com/news/bitcoin/bitcoin-investor-sentiment/',\n",
       " 'https://www.newsbtc.com/news/bitcoin/bitcoin-price-prediction-elliott-wave-theory-btc/',\n",
       " 'https://www.newsbtc.com/news/bitcoin/bitcoin-trader-sentiment-greed-btc-jumps-25000/',\n",
       " 'https://www.newsbtc.com/news/bitcoin/buy-signal-bitcoin-investor-sentiment-falls-to-lowest-level-in-two-months/',\n",
       " 'https://www.newsbtc.com/news/stellar/stellar-xlm-sheds-13-as-bearish-sentiments-take-over/',\n",
       " 'https://www.outlookindia.com/outlook-spotlight/btc-and-eth-ready-to-bounce-back-why-30-000-and-2-000-price-targets-still-in-play-for-2023-news-325242',\n",
       " 'https://www.researchgate.net/publication/346808998_A_complete_vader-based_sentiment_analysis_of_bitcoin_BTC_tweets_during_the_ERA_of_COVID-19',\n",
       " 'https://www.researchgate.net/publication/357915029_Can_Bitcoin_be_a_safe_haven_in_fear_sentiment',\n",
       " 'https://www.statista.com/statistics/1343514/bitcoin-sentiment/',\n",
       " 'https://www.stockgeist.ai/crypto-sentiment-analysis/',\n",
       " 'https://www.tandfonline.com/doi/full/10.1080/15427560.2021.1950723',\n",
       " 'https://www.tradingview.com/symbols/BTCUSD/history-timeline/',\n",
       " 'https://www.wsj.com/market-data/quotes/fx/BTCUSD'}"
      ]
     },
     "execution_count": 96,
     "metadata": {},
     "output_type": "execute_result"
    }
   ],
   "source": [
    "search_engines_results = set().union(yahoo_search_results, bing_search_results, ddgs_results)\n",
    "search_engines_results"
   ]
  },
  {
   "cell_type": "code",
   "execution_count": 97,
   "id": "a62f2ac5",
   "metadata": {},
   "outputs": [
    {
     "data": {
      "text/plain": [
       "103"
      ]
     },
     "execution_count": 97,
     "metadata": {},
     "output_type": "execute_result"
    }
   ],
   "source": [
    "len(search_engines_results)"
   ]
  },
  {
   "cell_type": "markdown",
   "id": "d959a260",
   "metadata": {},
   "source": [
    "<h2>Web Scraping</h2>"
   ]
  },
  {
   "cell_type": "code",
   "execution_count": 98,
   "id": "80800ec1",
   "metadata": {},
   "outputs": [],
   "source": [
    "# References:\n",
    "# (BeautifulSoup) 1. https://ai.plainenglish.io/mastering-web-scraping-and-sentiment-analysis-with-python-and-machine-learning-255d1d6234c5\n",
    "#                 2. https://j2logo.com/python/web-scraping-con-python-guia-inicio-beautifulsoup/\n",
    "#                 3. https://www.geeksforgeeks.org/remove-all-style-scripts-and-html-tags-using-beautifulsoup/"
   ]
  },
  {
   "cell_type": "markdown",
   "id": "213dbf95",
   "metadata": {},
   "source": [
    "<h3> Importing Libraries </h3>"
   ]
  },
  {
   "cell_type": "code",
   "execution_count": 99,
   "id": "6d9381f1",
   "metadata": {},
   "outputs": [],
   "source": [
    "from bs4 import BeautifulSoup\n",
    "import re"
   ]
  },
  {
   "cell_type": "code",
   "execution_count": 100,
   "id": "e640b3c9",
   "metadata": {},
   "outputs": [],
   "source": [
    "selectors_to_remove = [\"header\", \"div.header\", \"footer\", \"script\", \"noscript\", \"iframe\"]"
   ]
  },
  {
   "cell_type": "markdown",
   "id": "38d89519",
   "metadata": {},
   "source": [
    "<h3>Functions</h3>"
   ]
  },
  {
   "cell_type": "code",
   "execution_count": 101,
   "id": "43b364a9",
   "metadata": {},
   "outputs": [],
   "source": [
    "def fetch_page_content(page_url):\n",
    "    try:\n",
    "        response = requests.get(page_url, timeout=TIMEOUT_SECONDS)\n",
    "        response.raise_for_status()\n",
    "        return response.text\n",
    "    except Exception as e:\n",
    "        print(f\"Error fetching page content: {e}\")\n",
    "        return None"
   ]
  },
  {
   "cell_type": "code",
   "execution_count": 102,
   "id": "c7b30bfd",
   "metadata": {},
   "outputs": [],
   "source": [
    "def remove_unwanted_elements(soup):\n",
    "    for selector in selectors_to_remove:\n",
    "        elements = soup.body.select(selector)\n",
    "        for element in elements:\n",
    "            element.decompose()"
   ]
  },
  {
   "cell_type": "code",
   "execution_count": 103,
   "id": "ba6cb42f",
   "metadata": {},
   "outputs": [],
   "source": [
    "def get_mineable_text_from_soup(soup):\n",
    "    remove_unwanted_elements(soup)\n",
    "    return \" \".join(soup.stripped_strings)"
   ]
  },
  {
   "cell_type": "code",
   "execution_count": 104,
   "id": "4791d6d7",
   "metadata": {},
   "outputs": [],
   "source": [
    "def get_page_content(page_url):\n",
    "    try:\n",
    "        page_content = fetch_page_content(page_url)\n",
    "        if page_content:\n",
    "            soup = BeautifulSoup(page_content, \"html.parser\")\n",
    "        \n",
    "            page_title = soup.find(\"title\").get_text().strip()\n",
    "            print(f\"Title web page: {page_title}\")\n",
    "        \n",
    "            mineable_text = get_mineable_text_from_soup(soup)\n",
    "            \n",
    "            return {\n",
    "                'title': page_title,\n",
    "                'text': mineable_text\n",
    "            }\n",
    "    except Exception as e:\n",
    "        print(f\"Error in retrieving {page_url}\")\n",
    "        print(f\"An error occurred {e}\")\n",
    "        return None"
   ]
  },
  {
   "cell_type": "code",
   "execution_count": 105,
   "id": "cc8bb9bd",
   "metadata": {
    "scrolled": true
   },
   "outputs": [
    {
     "name": "stdout",
     "output_type": "stream",
     "text": [
      "Error fetching page content: Invalid URL '': No scheme supplied. Perhaps you meant http://?\n",
      "Title web page: Bitcoin bulls in full retreat as BTC sentiment slumps to 'fear' territory\n",
      "Error fetching page content: 403 Client Error: Forbidden for url: https://cointelegraph.com/news/uptober-might-be-over-bitcoin-price-data-shows-investor-sentiment-at-3-month-low\n",
      "Title web page: Crypto Market Sentiment Analysis - Stockgeist\n",
      "Title web page: Market Wrap: Bitcoin Sentiment Turns Extremely Bearish\n",
      "Error fetching page content: 403 Client Error: Forbidden for url: https://news.bitcoin.com/bitcoin-ethereum-technical-analysis-btc-eth-consolidate-ahead-of-us-consumer-sentiment-data\n",
      "Error fetching page content: 403 Client Error: Forbidden for url: https://cointelegraph.com/news/crypto-fear-and-greed-index-hits-highest-level-since-bitcoin-s-all-time-high\n",
      "Error fetching page content: HTTPSConnectionPool(host='www.forbes.com', port=443): Read timed out. (read timeout=5)\n",
      "Title web page: Fear And Greed Index | LookIntoBitcoin\n",
      "Error in retrieving https://twitter.com/btcsentimentCOM\n",
      "An error occurred 'NoneType' object has no attribute 'get_text'\n",
      "Error fetching page content: 403 Client Error: Forbidden for url: https://www.coinbase.com/price/bitcoin\n",
      "Error fetching page content: 403 Client Error: Forbidden for url: https://news.bitcoin.com/bitcoin-ethereum-technical-analysis-btc-nears-10-day-low-as-bears-regain-market-sentiment/\n",
      "Title web page: Bitcoin price today, BTC to USD live price, marketcap and chart | CoinMarketCap\n",
      "Error fetching page content: 403 Client Error: Forbidden for url: https://cointelegraph.com/news/gbtc-premium-stays-negative-suggests-bitcoin-price-sentiment-still-low\n",
      "Error fetching page content: 403 Client Error: Forbidden for url: https://beincrypto.com/unbelievable-bitcoin-price-predictions-2023-top-analysts/\n",
      "Title web page: Bitcoin Sentiment – Bull & Bear Index – Augmento\n",
      "Error fetching page content: 403 Client Error: Forbidden for url: https://news.bitcoin.com/bitcoin-ethereum-technical-analysis-btc-eth-consolidate-ahead-of-us-gdp-consumer-sentiment-data/\n",
      "Error fetching page content: HTTPSConnectionPool(host='www.bitdegree.org', port=443): Read timed out. (read timeout=5)\n",
      "Error fetching page content: 403 Client Error: Forbidden for url: https://news.bitcoin.com/bitcoins-bearish-prices-at-the-end-of-2021-not-much-different-than-8-previous-year-end-cycles/\n",
      "Error fetching page content: 403 Client Error: Forbidden for url: https://www.investing.com/news/cryptocurrency-news/sentiment-for-bitcoin-btc-remains-negative-santiment-feed-2903442\n",
      "Error fetching page content: HTTPSConnectionPool(host='www.coindesk.com', port=443): Read timed out. (read timeout=5)\n",
      "Error fetching page content: HTTPSConnectionPool(host='www.coindesk.com', port=443): Read timed out. (read timeout=5)\n",
      "Title web page: Bitcoin Price Live | LookIntoBitcoin\n",
      "Title web page: Trade USD | USD to  | Bitcoin (USD)  | IG International\n",
      "Title web page: sentix Bitcoin sentiment index - Crypto Currencies Sentiment\n",
      "Title web page: Is the future of bitcoin safe? A triangulation approach in the reality of BTC market through a sentiments analysis | SpringerLink\n",
      "Error fetching page content: 403 Client Error: Forbidden for url: https://es.investing.com/crypto/bitcoin/btc-usd-scoreboard\n",
      "Title web page: Is the Bitcoin Price in Danger? BTC Holders Sitting on Major Unrealized Losses\n",
      "Title web page: Should You Buy Bitcoin While It's Below $30,000? | The Motley Fool\n",
      "Title web page: BTCUSD history — Timeline of major events — TradingView\n",
      "Error fetching page content: 403 Client Error: Forbidden for url: https://cointelegraph.com/news/bitcoin-will-surge-in-2023-but-be-careful-what-you-wish-for\n",
      "Error fetching page content: 403 Client Error: Forbidden for url: https://www.wsj.com/market-data/quotes/fx/BTCUSD\n",
      "Title web page: Bitcoin rises to one-year high, shrugging off stock market blues (Cryptocurrency:BTC-USD) | Seeking Alpha\n",
      "Error fetching page content: HTTPSConnectionPool(host='www.investopedia.com', port=443): Read timed out. (read timeout=5)\n",
      "Title web page: Fidelity Spot Bitcoin ETF Amendment Spurs BTC Jump on SEC Dialog Speculation\n",
      "Title web page: Bitcoin Price Prediction, News, and Analysis (BTC)\n",
      "Error fetching page content: 403 Client Error: Forbidden for url: https://www.researchgate.net/publication/346808998_A_complete_vader-based_sentiment_analysis_of_bitcoin_BTC_tweets_during_the_ERA_of_COVID-19\n",
      "Title web page: Home | LookIntoBitcoin\n",
      "Error fetching page content: 403 Client Error: Forbidden for url: https://royalsocietypublishing.org/doi/10.1098/rsos.220276\n",
      "Error fetching page content: 403 Client Error: Forbidden for url: https://beincrypto.com/price/bitcoin/price-prediction/\n",
      "Error fetching page content: 403 Client Error: Forbidden for url: https://www.outlookindia.com/outlook-spotlight/btc-and-eth-ready-to-bounce-back-why-30-000-and-2-000-price-targets-still-in-play-for-2023-news-325242\n",
      "Error fetching page content: 403 Client Error: Forbidden for url: https://www.investing.com/crypto/bitcoin/btc-usd-scoreboard\n",
      "Title web page: Bitcoin Investor Sentiment Remains Steady As BTC Stalls At $16,000\n",
      "Title web page: Crypto Fear & Greed Index for October 19, 2023\n",
      "Title web page: Bitcoin Sentiment Returns To Neutral As Price Tumbles Down\n",
      "Error fetching page content: 403 Client Error: Forbidden for url: https://news.bitcoin.com/bitcoin-ethereum-technical-analysis-btc-hits-1-week-low-bullish-sentiment-fades-on-monday\n",
      "Title web page: Bitcoin whales signal accumulation trend while fear subsides\n",
      "Error fetching page content: 403 Client Error: Forbidden for url: https://news.bitcoin.com/bitcoin-ethereum-technical-analysis-btc-eth-start-week-lower-as-bearish-sentiment-returns-to-markets/\n",
      "Title web page: Stellar (XLM) Sheds 13% As Bearish Sentiment Takes Over\n",
      "Error fetching page content: 403 Client Error: Forbidden for url: https://www.tandfonline.com/doi/full/10.1080/15427560.2021.1950723\n",
      "Title web page: 7 Cryptos to Watch as Market Sentiment Hits a Snag | InvestorPlace\n",
      "Title web page: Chainlink (LINK) Defies Market Sentiment, Bitcoin (BTC) Stalls at $26.5K (Weekend Watch)\n",
      "Title web page: Bitcoin Sentiment Surges To Neutral For First Time In Sept.\n",
      "Title web page: Bitcoin Overview - CME Group\n",
      "Title web page: AASI (Active Address Sentiment Indicator) | LookIntoBitcoin\n",
      "Title web page: Bitcoin Surges 81% YTD: Is The Rally For Real Or Just FOMO? (BTC-USD) | Seeking Alpha\n",
      "Title web page: Bloomberg - Are you a robot?\n",
      "Error fetching page content: 403 Client Error: Forbidden for url: https://www.investing.com/crypto/bitcoin/bitcoin-futures-scoreboard\n",
      "Title web page: Bitcoin NVT ratio 2022 | Statista\n",
      "Title web page: MSN\n",
      "Error fetching page content: HTTPSConnectionPool(host='www.bittsanalytics.com', port=443): Read timed out. (read timeout=5)\n",
      "Title web page: Bitcoin: Why Iâm Buying 14-Year Old Tulips With Both Hands (BTC-USD) | Seeking Alpha\n",
      "Title web page: undefined (undefined): Sentiment, Live Charts, Signals | CryptoEQ\n",
      "Title web page: Crypto Sentiment | CoinCodex\n",
      "Title web page: Investor sentiment and bitcoin prices | SpringerLink\n",
      "Title web page: Crypto Fear & Greed Index - Bitcoin Sentiment - Alternative.me\n",
      "Error fetching page content: 403 Client Error: Forbidden for url: https://cointelegraph.com/news/btc-mining-difficulty-5-things-bitcoin-this-week\n",
      "Title web page: Bitcoin Price Prediction 2023, 2024, 2025, 2026 - 2030\n",
      "Title web page: Buy Signal? Bitcoin Investor Sentiment Falls To Lowest Level In Two Months\n",
      "Title web page: Bitcoin Cash (BCH) Price Prediction 2023, 2024, 2025â2030 | CoinCodex\n",
      "Title web page: Bitcoin Trader Sentiment Returns To Greed As BTC Jumps Past $25,000\n",
      "Error fetching page content: 403 Client Error: Forbidden for url: https://cointelegraph.com/news/war-cpi-28k-btc-price-5-things-bitcoin-week\n",
      "Error fetching page content: 403 Client Error: Forbidden for url: https://www.ncbi.nlm.nih.gov/pmc/articles/PMC9581699/\n",
      "Title web page: Bitcoin Price Prediction as BTC Fast Approaches $29,000 Level â Here are Key Levels to Watch\n",
      "Error fetching page content: HTTPSConnectionPool(host='www.nasdaq.com', port=443): Read timed out. (read timeout=5)\n",
      "Error fetching page content: 403 Client Error: Forbidden for url: https://cointelegraph.com/news/btc-price-rally-doubt-bitcoin-young-supply-bear-market\n"
     ]
    },
    {
     "name": "stdout",
     "output_type": "stream",
     "text": [
      "Title web page: Mike Novogratz: SEC will approve bitcoin ETF as early as this year\n",
      "Title web page: Crypto Dashboard - Alternative.me\n",
      "Title web page: 7 Cryptos to Watch as a Hot Jobs Report Cools Sentiment | InvestorPlace\n",
      "Error fetching page content: 403 Client Error: Forbidden for url: https://www.coinbase.com/price/bitcoin/usd\n",
      "Title web page: Bitcoin Price Today | BTC Live Chart and Forecast\n",
      "Title web page: 3 Bitcoin Sentiment Analysis Tools: How They Work & How to Use Them\n",
      "Title web page: Why Do Crypto Traders Care About Spot Market Bitcoin (BTC) Exchange-Traded Funds (ETFs)?\n",
      "Error fetching page content: 403 Client Error: Forbidden for url: https://cointelegraph.com/news/bitcoin-short-term-holders-panic-amid-nearly-100-unrealized-loss\n",
      "Title web page: Bitcoin Price Prediction: What Elliott Wave Theory Suggests Is Next\n",
      "Title web page: Bitcoin Price Prediction: BTC Stops The Drop - Bullish Sentiments Taking Over?\n",
      "Title web page: IG Client Sentiment Report 2023-10-18 20:00\n",
      "Title web page: Bitcoin Price Prediction: BTC Rises 4% Amidst Dovish FOMC Sentiment\n",
      "Title web page: Bitcoin (BTC) Price, Real-time Quote & News - Google Finance\n",
      "Title web page: Halving | Binance Academy\n",
      "Title web page: Bitcoin Technical Analysis - FXStreet\n",
      "Error fetching page content: 403 Client Error: Forbidden for url: https://www.researchgate.net/publication/357915029_Can_Bitcoin_be_a_safe_haven_in_fear_sentiment\n",
      "Title web page: What Is Crypto Market Sentiment? | Binance Academy\n",
      "Error fetching page content: 403 Client Error: Forbidden for url: https://cointelegraph.com/news/bitcoin-price-holds-as-institutional-investor-boosts-sentiment\n",
      "Title web page: Sentiment Analysis in Crypto Trading: A Beginners' Guide | KuCoin Learn\n",
      "Error fetching page content: 403 Client Error: Forbidden for url: https://beincrypto.com/bitcoin-btc-will-not-reach-new-ath-until-2025-7991-people-poll/\n",
      "Title web page: Bloomberg - Are you a robot?\n",
      "Title web page: Is Bitcoin a Screaming Buy Right Now? This Metric Says Yes | The Motley Fool\n",
      "Title web page: Bitcoin (BTC) Price Prediction 2023, 2024, 2025â2030 | CoinCodex\n",
      "Title web page: What Is Bitcoin Halving? – Forbes Advisor Australia\n",
      "Error fetching page content: 403 Client Error: Forbidden for url: https://news.bitcoin.com/bitcoin-sentiment-on-twitter-highest-level-in-3-years/\n",
      "Error fetching page content: 403 Client Error: Forbidden for url: https://beincrypto.com/learn/how-to-short-bitcoin/\n",
      "Error fetching page content: 403 Client Error: Forbidden for url: https://cointelegraph.com/news/btc-price-fear-svb-5-things-bitcoin-this-week\n"
     ]
    }
   ],
   "source": [
    "web_scrap_pages = list(filter(lambda wbp: wbp is not None, map(get_page_content, search_engines_results)))"
   ]
  },
  {
   "cell_type": "code",
   "execution_count": 106,
   "id": "1edd5118",
   "metadata": {},
   "outputs": [
    {
     "data": {
      "text/plain": [
       "60"
      ]
     },
     "execution_count": 106,
     "metadata": {},
     "output_type": "execute_result"
    }
   ],
   "source": [
    "len(web_scrap_pages)"
   ]
  },
  {
   "cell_type": "code",
   "execution_count": 107,
   "id": "5491169c",
   "metadata": {},
   "outputs": [
    {
     "data": {
      "text/plain": [
       "'Bitcoin bulls in full retreat as BTC sentiment slumps to \\'fear\\' territory Skip to main content TRENDING: EURUSD | GBPUSD | XAUUSD | AUDUSD | USDCAD TRENDING: EURUSD | GBPUSD | XAUUSD | AUDUSD | USDCAD | GET THE APP | Newsletter RATES & CHARTS Live Chart Forecast Poll Rates Table Technical Levels Technical Confluences Detector ASSETS EUR/USD GBP/USD USD/JPY AUD/USD NZD/USD USD/CAD GBP/JPY EUR/JPY Dollar Index Gold Oil SP500 News Forex News Institutional Research LATEST NEWS BY ASSETS EUR/USD GBP/USD USD/JPY AUD/USD NZD/USD USD/CAD USD/CHF EUR/GBP Dollar Index Commodities Bonds Equities Analysis Latest Analysis EDITORIAL SELECTION EUR/USD GBP/USD USD/JPY AUD/USD USD/CAD Dollar Index Oil Gold Stocks Commodities Bonds Risk On/Off Support and Resistance Elliott Wave Cycles Sentiment Economic Calendar Economic Calendar Interest Rates Market Hours TOP EVENTS Fed US CPI Nonfarm Payrolls BoC ECB BoE BoJ RBA RBNZ SNB Cryptos SECTIONS Latest News Industry News Rates & Charts Education SECTIONS Bitcoin Ethereum Ripple Litecoin Bitcoin Cash Cardano Stellar VeChain Chainlink Education Forex Education Shows Schedule Latest Live Videos MOST POPULAR COACHES Ed Ponsi Yohay Elam Sarid Harper Alex Ong Sam Seiden Steve Ruffley Carol Harmer George Hallmey Dr. Woody Johnson Navin Prithyani David Pegler Walter Peters Brokers Forex Brokers Broker News Newsletter ; Share: Bitcoin has not been this oversold since the March 2020 pandemic-induced panic episode. Sentiment on the \"Fear and Greed Index\" shows it is at its lowest levels in a year. Negative sentiment has\\xa0encompassed the crypto markets as Bitcoin\\'s social sentiment shifted to a full-on bearish outlook. Bitcoin\\'s 30-day MVRV ratio shows that short-term BTC traders are down by more than 10% on their initial investment. Bitcoin price dropped to lows in the $47,000 zone after recording its all-time high at almost $65,000 in the previous week. Bitcoin sell-off similar to March 2020 After panic sparked by the rumor that US President Joe Biden would be announcing a bill to increase capital gains taxes for those generating an annual income of more than $1 million, the crypto markets crashed in tandem with the stock market. While Bitcoin has recovered slightly since the deep plunge below $50,000, the market sentiment has shifted over the last week of price action. The Crypto Fear & Greed Index, which measures\\xa0current sentiments across the crypto market, moved from “Extreme Greed” toward\\xa0“ Fear ,” as most cryptocurrencies traded in a sea of red. The Index measures aspects of the market, including its volatility , trading volumes, momentum, social media sentiments\\xa0and trends. The current levels of fear around 27 points have not been seen since a year ago when\\xa0Bitcoin price action was affected by the ongoing coronavirus pandemic crisis. The low level shown by the metric indicates that investors are as worried about losing capital with Bitcoin as they were a year ago. Crypto fear and greed index Further, Bitcoin’s Network Realized Profit/Loss (NPL) on-chain metric suggests that coins moving on the blockchain are on average doing so at a loss, just ten days after Bitcoin set a record high. This dip argues that there has been a wave of panic sell-offs by short-term traders. Bitcoin network realized profit/loss Bitcoin’s social sentiment has also dropped to a negative value as the community continues to panic over the short-term potential price action of the leading cryptocurrency. Following Bitcoin’s \"peak hype,\"\\xa0a period of consolidation and correction has started. According to behavioral analytics firm Santiment, Bitcoin’s social metrics point out that investors are no longer expecting new highs and a perennial bull market in the near future. The market has shifted to a bearish outlook , which indicates the anticipation of further losses and deeper corrections. Bitcoin social sentiment Additionally, Bitcoin’s 30-day MVRV ratio that tracks the average profits and losses of all BTC addresses tells the story of short-term traders trading down by around 11.7% on their initial investment. Bitcoin MVRV The RSI metric, which calculates the balance between buyers and sellers, is almost at the lows of March 2020, indicating that Bitcoin is oversold. Bitcoin RSI Extreme bearish sentiment and oversold indicators could be pointing to short-term price bottoms, which could alleviate further selling pressure. Share: Cryptos feed Note: All information on this page is subject to change. The use of this website constitutes acceptance of our user agreement. Please read our privacy policy and legal disclaimer.  \\nOpinions expressed at FXstreet.com are those of the individual authors and do not necessarily represent the opinion of FXstreet.com or its management.  \\nRisk Disclosure: Trading foreign exchange on margin carries a high level of risk, and may not be suitable for all investors. The high degree of leverage can work against you as well as for you. Before deciding to invest in foreign exchange you should carefully consider your investment objectives, level of experience, and risk appetite. The possibility exists that you could sustain a loss of some or all of your initial investment and therefore you should not invest money that you cannot afford to lose. You should be aware of all the risks associated with foreign exchange trading, and seek advice from an independent financial advisor if you have any doubts. Join Telegram Follow us on Telegram Stay updated of\\n        all the news Join Telegram Recommended content Follow us on Telegram Stay updated of\\n        all the news Join Telegram Recommended Content Editors’ Picks Bitcoin-to-Gold Ratio more than halves between 2021 and 2023 Bitcoin-to-Gold ratio has more than halved over the past two years. Bitcoin is underperforming gold based on the 2023 ratio of 15 against its 2021 figure of 35.\\xa0Fed\\'s monetary tightening as a response to persistent inflation could propel Bitcoin\\'s price higher. More Bitcoin news Tether volume more than doubles as top whales accumulate USDT amid ETF mania Tether (USDT), the largest stablecoin by market cap, experienced a surge at the start of this week, reaching a two-month high in terms of transaction volume. Tether\\'s volume soared from $12 billion to an impressive $47 billion in just one day. More Tether news XRP whales emerge after Ripple IPO rumors resurface The XRP community is abuzz with speculation as Ripple\\'s IPO rumors have resurfaced. Meanwhile, a multi-million-dollar XRP whale transaction coincides with renewed discussions about the company\\'s potential initial public offering (IPO). More Ripple News Etheruem price rise remains restricted as “billionaire” wallets now hold a third of ETH tokens Ethereum price is finding difficulty in achieving a breakthrough for about two months now. However, this has not rubbed off on the investors in any way, who are standing more bullish now than they ever were, especially the big buck holders. More Ethereum news Bitcoin: Can BTC bears challenge crypto’s 2023 bull rally? Bitcoin (BTC) price is at a critical juncture in the weekly time frame, where bulls and bears are battling for control. However, a multi-time-frame analysis shows that BTC is bullish daily and is likely to rally higher. Read full analysis BTC ETH XRP Crypto partners in your location'"
      ]
     },
     "execution_count": 107,
     "metadata": {},
     "output_type": "execute_result"
    }
   ],
   "source": [
    "web_scrap_pages[0]['text']"
   ]
  },
  {
   "cell_type": "markdown",
   "id": "931dc7e0",
   "metadata": {},
   "source": [
    "<h2>Sentiment Analysis</h2>"
   ]
  },
  {
   "cell_type": "code",
   "execution_count": 108,
   "id": "5cc0035b",
   "metadata": {},
   "outputs": [],
   "source": [
    "# References:\n",
    "    #1. https://cnvrg.io/sentiment-analysis-python/\n",
    "    #2. https://spacy.io/usage/spacy-101\n",
    "    #3. https://importsem.com/evaluate-sentiment-analysis-in-bulk-with-spacy-and-python/"
   ]
  },
  {
   "cell_type": "markdown",
   "id": "362b8e48",
   "metadata": {},
   "source": [
    "<h3> Importing Libraries </h3>"
   ]
  },
  {
   "cell_type": "code",
   "execution_count": 122,
   "id": "0062e0b6",
   "metadata": {},
   "outputs": [],
   "source": [
    "import spacy\n",
    "from spacytextblob.spacytextblob import SpacyTextBlob\n",
    "import nltk\n",
    "from nltk.tokenize import word_tokenize\n",
    "from nltk.corpus import stopwords\n",
    "from nltk.stem import SnowballStemmer\n",
    "from sklearn.feature_extraction.text import CountVectorizer\n",
    "from datetime import date"
   ]
  },
  {
   "cell_type": "code",
   "execution_count": 123,
   "id": "38d93420",
   "metadata": {},
   "outputs": [],
   "source": [
    "nlp = spacy.load(\"en_core_web_lg\")\n",
    "nlp.add_pipe(\"spacytextblob\")\n",
    "today = date.today()"
   ]
  },
  {
   "cell_type": "markdown",
   "id": "aa769b86",
   "metadata": {},
   "source": [
    "<h3> Defining Custom CountVectorizer </h3>"
   ]
  },
  {
   "cell_type": "code",
   "execution_count": 111,
   "id": "184f8523",
   "metadata": {},
   "outputs": [],
   "source": [
    "class EnglishStemmedCountVectorizer(CountVectorizer):\n",
    "    def build_analyzer(self):\n",
    "        stemmer = SnowballStemmer('english')\n",
    "        stop_words = set(stopwords.words('english'))\n",
    "\n",
    "        def analyze(doc):\n",
    "            words = word_tokenize(doc.lower())\n",
    "            words = [stemmer.stem(word) for word in words if word not in stop_words]\n",
    "            return words\n",
    "\n",
    "        return analyze"
   ]
  },
  {
   "cell_type": "code",
   "execution_count": 112,
   "id": "8fd0903c",
   "metadata": {},
   "outputs": [],
   "source": [
    "english_analyzer = EnglishStemmedCountVectorizer()"
   ]
  },
  {
   "cell_type": "code",
   "execution_count": 113,
   "id": "fb0be74f",
   "metadata": {},
   "outputs": [],
   "source": [
    "X1 = english_analyzer.fit_transform([expected_tokens_text])"
   ]
  },
  {
   "cell_type": "code",
   "execution_count": 114,
   "id": "cf8023be",
   "metadata": {},
   "outputs": [
    {
     "data": {
      "text/plain": [
       "['$',\n",
       " 'bitcoin',\n",
       " 'btc',\n",
       " 'crypto',\n",
       " 'cryptocurr',\n",
       " 'currenc',\n",
       " 'market',\n",
       " 'sentiment']"
      ]
     },
     "execution_count": 114,
     "metadata": {},
     "output_type": "execute_result"
    }
   ],
   "source": [
    "expected_tokens = english_analyzer.get_feature_names_out().tolist() \n",
    "expected_tokens"
   ]
  },
  {
   "cell_type": "markdown",
   "id": "9fd01615",
   "metadata": {},
   "source": [
    "<h3>Functions</h3>"
   ]
  },
  {
   "cell_type": "code",
   "execution_count": null,
   "id": "394f6e88",
   "metadata": {},
   "outputs": [],
   "source": [
    "def get_page_sentiment(doc):\n",
    "    polarity = doc._.blob.polarity\n",
    "    "
   ]
  },
  {
   "cell_type": "code",
   "execution_count": null,
   "id": "4dd3df42",
   "metadata": {},
   "outputs": [],
   "source": [
    "def analyze_page_sentiment(page_title, mineable_text):\n",
    "    try:\n",
    "        print(f\"=== Analyzing Sentiment for {page_title} ===\")\n",
    "        doc = nlp(mineable_text)\n",
    "        #mineable_words = list(word_tokenize(mineable_text))\n",
    "        return {\n",
    "            \"timestamp\": today.isoformat(),\n",
    "        }\n",
    "    except Exception as e:\n",
    "        print(f\"Error in analyzing sentiment for {page_title}\")\n",
    "        print(f\"An error occurred {e}\")\n",
    "        return None"
   ]
  },
  {
   "cell_type": "code",
   "execution_count": 119,
   "id": "6c8e036c",
   "metadata": {},
   "outputs": [],
   "source": [
    "def analyze_page_content(page_title, mineable_text):\n",
    "    english_analyzer = EnglishStemmedCountVectorizer()\n",
    "    try:\n",
    "        print(f\"====== Analyzing Content for {page_title} ======\")\n",
    "        X1 = english_analyzer.fit_transform([mineable_text])\n",
    "        page_tokens = english_analyzer.get_feature_names_out().tolist() \n",
    "        if all(token not in expected_tokens for token in page_tokens):\n",
    "            raise Exception(\"Web content discarded, not a single token was found\")\n",
    "        \n",
    "        return  analyze_page_sentiment(page_title, mineable_text)\n",
    "\n",
    "    except Exception as e:\n",
    "        print(f\"Error in analyzing {page_title}\")\n",
    "        print(f\"An error occurred {e}\")\n",
    "        return None"
   ]
  },
  {
   "cell_type": "code",
   "execution_count": 117,
   "id": "c91ca69a",
   "metadata": {},
   "outputs": [],
   "source": [
    "def analyze_pages(web_pages):\n",
    "    try:\n",
    "        for web_page in web_pages:\n",
    "            result = analyze_page_content(web_page['title'], web_page['text'])\n",
    "    except Exception as e:\n",
    "        return None"
   ]
  },
  {
   "cell_type": "code",
   "execution_count": 118,
   "id": "9995eefe",
   "metadata": {},
   "outputs": [
    {
     "name": "stdout",
     "output_type": "stream",
     "text": [
      "===Analyzing Bitcoin bulls in full retreat as BTC sentiment slumps to 'fear' territory===\n",
      "===Analyzing Crypto Market Sentiment Analysis - Stockgeist===\n",
      "===Analyzing Market Wrap: Bitcoin Sentiment Turns Extremely Bearish===\n",
      "===Analyzing Fear And Greed Index | LookIntoBitcoin===\n",
      "===Analyzing Bitcoin price today, BTC to USD live price, marketcap and chart | CoinMarketCap===\n",
      "===Analyzing Bitcoin Sentiment – Bull & Bear Index – Augmento===\n",
      "===Analyzing Bitcoin Price Live | LookIntoBitcoin===\n",
      "===Analyzing Trade USD | USD to  | Bitcoin (USD)  | IG International===\n",
      "===Analyzing sentix Bitcoin sentiment index - Crypto Currencies Sentiment===\n",
      "===Analyzing Is the future of bitcoin safe? A triangulation approach in the reality of BTC market through a sentiments analysis | SpringerLink===\n",
      "===Analyzing Is the Bitcoin Price in Danger? BTC Holders Sitting on Major Unrealized Losses===\n",
      "===Analyzing Should You Buy Bitcoin While It's Below $30,000? | The Motley Fool===\n",
      "===Analyzing BTCUSD history — Timeline of major events — TradingView===\n",
      "===Analyzing Bitcoin rises to one-year high, shrugging off stock market blues (Cryptocurrency:BTC-USD) | Seeking Alpha===\n",
      "===Analyzing Fidelity Spot Bitcoin ETF Amendment Spurs BTC Jump on SEC Dialog Speculation===\n",
      "===Analyzing Bitcoin Price Prediction, News, and Analysis (BTC)===\n",
      "===Analyzing Home | LookIntoBitcoin===\n",
      "===Analyzing Bitcoin Investor Sentiment Remains Steady As BTC Stalls At $16,000===\n",
      "===Analyzing Crypto Fear & Greed Index for October 19, 2023===\n",
      "===Analyzing Bitcoin Sentiment Returns To Neutral As Price Tumbles Down===\n",
      "===Analyzing Bitcoin whales signal accumulation trend while fear subsides===\n",
      "===Analyzing Stellar (XLM) Sheds 13% As Bearish Sentiment Takes Over===\n",
      "===Analyzing 7 Cryptos to Watch as Market Sentiment Hits a Snag | InvestorPlace===\n",
      "===Analyzing Chainlink (LINK) Defies Market Sentiment, Bitcoin (BTC) Stalls at $26.5K (Weekend Watch)===\n",
      "===Analyzing Bitcoin Sentiment Surges To Neutral For First Time In Sept.===\n",
      "===Analyzing Bitcoin Overview - CME Group===\n",
      "===Analyzing AASI (Active Address Sentiment Indicator) | LookIntoBitcoin===\n",
      "===Analyzing Bitcoin Surges 81% YTD: Is The Rally For Real Or Just FOMO? (BTC-USD) | Seeking Alpha===\n",
      "===Analyzing Bloomberg - Are you a robot?===\n",
      "Error in analyzing Bloomberg - Are you a robot?\n",
      "An error occurred Web content discarded, not a single token was found\n",
      "===Analyzing Bitcoin NVT ratio 2022 | Statista===\n",
      "===Analyzing MSN===\n",
      "Error in analyzing MSN\n",
      "An error occurred Web content discarded, not a single token was found\n",
      "===Analyzing Bitcoin: Why Iâm Buying 14-Year Old Tulips With Both Hands (BTC-USD) | Seeking Alpha===\n",
      "===Analyzing undefined (undefined): Sentiment, Live Charts, Signals | CryptoEQ===\n",
      "===Analyzing Crypto Sentiment | CoinCodex===\n",
      "===Analyzing Investor sentiment and bitcoin prices | SpringerLink===\n",
      "===Analyzing Crypto Fear & Greed Index - Bitcoin Sentiment - Alternative.me===\n",
      "===Analyzing Bitcoin Price Prediction 2023, 2024, 2025, 2026 - 2030===\n",
      "===Analyzing Buy Signal? Bitcoin Investor Sentiment Falls To Lowest Level In Two Months===\n",
      "===Analyzing Bitcoin Cash (BCH) Price Prediction 2023, 2024, 2025â2030 | CoinCodex===\n",
      "===Analyzing Bitcoin Trader Sentiment Returns To Greed As BTC Jumps Past $25,000===\n",
      "===Analyzing Bitcoin Price Prediction as BTC Fast Approaches $29,000 Level â Here are Key Levels to Watch===\n",
      "===Analyzing Mike Novogratz: SEC will approve bitcoin ETF as early as this year===\n",
      "===Analyzing Crypto Dashboard - Alternative.me===\n",
      "===Analyzing 7 Cryptos to Watch as a Hot Jobs Report Cools Sentiment | InvestorPlace===\n",
      "===Analyzing Bitcoin Price Today | BTC Live Chart and Forecast===\n",
      "===Analyzing 3 Bitcoin Sentiment Analysis Tools: How They Work & How to Use Them===\n",
      "===Analyzing Why Do Crypto Traders Care About Spot Market Bitcoin (BTC) Exchange-Traded Funds (ETFs)?===\n",
      "===Analyzing Bitcoin Price Prediction: What Elliott Wave Theory Suggests Is Next===\n",
      "===Analyzing Bitcoin Price Prediction: BTC Stops The Drop - Bullish Sentiments Taking Over?===\n",
      "===Analyzing IG Client Sentiment Report 2023-10-18 20:00===\n",
      "===Analyzing Bitcoin Price Prediction: BTC Rises 4% Amidst Dovish FOMC Sentiment===\n",
      "===Analyzing Bitcoin (BTC) Price, Real-time Quote & News - Google Finance===\n",
      "===Analyzing Halving | Binance Academy===\n",
      "===Analyzing Bitcoin Technical Analysis - FXStreet===\n",
      "===Analyzing What Is Crypto Market Sentiment? | Binance Academy===\n",
      "===Analyzing Sentiment Analysis in Crypto Trading: A Beginners' Guide | KuCoin Learn===\n",
      "===Analyzing Bloomberg - Are you a robot?===\n",
      "Error in analyzing Bloomberg - Are you a robot?\n",
      "An error occurred Web content discarded, not a single token was found\n",
      "===Analyzing Is Bitcoin a Screaming Buy Right Now? This Metric Says Yes | The Motley Fool===\n",
      "===Analyzing Bitcoin (BTC) Price Prediction 2023, 2024, 2025â2030 | CoinCodex===\n",
      "===Analyzing What Is Bitcoin Halving? – Forbes Advisor Australia===\n"
     ]
    }
   ],
   "source": [
    "analyze_pages(web_scrap_pages)"
   ]
  },
  {
   "cell_type": "markdown",
   "id": "f993f251",
   "metadata": {},
   "source": [
    "<h2>Storage of Sentiment and Pages</h2>"
   ]
  },
  {
   "cell_type": "code",
   "execution_count": null,
   "id": "818ae1dd",
   "metadata": {},
   "outputs": [],
   "source": []
  }
 ],
 "metadata": {
  "kernelspec": {
   "display_name": "Python 3 (ipykernel)",
   "language": "python",
   "name": "python3"
  },
  "language_info": {
   "codemirror_mode": {
    "name": "ipython",
    "version": 3
   },
   "file_extension": ".py",
   "mimetype": "text/x-python",
   "name": "python",
   "nbconvert_exporter": "python",
   "pygments_lexer": "ipython3",
   "version": "3.9.12"
  }
 },
 "nbformat": 4,
 "nbformat_minor": 5
}
