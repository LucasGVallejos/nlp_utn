{
 "cells": [
  {
   "cell_type": "markdown",
   "id": "715b7abb",
   "metadata": {},
   "source": [
    "<h1>Emotion Detection and Information Retrieval</h1>"
   ]
  },
  {
   "cell_type": "markdown",
   "id": "9b62b9d1",
   "metadata": {},
   "source": [
    "<h2>Installing Libraries</h2>"
   ]
  },
  {
   "cell_type": "code",
   "execution_count": 55,
   "id": "d8b59b9c",
   "metadata": {
    "scrolled": true
   },
   "outputs": [],
   "source": [
    "#!pip install duckduckgo-search\n",
    "#!pip install search-engines"
   ]
  },
  {
   "cell_type": "markdown",
   "id": "0fcabefd",
   "metadata": {},
   "source": [
    "<h2>Defining Relevant Tokens</h2>"
   ]
  },
  {
   "cell_type": "code",
   "execution_count": 56,
   "id": "33dbb958",
   "metadata": {},
   "outputs": [],
   "source": [
    "cryptocurrency_name = \"bitcoin\"\n",
    "cryptocurrency_symbol = \"$BTC\"\n",
    "keywords = f\"{cryptocurrency_name} {cryptocurrency_symbol} sentiment\"\n",
    "keywords_for_news = f\"{cryptocurrency_name} crypto\""
   ]
  },
  {
   "cell_type": "markdown",
   "id": "f65c7cb2",
   "metadata": {},
   "source": [
    "<h2>Retrieve Links from Search Engines</h2>"
   ]
  },
  {
   "cell_type": "code",
   "execution_count": 57,
   "id": "83800c7e",
   "metadata": {},
   "outputs": [],
   "source": [
    "# References:\n",
    "############# DuckDuckGo\n",
    "# (GoogleSearch) 1. https://medium.com/@nutanbhogendrasharma/how-to-scrape-google-search-engines-in-python-44770b8eab5\n",
    "# (DuckDuckGo)   2. https://pypi.org/project/duckduckgo-search/\n",
    "# (DuckDuckGo vs GoogleSearch) 3. https://medium.com/hackernoon/duckduckgo-vs-google-what-you-need-to-know-869368b08c4f\n",
    "# (DuckDuckGo vs GoogleSearch) 4. https://www.cnet.com/tech/mobile/in-ios-17-apple-adds-ability-to-change-search-engine-in-safari-private-browsing/\n",
    "\n",
    "############# Serch engines like Bing or Yahoo\n",
    "#https://pypi.org/project/search-engines/"
   ]
  },
  {
   "cell_type": "markdown",
   "id": "904dd1f2",
   "metadata": {},
   "source": [
    "<h3> Importing Libraries </h3>"
   ]
  },
  {
   "cell_type": "code",
   "execution_count": 58,
   "id": "766f1287",
   "metadata": {},
   "outputs": [],
   "source": [
    "from duckduckgo_search import DDGS\n",
    "from search_engines import bing_search, yahoo_search\n",
    "import requests"
   ]
  },
  {
   "cell_type": "code",
   "execution_count": 59,
   "id": "c9f6788d",
   "metadata": {},
   "outputs": [],
   "source": [
    "MAX_SITES_RESULTS = 100\n",
    "TIMEOUT_SECONDS = 5"
   ]
  },
  {
   "cell_type": "markdown",
   "id": "fb0ee6c9",
   "metadata": {},
   "source": [
    "<h3>Functions</h3>"
   ]
  },
  {
   "cell_type": "code",
   "execution_count": 60,
   "id": "a0c7205a",
   "metadata": {},
   "outputs": [],
   "source": [
    "def get_results(search_engine, page_url):\n",
    "    try:\n",
    "        response = requests.get(page_url, timeout=TIMEOUT_SECONDS)\n",
    "        response.raise_for_status()  # Raise an exception for HTTP errors\n",
    "        html = response.text\n",
    "        results, next_page_url = search_engine.extract_search_results(html, page_url)\n",
    "        return results, response.url\n",
    "    except requests.exceptions.RequestException as e:\n",
    "        print(f\"An error occurred during 'get_results' function execution: {e}\")\n",
    "        return [], None"
   ]
  },
  {
   "cell_type": "code",
   "execution_count": 61,
   "id": "6b3a0012",
   "metadata": {},
   "outputs": [],
   "source": [
    "def fetch_search_results(search_engine, query, max_results):\n",
    "    search_results = []\n",
    "    search_url = search_engine.get_search_url(query)\n",
    "\n",
    "    while len(search_results) < max_results and search_url:\n",
    "        try:\n",
    "            next_search_results, search_url = get_results(search_engine, search_url)\n",
    "            for result in next_search_results:\n",
    "                if \"url\" in result:\n",
    "                    search_results.append(result['url'])\n",
    "        except Exception as e:\n",
    "            print(f\"An error occurred during 'fetch_search_results' function execution: {e}\")\n",
    "            break\n",
    "\n",
    "    return search_results[:max_results]\n"
   ]
  },
  {
   "cell_type": "markdown",
   "id": "b6dc3d31",
   "metadata": {},
   "source": [
    "<h3>DuckDuckGo for SearchEngine</h3>"
   ]
  },
  {
   "cell_type": "code",
   "execution_count": 62,
   "id": "b1e06589",
   "metadata": {
    "scrolled": true
   },
   "outputs": [
    {
     "data": {
      "text/plain": [
       "['https://alternative.me/crypto/fear-and-greed-index/',\n",
       " 'https://www.augmento.ai/bitcoin-sentiment/',\n",
       " 'https://www.newsbtc.com/bitcoin-news/bitcoin-sentiment-close-extreme-fear-why-matters/',\n",
       " 'https://cryptonews.com/exclusives/top-3-btc-sentiment-analysis-tools-how-they-work-how-to-use-6889.htm',\n",
       " 'https://cryptonews.com/news/bitcoin-price-prediction-as-btc-smashes-past-27000-resistance-best-time-buy.htm',\n",
       " 'https://twitter.com/btcsentimentCOM',\n",
       " 'https://cryptonews.com/news/bitcoin-price-prediction-marathons-record-kraken-deposits-uzbekistan-regulations.htm',\n",
       " 'https://www.forbes.com/sites/digital-assets/2023/10/03/elon-musk-declares-the-us-dollar-a-scam-amid-fears-of-33-trillion-us-debt-death-spiral-as-the-bitcoin-price-soars/',\n",
       " 'https://www.wsj.com/market-data/quotes/fx/BTCUSD',\n",
       " 'https://www.fxstreet.com/cryptocurrencies/news/top-3-price-prediction-bitcoin-ethereum-ripple-btc-could-shatter-28-200-during-next-run-202310041928',\n",
       " 'https://www.bloomberg.com/news/articles/2023-10-03/bitcoin-btc-price-dips-from-six-week-high-amid-bond-rout',\n",
       " 'https://insidebitcoins.com/news/bitcoin-price-prediction-will-btc-sustain-its-bullish-momentum-in-the-coming-weeks',\n",
       " 'https://www.bittsanalytics.com/sentiment-index/BTC',\n",
       " 'https://cryptonews.com/news/bitcoin-price-prediction-btc-rises-4-amidst-dovish-fomc-sentiment.htm',\n",
       " 'https://www.forbes.com/sites/roomykhan/2023/10/04/spot-bitcoin-etf-launch-will-solidify-crypto-as-a-distinct-asset-class/',\n",
       " 'https://news.yahoo.com/bitcoin-price-rally-blackrock-093152634.html',\n",
       " 'https://www.lookintobitcoin.com/charts/bitcoin-fear-and-greed-index/',\n",
       " 'https://www.forbes.com/sites/digital-assets/2023/10/02/flashing-red-warning-33-trillion-us-debt-death-spiral-could-suddenly-trigger-a-bitcoin-price-vicious-circle/',\n",
       " 'https://www.forbes.com/sites/digital-assets/2023/10/02/shocking-leak-blows-up-mystery-of-bitcoin-creator-satoshi-nakamoto/',\n",
       " 'https://coincodex.com/sentiment/',\n",
       " 'https://www.coindesk.com/markets/2023/10/05/bitcoin-enters-quiet-bull-market-as-safe-haven-from-bond-market-turmoil-analyst-says/',\n",
       " 'https://www.newsbtc.com/bitcoin-news/bitcoin-sentiment-neutral-traders-embrace-greed/',\n",
       " 'https://www.newsbtc.com/analysis/btc/bitcoin-investor-sentiment-flips-toward-greed-despite-fall-below-29000/',\n",
       " 'https://www.cryptoeq.io/sentiment-report/sentiment/bitcoin',\n",
       " 'https://news.bitcoin.com/bitcoin-ethereum-technical-analysis-btc-hits-1-week-low-bullish-sentiment-fades-on-monday',\n",
       " 'https://finbold.com/bitcoin-btc-immutable-imx-and-vc-spectra-spct-sustain-bullish-sentiment-in-crypto-community/',\n",
       " 'https://www.newsbtc.com/bitcoin-news/bitcoin-dip-worth-buying-market-sentiment/',\n",
       " 'https://www.crypto-sentiment.com/bitcoin-sentiment',\n",
       " 'https://news.bitcoin.com/bitcoin-ethereum-technical-analysis-btc-eth-consolidate-ahead-of-us-consumer-sentiment-data',\n",
       " 'https://coinpedia.org/price-prediction/bitcoin-price-prediction/',\n",
       " 'https://www.bitdegree.org/cryptocurrency-prices/fear-and-greed-index',\n",
       " 'https://www.fool.com/investing/2023/04/02/is-bitcoin-a-screaming-buy-right-now-this-metric-s/',\n",
       " 'https://www.coinbase.com/price/bitcoin',\n",
       " 'https://www.statista.com/statistics/1343514/bitcoin-sentiment/',\n",
       " 'https://www.ig.com/en/forex/markets-forex/bitcoin-1',\n",
       " 'https://news.bitcoin.com/bitcoin-ethereum-technical-analysis-btc-nears-10-day-low-as-bears-regain-market-sentiment/',\n",
       " 'https://news.bitcoin.com/bitcoin-ethereum-technical-analysis-btc-eth-start-week-lower-as-bearish-sentiment-returns-to-markets/',\n",
       " 'https://www.investing.com/news/cryptocurrency-news/sentiment-for-bitcoin-btc-remains-negative-santiment-feed-2903442',\n",
       " 'https://coincodex.com/crypto/bitcoin/price-prediction/',\n",
       " 'https://www.coindesk.com/tag/bitcoin-sentiment-index/',\n",
       " 'https://www.btcsentinel.com/',\n",
       " 'https://insidebitcoins.com/news/bitcoin-price-prediction-btc-stops-the-drop-bullish-sentiments-taking-over',\n",
       " 'https://www.btcsentinel.com/andamento-bitcoin-prezzo-BTC-eur-usd-grafici-analisi-tecnica/criptovalute/',\n",
       " 'https://www.ncbi.nlm.nih.gov/pmc/articles/PMC9581699/',\n",
       " 'https://www.researchgate.net/publication/346808998_A_complete_vader-based_sentiment_analysis_of_bitcoin_BTC_tweets_during_the_ERA_of_COVID-19',\n",
       " 'https://www.lookintobitcoin.com/',\n",
       " 'https://beincrypto.com/price/bitcoin/price-prediction/',\n",
       " 'https://investorplace.com/2023/04/7-cryptos-to-watch-as-market-sentiment-hits-a-snag/',\n",
       " 'https://beincrypto.com/unbelievable-bitcoin-price-predictions-2023-top-analysts/',\n",
       " 'https://www.coinglass.com/LongShortRatio',\n",
       " 'https://www.gemini.com/blog/introducing-geminis-bitcoinbuzz-btc-sentiment-indicator',\n",
       " 'https://www.coindesk.com/markets/',\n",
       " 'https://cointelegraph.com/news/crypto-fear-and-greed-index-hits-highest-level-since-bitcoin-s-all-time-high',\n",
       " 'https://cointelegraph.com/news/btc-price-fear-svb-5-things-bitcoin-this-week',\n",
       " 'https://www.fxstreet.com/cryptocurrencies/news/breaking-bitcoin-price-breaches-30-000-on-binance-in-mega-rally-202306211538',\n",
       " 'https://www.coindesk.com/markets/2022/01/06/market-wrap-bitcoin-sentiment-turns-extremely-bearish/',\n",
       " 'https://www.cmegroup.com/markets/cryptocurrencies/bitcoin/bitcoin.html',\n",
       " 'https://www.lookintobitcoin.com/bitcoin-price-live/',\n",
       " 'https://www.tandfonline.com/doi/full/10.1080/15427560.2021.1975285',\n",
       " 'https://news.bitcoin.com/bitcoin-ethereum-technical-analysis-btc-falls-below-24000-ahead-of-us-consumer-sentiment-data',\n",
       " 'https://www.coindesk.com/price/bitcoin/',\n",
       " 'https://www.newsbtc.com/analysis/btc/bitcoin-price-slide-27650/',\n",
       " 'https://beincrypto.com/learn/how-to-short-bitcoin/',\n",
       " 'https://www.emerald.com/insight/content/doi/10.1108/SEF-07-2021-0293/full/html',\n",
       " 'https://www.dailyfx.com/forex/technical/sentiment/2021/03/12/BITCOIN-IG-Client-Sentiment-0923.html',\n",
       " 'https://www.newsbtc.com/news/bitcoin/bitcoin-trader-sentiment-greed-btc-jumps-25000/',\n",
       " 'https://seekingalpha.com/article/4635271-bitcoin-why-im-buying-14-year-old-tulips-with-both-hands',\n",
       " 'https://www.crypto-sentiment.com/',\n",
       " 'https://dukespace.lib.duke.edu/dspace/bitstream/handle/10161/24081/Prediction of Bitcoin prices using Twitter Data and Natural Language Processing.pdf?sequence=2',\n",
       " 'https://www.newsbtc.com/news/bitcoin/buy-signal-bitcoin-investor-sentiment-falls-to-lowest-level-in-two-months/',\n",
       " 'https://bitcoinist.com/bitcoin-sentiment-returns-neutral-prices-down/',\n",
       " 'https://cfgi.io/bitcoin-fear-greed-index/',\n",
       " 'https://www.kaggle.com/datasets/gautamchettiar/bitcoin-sentiment-analysis-twitter-data',\n",
       " 'https://www.dailyfx.com/news/bitcoin-btc-usd-struggling-to-break-stubborn-resistance-around-25k-20230316.html',\n",
       " 'https://www.newsbtc.com/news/bitcoin/bitcoin-investor-sentiment/',\n",
       " 'https://cointelegraph.com/news/the-economics-of-bitcoin-halving-understanding-the-effects-on-price-and-market-sentiment',\n",
       " 'https://www.dailyfx.com/sentiment-report',\n",
       " 'https://www.newsbtc.com/news/stellar/stellar-xlm-sheds-13-as-bearish-sentiments-take-over/',\n",
       " 'https://www.cointree.com/learn/crypto-fear-and-greed-index/',\n",
       " 'https://www.bittsanalytics.com/sentiment/BTC',\n",
       " 'https://www.datawallet.com/crypto/crypto-fear-and-greed-index',\n",
       " 'https://news.bitcoin.com/bitcoin-sentiment-on-twitter-highest-level-in-3-years/',\n",
       " 'https://seekingalpha.com/news/3982463-bitcoin-rises-to-one-year-high-shrugging-off-stock-market-blues',\n",
       " 'https://seekingalpha.com/article/4593766-bitcoin-surges-81-percent-ytd-is-the-rally-for-real-or-just-fomo',\n",
       " 'https://www.newsbtc.com/news/measuring-bitcoin-public-sentiment-numbers-opinion/',\n",
       " 'https://santiment.net/',\n",
       " 'https://royalsocietypublishing.org/doi/10.1098/rsos.220276',\n",
       " 'https://cointelegraph.com/news/will-btc-ditch-the-bear-market-5-things-to-know-in-bitcoin-this-week',\n",
       " 'https://cointelegraph.com/news/bitcoin-will-surge-in-2023-but-be-careful-what-you-wish-for',\n",
       " 'https://datamish.com/',\n",
       " 'https://link.springer.com/article/10.1007/s42521-022-00052-y',\n",
       " 'https://www.google.com/finance/quote/BTC-USDT',\n",
       " 'https://www.forbes.com/advisor/au/investing/cryptocurrency/bitcoin-halving/',\n",
       " 'https://seekingalpha.com/news/4005725-bitcoin-bounces-off-summer-lows-in-wake-of-risk-on-sentiment',\n",
       " 'https://jfin-swufe.springeropen.com/articles/10.1186/s40854-022-00352-7',\n",
       " 'https://www.lookintobitcoin.com/charts/active-address-sentiment-indicator/',\n",
       " 'https://www.investing.com/crypto/bitcoin/btc-usd-scoreboard',\n",
       " 'https://www.investorsobserver.com/crypto/1/btc',\n",
       " 'https://cointelegraph.com/news/bitcoin-investor-sentiment-slumps-to-a-new-low-even-as-macro-and-equities-show-improvement',\n",
       " 'https://www.researchgate.net/publication/357915029_Can_Bitcoin_be_a_safe_haven_in_fear_sentiment']"
      ]
     },
     "execution_count": 62,
     "metadata": {},
     "output_type": "execute_result"
    }
   ],
   "source": [
    "ddgs_results = list(map(lambda r: r[\"href\"], DDGS().text(keywords, max_results=MAX_SITES_RESULTS)))\n",
    "ddgs_results"
   ]
  },
  {
   "cell_type": "markdown",
   "id": "1c3882e8",
   "metadata": {},
   "source": [
    "<h3>Bing for SearchEngine</h3>"
   ]
  },
  {
   "cell_type": "code",
   "execution_count": 63,
   "id": "c72e589f",
   "metadata": {
    "scrolled": true
   },
   "outputs": [
    {
     "name": "stdout",
     "output_type": "stream",
     "text": [
      "Extracted 10 results from page .\n",
      "Extracted 10 results from page .\n",
      "Extracted 10 results from page .\n",
      "Extracted 10 results from page .\n",
      "Extracted 10 results from page .\n",
      "Extracted 10 results from page .\n",
      "Extracted 10 results from page .\n",
      "Extracted 10 results from page .\n",
      "Extracted 10 results from page .\n",
      "Extracted 10 results from page .\n"
     ]
    },
    {
     "data": {
      "text/plain": [
       "['https://alternative.me/crypto/fear-and-greed-index/',\n",
       " 'https://es.investing.com/crypto/bitcoin/btc-usd-scoreboard',\n",
       " 'https://www.augmento.ai/bitcoin-sentiment/',\n",
       " 'https://coincodex.com/sentiment/',\n",
       " 'https://www.bittsanalytics.com/sentiment-index/BTC',\n",
       " 'https://www.newsbtc.com/bitcoin-news/bitcoin-sentiment-close-extreme-fear-why-matters/',\n",
       " 'https://www.fxstreet.com/cryptocurrencies/news/bitcoin-price-could-revisit-10-000-amid-growing-correlation-with-us-dollar-index-202310042140',\n",
       " 'https://finbold.com/bitcoin-btc-immutable-imx-and-vc-spectra-spct-sustain-bullish-sentiment-in-crypto-community/',\n",
       " 'https://www.bloomberg.com/news/articles/2023-10-03/bitcoin-btc-price-dips-from-six-week-high-amid-bond-rout',\n",
       " 'https://www.dailyfx.com/news/bitcoin-ethereum-jump-btc-usd-eth-usd-price-action-20231002.html',\n",
       " 'https://alternative.me/crypto/fear-and-greed-index/',\n",
       " 'https://es.investing.com/crypto/bitcoin/btc-usd-scoreboard',\n",
       " 'https://www.augmento.ai/bitcoin-sentiment/',\n",
       " 'https://coincodex.com/sentiment/',\n",
       " 'https://www.bittsanalytics.com/sentiment-index/BTC',\n",
       " 'https://www.newsbtc.com/bitcoin-news/bitcoin-sentiment-close-extreme-fear-why-matters/',\n",
       " 'https://www.fxstreet.com/cryptocurrencies/news/bitcoin-price-could-revisit-10-000-amid-growing-correlation-with-us-dollar-index-202310042140',\n",
       " 'https://finbold.com/bitcoin-btc-immutable-imx-and-vc-spectra-spct-sustain-bullish-sentiment-in-crypto-community/',\n",
       " 'https://www.bloomberg.com/news/articles/2023-10-03/bitcoin-btc-price-dips-from-six-week-high-amid-bond-rout',\n",
       " 'https://www.dailyfx.com/news/bitcoin-ethereum-jump-btc-usd-eth-usd-price-action-20231002.html',\n",
       " 'https://alternative.me/crypto/fear-and-greed-index/',\n",
       " 'https://es.investing.com/crypto/bitcoin/btc-usd-scoreboard',\n",
       " 'https://www.augmento.ai/bitcoin-sentiment/',\n",
       " 'https://coincodex.com/sentiment/',\n",
       " 'https://www.bittsanalytics.com/sentiment-index/BTC',\n",
       " 'https://www.newsbtc.com/bitcoin-news/bitcoin-sentiment-close-extreme-fear-why-matters/',\n",
       " 'https://www.fxstreet.com/cryptocurrencies/news/bitcoin-price-could-revisit-10-000-amid-growing-correlation-with-us-dollar-index-202310042140',\n",
       " 'https://finbold.com/bitcoin-btc-immutable-imx-and-vc-spectra-spct-sustain-bullish-sentiment-in-crypto-community/',\n",
       " 'https://www.bloomberg.com/news/articles/2023-10-03/bitcoin-btc-price-dips-from-six-week-high-amid-bond-rout',\n",
       " 'https://www.dailyfx.com/news/bitcoin-ethereum-jump-btc-usd-eth-usd-price-action-20231002.html',\n",
       " 'https://alternative.me/crypto/fear-and-greed-index/',\n",
       " 'https://es.investing.com/crypto/bitcoin/btc-usd-scoreboard',\n",
       " 'https://www.augmento.ai/bitcoin-sentiment/',\n",
       " 'https://coincodex.com/sentiment/',\n",
       " 'https://www.bittsanalytics.com/sentiment-index/BTC',\n",
       " 'https://www.newsbtc.com/bitcoin-news/bitcoin-sentiment-close-extreme-fear-why-matters/',\n",
       " 'https://www.fxstreet.com/cryptocurrencies/news/bitcoin-price-could-revisit-10-000-amid-growing-correlation-with-us-dollar-index-202310042140',\n",
       " 'https://finbold.com/bitcoin-btc-immutable-imx-and-vc-spectra-spct-sustain-bullish-sentiment-in-crypto-community/',\n",
       " 'https://www.bloomberg.com/news/articles/2023-10-03/bitcoin-btc-price-dips-from-six-week-high-amid-bond-rout',\n",
       " 'https://www.dailyfx.com/news/bitcoin-ethereum-jump-btc-usd-eth-usd-price-action-20231002.html',\n",
       " 'https://alternative.me/crypto/fear-and-greed-index/',\n",
       " 'https://es.investing.com/crypto/bitcoin/btc-usd-scoreboard',\n",
       " 'https://www.augmento.ai/bitcoin-sentiment/',\n",
       " 'https://coincodex.com/sentiment/',\n",
       " 'https://www.bittsanalytics.com/sentiment-index/BTC',\n",
       " 'https://www.newsbtc.com/bitcoin-news/bitcoin-sentiment-close-extreme-fear-why-matters/',\n",
       " 'https://www.fxstreet.com/cryptocurrencies/news/bitcoin-price-could-revisit-10-000-amid-growing-correlation-with-us-dollar-index-202310042140',\n",
       " 'https://finbold.com/bitcoin-btc-immutable-imx-and-vc-spectra-spct-sustain-bullish-sentiment-in-crypto-community/',\n",
       " 'https://www.bloomberg.com/news/articles/2023-10-03/bitcoin-btc-price-dips-from-six-week-high-amid-bond-rout',\n",
       " 'https://www.dailyfx.com/news/bitcoin-ethereum-jump-btc-usd-eth-usd-price-action-20231002.html',\n",
       " 'https://alternative.me/crypto/fear-and-greed-index/',\n",
       " 'https://es.investing.com/crypto/bitcoin/btc-usd-scoreboard',\n",
       " 'https://www.augmento.ai/bitcoin-sentiment/',\n",
       " 'https://coincodex.com/sentiment/',\n",
       " 'https://www.bittsanalytics.com/sentiment-index/BTC',\n",
       " 'https://www.newsbtc.com/bitcoin-news/bitcoin-sentiment-close-extreme-fear-why-matters/',\n",
       " 'https://www.fxstreet.com/cryptocurrencies/news/bitcoin-price-could-revisit-10-000-amid-growing-correlation-with-us-dollar-index-202310042140',\n",
       " 'https://finbold.com/bitcoin-btc-immutable-imx-and-vc-spectra-spct-sustain-bullish-sentiment-in-crypto-community/',\n",
       " 'https://www.bloomberg.com/news/articles/2023-10-03/bitcoin-btc-price-dips-from-six-week-high-amid-bond-rout',\n",
       " 'https://www.dailyfx.com/news/bitcoin-ethereum-jump-btc-usd-eth-usd-price-action-20231002.html',\n",
       " 'https://alternative.me/crypto/fear-and-greed-index/',\n",
       " 'https://es.investing.com/crypto/bitcoin/btc-usd-scoreboard',\n",
       " 'https://www.augmento.ai/bitcoin-sentiment/',\n",
       " 'https://coincodex.com/sentiment/',\n",
       " 'https://www.bittsanalytics.com/sentiment-index/BTC',\n",
       " 'https://www.newsbtc.com/bitcoin-news/bitcoin-sentiment-close-extreme-fear-why-matters/',\n",
       " 'https://www.fxstreet.com/cryptocurrencies/news/bitcoin-price-could-revisit-10-000-amid-growing-correlation-with-us-dollar-index-202310042140',\n",
       " 'https://finbold.com/bitcoin-btc-immutable-imx-and-vc-spectra-spct-sustain-bullish-sentiment-in-crypto-community/',\n",
       " 'https://www.bloomberg.com/news/articles/2023-10-03/bitcoin-btc-price-dips-from-six-week-high-amid-bond-rout',\n",
       " 'https://www.dailyfx.com/news/bitcoin-ethereum-jump-btc-usd-eth-usd-price-action-20231002.html',\n",
       " 'https://alternative.me/crypto/fear-and-greed-index/',\n",
       " 'https://es.investing.com/crypto/bitcoin/btc-usd-scoreboard',\n",
       " 'https://www.augmento.ai/bitcoin-sentiment/',\n",
       " 'https://coincodex.com/sentiment/',\n",
       " 'https://www.bittsanalytics.com/sentiment-index/BTC',\n",
       " 'https://www.newsbtc.com/bitcoin-news/bitcoin-sentiment-close-extreme-fear-why-matters/',\n",
       " 'https://www.fxstreet.com/cryptocurrencies/news/bitcoin-price-could-revisit-10-000-amid-growing-correlation-with-us-dollar-index-202310042140',\n",
       " 'https://finbold.com/bitcoin-btc-immutable-imx-and-vc-spectra-spct-sustain-bullish-sentiment-in-crypto-community/',\n",
       " 'https://www.bloomberg.com/news/articles/2023-10-03/bitcoin-btc-price-dips-from-six-week-high-amid-bond-rout',\n",
       " 'https://www.dailyfx.com/news/bitcoin-ethereum-jump-btc-usd-eth-usd-price-action-20231002.html',\n",
       " 'https://alternative.me/crypto/fear-and-greed-index/',\n",
       " 'https://es.investing.com/crypto/bitcoin/btc-usd-scoreboard',\n",
       " 'https://www.augmento.ai/bitcoin-sentiment/',\n",
       " 'https://coincodex.com/sentiment/',\n",
       " 'https://www.bittsanalytics.com/sentiment-index/BTC',\n",
       " 'https://www.newsbtc.com/bitcoin-news/bitcoin-sentiment-close-extreme-fear-why-matters/',\n",
       " 'https://www.fxstreet.com/cryptocurrencies/news/bitcoin-price-could-revisit-10-000-amid-growing-correlation-with-us-dollar-index-202310042140',\n",
       " 'https://finbold.com/bitcoin-btc-immutable-imx-and-vc-spectra-spct-sustain-bullish-sentiment-in-crypto-community/',\n",
       " 'https://www.bloomberg.com/news/articles/2023-10-03/bitcoin-btc-price-dips-from-six-week-high-amid-bond-rout',\n",
       " 'https://www.dailyfx.com/news/bitcoin-ethereum-jump-btc-usd-eth-usd-price-action-20231002.html',\n",
       " 'https://alternative.me/crypto/fear-and-greed-index/',\n",
       " 'https://es.investing.com/crypto/bitcoin/btc-usd-scoreboard',\n",
       " 'https://www.augmento.ai/bitcoin-sentiment/',\n",
       " 'https://coincodex.com/sentiment/',\n",
       " 'https://www.bittsanalytics.com/sentiment-index/BTC',\n",
       " 'https://www.newsbtc.com/bitcoin-news/bitcoin-sentiment-close-extreme-fear-why-matters/',\n",
       " 'https://www.fxstreet.com/cryptocurrencies/news/bitcoin-price-could-revisit-10-000-amid-growing-correlation-with-us-dollar-index-202310042140',\n",
       " 'https://finbold.com/bitcoin-btc-immutable-imx-and-vc-spectra-spct-sustain-bullish-sentiment-in-crypto-community/',\n",
       " 'https://www.bloomberg.com/news/articles/2023-10-03/bitcoin-btc-price-dips-from-six-week-high-amid-bond-rout',\n",
       " 'https://www.dailyfx.com/news/bitcoin-ethereum-jump-btc-usd-eth-usd-price-action-20231002.html']"
      ]
     },
     "execution_count": 63,
     "metadata": {},
     "output_type": "execute_result"
    }
   ],
   "source": [
    "bing_search_results = fetch_search_results(bing_search, keywords, MAX_SITES_RESULTS)\n",
    "bing_search_results"
   ]
  },
  {
   "cell_type": "markdown",
   "id": "ca1bba08",
   "metadata": {},
   "source": [
    "<h3>Yahoo for SearchEngine</h3>"
   ]
  },
  {
   "cell_type": "code",
   "execution_count": 64,
   "id": "8929ab89",
   "metadata": {
    "scrolled": true
   },
   "outputs": [
    {
     "data": {
      "text/plain": [
       "['https://www.msn.com/en-us/money/careers/a-look-back-at-bitcoins-performance-in-2022/vi-AA15P9Zx',\n",
       " 'https://alternative.me/crypto/fear-and-greed-index/',\n",
       " 'https://www.augmento.ai/bitcoin-sentiment/',\n",
       " 'https://coincodex.com/sentiment/',\n",
       " 'https://www.cryptoeq.io/sentiment-report/sentiment/bitcoin',\n",
       " 'https://www.msn.com/en-us/money/careers/a-look-back-at-bitcoins-performance-in-2022/vi-AA15P9Zx',\n",
       " 'https://alternative.me/crypto/fear-and-greed-index/',\n",
       " 'https://www.augmento.ai/bitcoin-sentiment/',\n",
       " 'https://coincodex.com/sentiment/',\n",
       " 'https://www.cryptoeq.io/sentiment-report/sentiment/bitcoin',\n",
       " 'https://www.msn.com/en-us/money/careers/a-look-back-at-bitcoins-performance-in-2022/vi-AA15P9Zx',\n",
       " 'https://alternative.me/crypto/fear-and-greed-index/',\n",
       " 'https://www.augmento.ai/bitcoin-sentiment/',\n",
       " 'https://coincodex.com/sentiment/',\n",
       " 'https://www.lookintobitcoin.com/charts/bitcoin-fear-and-greed-index/',\n",
       " 'https://www.msn.com/en-us/money/careers/a-look-back-at-bitcoins-performance-in-2022/vi-AA15P9Zx',\n",
       " 'https://alternative.me/crypto/fear-and-greed-index/',\n",
       " 'https://www.augmento.ai/bitcoin-sentiment/',\n",
       " 'https://coincodex.com/sentiment/',\n",
       " 'https://www.cryptoeq.io/sentiment-report/sentiment/bitcoin',\n",
       " 'https://www.msn.com/en-us/money/careers/a-look-back-at-bitcoins-performance-in-2022/vi-AA15P9Zx',\n",
       " 'https://alternative.me/crypto/fear-and-greed-index/',\n",
       " 'https://www.augmento.ai/bitcoin-sentiment/',\n",
       " 'https://coincodex.com/sentiment/',\n",
       " 'https://www.cryptoeq.io/sentiment-report/sentiment/bitcoin',\n",
       " 'https://www.msn.com/en-us/money/careers/a-look-back-at-bitcoins-performance-in-2022/vi-AA15P9Zx',\n",
       " 'https://alternative.me/crypto/fear-and-greed-index/',\n",
       " 'https://www.augmento.ai/bitcoin-sentiment/',\n",
       " 'https://coincodex.com/sentiment/',\n",
       " 'https://www.cryptoeq.io/sentiment-report/sentiment/bitcoin',\n",
       " 'https://www.msn.com/en-us/money/careers/a-look-back-at-bitcoins-performance-in-2022/vi-AA15P9Zx',\n",
       " 'https://alternative.me/crypto/fear-and-greed-index/',\n",
       " 'https://www.augmento.ai/bitcoin-sentiment/',\n",
       " 'https://coincodex.com/sentiment/',\n",
       " 'https://www.cryptoeq.io/sentiment-report/sentiment/bitcoin',\n",
       " 'https://www.msn.com/en-us/money/careers/a-look-back-at-bitcoins-performance-in-2022/vi-AA15P9Zx',\n",
       " 'https://alternative.me/crypto/fear-and-greed-index/',\n",
       " 'https://www.augmento.ai/bitcoin-sentiment/',\n",
       " 'https://coincodex.com/sentiment/',\n",
       " 'https://www.cryptoeq.io/sentiment-report/sentiment/bitcoin',\n",
       " 'https://www.msn.com/en-us/money/careers/a-look-back-at-bitcoins-performance-in-2022/vi-AA15P9Zx',\n",
       " 'https://alternative.me/crypto/fear-and-greed-index/',\n",
       " 'https://www.augmento.ai/bitcoin-sentiment/',\n",
       " 'https://coincodex.com/sentiment/',\n",
       " 'https://www.cryptoeq.io/sentiment-report/sentiment/bitcoin',\n",
       " 'https://www.msn.com/en-us/money/careers/a-look-back-at-bitcoins-performance-in-2022/vi-AA15P9Zx',\n",
       " 'https://alternative.me/crypto/fear-and-greed-index/',\n",
       " 'https://www.augmento.ai/bitcoin-sentiment/',\n",
       " 'https://coincodex.com/sentiment/',\n",
       " 'https://www.cryptoeq.io/sentiment-report/sentiment/bitcoin',\n",
       " 'https://www.msn.com/en-us/money/careers/a-look-back-at-bitcoins-performance-in-2022/vi-AA15P9Zx',\n",
       " 'https://alternative.me/crypto/fear-and-greed-index/',\n",
       " 'https://www.augmento.ai/bitcoin-sentiment/',\n",
       " 'https://coincodex.com/sentiment/',\n",
       " 'https://www.cryptoeq.io/sentiment-report/sentiment/bitcoin',\n",
       " 'https://www.msn.com/en-us/money/careers/a-look-back-at-bitcoins-performance-in-2022/vi-AA15P9Zx',\n",
       " 'https://alternative.me/crypto/fear-and-greed-index/',\n",
       " 'https://www.augmento.ai/bitcoin-sentiment/',\n",
       " 'https://coincodex.com/sentiment/',\n",
       " 'https://www.cryptoeq.io/sentiment-report/sentiment/bitcoin',\n",
       " 'https://www.msn.com/en-us/money/careers/a-look-back-at-bitcoins-performance-in-2022/vi-AA15P9Zx',\n",
       " 'https://alternative.me/crypto/fear-and-greed-index/',\n",
       " 'https://www.augmento.ai/bitcoin-sentiment/',\n",
       " 'https://coincodex.com/sentiment/',\n",
       " 'https://www.cryptoeq.io/sentiment-report/sentiment/bitcoin',\n",
       " 'https://www.msn.com/en-us/money/careers/a-look-back-at-bitcoins-performance-in-2022/vi-AA15P9Zx',\n",
       " 'https://alternative.me/crypto/fear-and-greed-index/',\n",
       " 'https://www.augmento.ai/bitcoin-sentiment/',\n",
       " 'https://coincodex.com/sentiment/',\n",
       " 'https://www.cryptoeq.io/sentiment-report/sentiment/bitcoin',\n",
       " 'https://www.msn.com/en-us/money/careers/a-look-back-at-bitcoins-performance-in-2022/vi-AA15P9Zx',\n",
       " 'https://alternative.me/crypto/fear-and-greed-index/',\n",
       " 'https://www.augmento.ai/bitcoin-sentiment/',\n",
       " 'https://coincodex.com/sentiment/',\n",
       " 'https://www.cryptoeq.io/sentiment-report/sentiment/bitcoin',\n",
       " 'https://www.msn.com/en-us/money/careers/a-look-back-at-bitcoins-performance-in-2022/vi-AA15P9Zx',\n",
       " 'https://alternative.me/crypto/fear-and-greed-index/',\n",
       " 'https://www.augmento.ai/bitcoin-sentiment/',\n",
       " 'https://coincodex.com/sentiment/',\n",
       " 'https://www.cryptoeq.io/sentiment-report/sentiment/bitcoin',\n",
       " 'https://www.msn.com/en-us/money/careers/a-look-back-at-bitcoins-performance-in-2022/vi-AA15P9Zx',\n",
       " 'https://alternative.me/crypto/fear-and-greed-index/',\n",
       " 'https://www.augmento.ai/bitcoin-sentiment/',\n",
       " 'https://coincodex.com/sentiment/',\n",
       " 'https://www.cryptoeq.io/sentiment-report/sentiment/bitcoin',\n",
       " 'https://www.msn.com/en-us/money/careers/a-look-back-at-bitcoins-performance-in-2022/vi-AA15P9Zx',\n",
       " 'https://alternative.me/crypto/fear-and-greed-index/',\n",
       " 'https://www.augmento.ai/bitcoin-sentiment/',\n",
       " 'https://coincodex.com/sentiment/',\n",
       " 'https://www.cryptoeq.io/sentiment-report/sentiment/bitcoin',\n",
       " 'https://www.msn.com/en-us/money/careers/a-look-back-at-bitcoins-performance-in-2022/vi-AA15P9Zx',\n",
       " 'https://alternative.me/crypto/fear-and-greed-index/',\n",
       " 'https://www.augmento.ai/bitcoin-sentiment/',\n",
       " 'https://coincodex.com/sentiment/',\n",
       " 'https://www.cryptoeq.io/sentiment-report/sentiment/bitcoin',\n",
       " 'https://www.msn.com/en-us/money/careers/a-look-back-at-bitcoins-performance-in-2022/vi-AA15P9Zx',\n",
       " 'https://alternative.me/crypto/fear-and-greed-index/',\n",
       " 'https://www.augmento.ai/bitcoin-sentiment/',\n",
       " 'https://coincodex.com/sentiment/',\n",
       " 'https://www.cryptoeq.io/sentiment-report/sentiment/bitcoin']"
      ]
     },
     "execution_count": 64,
     "metadata": {},
     "output_type": "execute_result"
    }
   ],
   "source": [
    "yahoo_search_results = fetch_search_results(yahoo_search, keywords, MAX_SITES_RESULTS)\n",
    "yahoo_search_results"
   ]
  },
  {
   "cell_type": "markdown",
   "id": "8053aa5a",
   "metadata": {},
   "source": [
    "<h3> Mergin all Results </h3>"
   ]
  },
  {
   "cell_type": "code",
   "execution_count": 67,
   "id": "ca538139",
   "metadata": {},
   "outputs": [
    {
     "data": {
      "text/plain": [
       "{'https://alternative.me/crypto/fear-and-greed-index/',\n",
       " 'https://beincrypto.com/learn/how-to-short-bitcoin/',\n",
       " 'https://beincrypto.com/price/bitcoin/price-prediction/',\n",
       " 'https://beincrypto.com/unbelievable-bitcoin-price-predictions-2023-top-analysts/',\n",
       " 'https://bitcoinist.com/bitcoin-sentiment-returns-neutral-prices-down/',\n",
       " 'https://cfgi.io/bitcoin-fear-greed-index/',\n",
       " 'https://coincodex.com/crypto/bitcoin/price-prediction/',\n",
       " 'https://coincodex.com/sentiment/',\n",
       " 'https://coinpedia.org/price-prediction/bitcoin-price-prediction/',\n",
       " 'https://cointelegraph.com/news/bitcoin-investor-sentiment-slumps-to-a-new-low-even-as-macro-and-equities-show-improvement',\n",
       " 'https://cointelegraph.com/news/bitcoin-will-surge-in-2023-but-be-careful-what-you-wish-for',\n",
       " 'https://cointelegraph.com/news/btc-price-fear-svb-5-things-bitcoin-this-week',\n",
       " 'https://cointelegraph.com/news/crypto-fear-and-greed-index-hits-highest-level-since-bitcoin-s-all-time-high',\n",
       " 'https://cointelegraph.com/news/the-economics-of-bitcoin-halving-understanding-the-effects-on-price-and-market-sentiment',\n",
       " 'https://cointelegraph.com/news/will-btc-ditch-the-bear-market-5-things-to-know-in-bitcoin-this-week',\n",
       " 'https://cryptonews.com/exclusives/top-3-btc-sentiment-analysis-tools-how-they-work-how-to-use-6889.htm',\n",
       " 'https://cryptonews.com/news/bitcoin-price-prediction-as-btc-smashes-past-27000-resistance-best-time-buy.htm',\n",
       " 'https://cryptonews.com/news/bitcoin-price-prediction-btc-rises-4-amidst-dovish-fomc-sentiment.htm',\n",
       " 'https://cryptonews.com/news/bitcoin-price-prediction-marathons-record-kraken-deposits-uzbekistan-regulations.htm',\n",
       " 'https://datamish.com/',\n",
       " 'https://dukespace.lib.duke.edu/dspace/bitstream/handle/10161/24081/Prediction of Bitcoin prices using Twitter Data and Natural Language Processing.pdf?sequence=2',\n",
       " 'https://es.investing.com/crypto/bitcoin/btc-usd-scoreboard',\n",
       " 'https://finbold.com/bitcoin-btc-immutable-imx-and-vc-spectra-spct-sustain-bullish-sentiment-in-crypto-community/',\n",
       " 'https://insidebitcoins.com/news/bitcoin-price-prediction-btc-stops-the-drop-bullish-sentiments-taking-over',\n",
       " 'https://insidebitcoins.com/news/bitcoin-price-prediction-will-btc-sustain-its-bullish-momentum-in-the-coming-weeks',\n",
       " 'https://investorplace.com/2023/04/7-cryptos-to-watch-as-market-sentiment-hits-a-snag/',\n",
       " 'https://jfin-swufe.springeropen.com/articles/10.1186/s40854-022-00352-7',\n",
       " 'https://link.springer.com/article/10.1007/s42521-022-00052-y',\n",
       " 'https://news.bitcoin.com/bitcoin-ethereum-technical-analysis-btc-eth-consolidate-ahead-of-us-consumer-sentiment-data',\n",
       " 'https://news.bitcoin.com/bitcoin-ethereum-technical-analysis-btc-eth-start-week-lower-as-bearish-sentiment-returns-to-markets/',\n",
       " 'https://news.bitcoin.com/bitcoin-ethereum-technical-analysis-btc-falls-below-24000-ahead-of-us-consumer-sentiment-data',\n",
       " 'https://news.bitcoin.com/bitcoin-ethereum-technical-analysis-btc-hits-1-week-low-bullish-sentiment-fades-on-monday',\n",
       " 'https://news.bitcoin.com/bitcoin-ethereum-technical-analysis-btc-nears-10-day-low-as-bears-regain-market-sentiment/',\n",
       " 'https://news.bitcoin.com/bitcoin-sentiment-on-twitter-highest-level-in-3-years/',\n",
       " 'https://news.yahoo.com/bitcoin-price-rally-blackrock-093152634.html',\n",
       " 'https://royalsocietypublishing.org/doi/10.1098/rsos.220276',\n",
       " 'https://santiment.net/',\n",
       " 'https://seekingalpha.com/article/4593766-bitcoin-surges-81-percent-ytd-is-the-rally-for-real-or-just-fomo',\n",
       " 'https://seekingalpha.com/article/4635271-bitcoin-why-im-buying-14-year-old-tulips-with-both-hands',\n",
       " 'https://seekingalpha.com/news/3982463-bitcoin-rises-to-one-year-high-shrugging-off-stock-market-blues',\n",
       " 'https://seekingalpha.com/news/4005725-bitcoin-bounces-off-summer-lows-in-wake-of-risk-on-sentiment',\n",
       " 'https://twitter.com/btcsentimentCOM',\n",
       " 'https://www.augmento.ai/bitcoin-sentiment/',\n",
       " 'https://www.bitdegree.org/cryptocurrency-prices/fear-and-greed-index',\n",
       " 'https://www.bittsanalytics.com/sentiment-index/BTC',\n",
       " 'https://www.bittsanalytics.com/sentiment/BTC',\n",
       " 'https://www.bloomberg.com/news/articles/2023-10-03/bitcoin-btc-price-dips-from-six-week-high-amid-bond-rout',\n",
       " 'https://www.btcsentinel.com/',\n",
       " 'https://www.btcsentinel.com/andamento-bitcoin-prezzo-BTC-eur-usd-grafici-analisi-tecnica/criptovalute/',\n",
       " 'https://www.cmegroup.com/markets/cryptocurrencies/bitcoin/bitcoin.html',\n",
       " 'https://www.coinbase.com/price/bitcoin',\n",
       " 'https://www.coindesk.com/markets/',\n",
       " 'https://www.coindesk.com/markets/2022/01/06/market-wrap-bitcoin-sentiment-turns-extremely-bearish/',\n",
       " 'https://www.coindesk.com/markets/2023/10/05/bitcoin-enters-quiet-bull-market-as-safe-haven-from-bond-market-turmoil-analyst-says/',\n",
       " 'https://www.coindesk.com/price/bitcoin/',\n",
       " 'https://www.coindesk.com/tag/bitcoin-sentiment-index/',\n",
       " 'https://www.coinglass.com/LongShortRatio',\n",
       " 'https://www.cointree.com/learn/crypto-fear-and-greed-index/',\n",
       " 'https://www.crypto-sentiment.com/',\n",
       " 'https://www.crypto-sentiment.com/bitcoin-sentiment',\n",
       " 'https://www.cryptoeq.io/sentiment-report/sentiment/bitcoin',\n",
       " 'https://www.dailyfx.com/forex/technical/sentiment/2021/03/12/BITCOIN-IG-Client-Sentiment-0923.html',\n",
       " 'https://www.dailyfx.com/news/bitcoin-btc-usd-struggling-to-break-stubborn-resistance-around-25k-20230316.html',\n",
       " 'https://www.dailyfx.com/news/bitcoin-ethereum-jump-btc-usd-eth-usd-price-action-20231002.html',\n",
       " 'https://www.dailyfx.com/sentiment-report',\n",
       " 'https://www.datawallet.com/crypto/crypto-fear-and-greed-index',\n",
       " 'https://www.emerald.com/insight/content/doi/10.1108/SEF-07-2021-0293/full/html',\n",
       " 'https://www.fool.com/investing/2023/04/02/is-bitcoin-a-screaming-buy-right-now-this-metric-s/',\n",
       " 'https://www.forbes.com/advisor/au/investing/cryptocurrency/bitcoin-halving/',\n",
       " 'https://www.forbes.com/sites/digital-assets/2023/10/02/flashing-red-warning-33-trillion-us-debt-death-spiral-could-suddenly-trigger-a-bitcoin-price-vicious-circle/',\n",
       " 'https://www.forbes.com/sites/digital-assets/2023/10/02/shocking-leak-blows-up-mystery-of-bitcoin-creator-satoshi-nakamoto/',\n",
       " 'https://www.forbes.com/sites/digital-assets/2023/10/03/elon-musk-declares-the-us-dollar-a-scam-amid-fears-of-33-trillion-us-debt-death-spiral-as-the-bitcoin-price-soars/',\n",
       " 'https://www.forbes.com/sites/roomykhan/2023/10/04/spot-bitcoin-etf-launch-will-solidify-crypto-as-a-distinct-asset-class/',\n",
       " 'https://www.fxstreet.com/cryptocurrencies/news/bitcoin-price-could-revisit-10-000-amid-growing-correlation-with-us-dollar-index-202310042140',\n",
       " 'https://www.fxstreet.com/cryptocurrencies/news/breaking-bitcoin-price-breaches-30-000-on-binance-in-mega-rally-202306211538',\n",
       " 'https://www.fxstreet.com/cryptocurrencies/news/top-3-price-prediction-bitcoin-ethereum-ripple-btc-could-shatter-28-200-during-next-run-202310041928',\n",
       " 'https://www.gemini.com/blog/introducing-geminis-bitcoinbuzz-btc-sentiment-indicator',\n",
       " 'https://www.google.com/finance/quote/BTC-USDT',\n",
       " 'https://www.ig.com/en/forex/markets-forex/bitcoin-1',\n",
       " 'https://www.investing.com/crypto/bitcoin/btc-usd-scoreboard',\n",
       " 'https://www.investing.com/news/cryptocurrency-news/sentiment-for-bitcoin-btc-remains-negative-santiment-feed-2903442',\n",
       " 'https://www.investorsobserver.com/crypto/1/btc',\n",
       " 'https://www.kaggle.com/datasets/gautamchettiar/bitcoin-sentiment-analysis-twitter-data',\n",
       " 'https://www.lookintobitcoin.com/',\n",
       " 'https://www.lookintobitcoin.com/bitcoin-price-live/',\n",
       " 'https://www.lookintobitcoin.com/charts/active-address-sentiment-indicator/',\n",
       " 'https://www.lookintobitcoin.com/charts/bitcoin-fear-and-greed-index/',\n",
       " 'https://www.msn.com/en-us/money/careers/a-look-back-at-bitcoins-performance-in-2022/vi-AA15P9Zx',\n",
       " 'https://www.ncbi.nlm.nih.gov/pmc/articles/PMC9581699/',\n",
       " 'https://www.newsbtc.com/analysis/btc/bitcoin-investor-sentiment-flips-toward-greed-despite-fall-below-29000/',\n",
       " 'https://www.newsbtc.com/analysis/btc/bitcoin-price-slide-27650/',\n",
       " 'https://www.newsbtc.com/bitcoin-news/bitcoin-dip-worth-buying-market-sentiment/',\n",
       " 'https://www.newsbtc.com/bitcoin-news/bitcoin-sentiment-close-extreme-fear-why-matters/',\n",
       " 'https://www.newsbtc.com/bitcoin-news/bitcoin-sentiment-neutral-traders-embrace-greed/',\n",
       " 'https://www.newsbtc.com/news/bitcoin/bitcoin-investor-sentiment/',\n",
       " 'https://www.newsbtc.com/news/bitcoin/bitcoin-trader-sentiment-greed-btc-jumps-25000/',\n",
       " 'https://www.newsbtc.com/news/bitcoin/buy-signal-bitcoin-investor-sentiment-falls-to-lowest-level-in-two-months/',\n",
       " 'https://www.newsbtc.com/news/measuring-bitcoin-public-sentiment-numbers-opinion/',\n",
       " 'https://www.newsbtc.com/news/stellar/stellar-xlm-sheds-13-as-bearish-sentiments-take-over/',\n",
       " 'https://www.researchgate.net/publication/346808998_A_complete_vader-based_sentiment_analysis_of_bitcoin_BTC_tweets_during_the_ERA_of_COVID-19',\n",
       " 'https://www.researchgate.net/publication/357915029_Can_Bitcoin_be_a_safe_haven_in_fear_sentiment',\n",
       " 'https://www.statista.com/statistics/1343514/bitcoin-sentiment/',\n",
       " 'https://www.tandfonline.com/doi/full/10.1080/15427560.2021.1975285',\n",
       " 'https://www.wsj.com/market-data/quotes/fx/BTCUSD'}"
      ]
     },
     "execution_count": 67,
     "metadata": {},
     "output_type": "execute_result"
    }
   ],
   "source": [
    "search_engines_results = set().union(yahoo_search_results, bing_search_results, ddgs_results)\n",
    "search_engines_results"
   ]
  },
  {
   "cell_type": "code",
   "execution_count": 68,
   "id": "a62f2ac5",
   "metadata": {},
   "outputs": [
    {
     "data": {
      "text/plain": [
       "104"
      ]
     },
     "execution_count": 68,
     "metadata": {},
     "output_type": "execute_result"
    }
   ],
   "source": [
    "len(search_engines_results)"
   ]
  },
  {
   "cell_type": "markdown",
   "id": "d959a260",
   "metadata": {},
   "source": [
    "<h2>HTTP Requests for Page Retrieval</h2>"
   ]
  },
  {
   "cell_type": "code",
   "execution_count": 65,
   "id": "80800ec1",
   "metadata": {},
   "outputs": [],
   "source": [
    "# References:\n",
    "# (BeautifulSoup) 1. https://ai.plainenglish.io/mastering-web-scraping-and-sentiment-analysis-with-python-and-machine-learning-255d1d6234c5"
   ]
  },
  {
   "cell_type": "code",
   "execution_count": null,
   "id": "16db9efe",
   "metadata": {},
   "outputs": [],
   "source": []
  },
  {
   "cell_type": "markdown",
   "id": "c27e2326",
   "metadata": {},
   "source": [
    "<h2>Filter Out Irrelevant Pages</h2>"
   ]
  },
  {
   "cell_type": "code",
   "execution_count": null,
   "id": "d8dfeb9c",
   "metadata": {},
   "outputs": [],
   "source": []
  },
  {
   "cell_type": "markdown",
   "id": "3692c513",
   "metadata": {},
   "source": [
    "<h2>Parse HTML Content and Extract Text</h2>"
   ]
  },
  {
   "cell_type": "code",
   "execution_count": null,
   "id": "f53c61ce",
   "metadata": {},
   "outputs": [],
   "source": []
  },
  {
   "cell_type": "markdown",
   "id": "931dc7e0",
   "metadata": {},
   "source": [
    "<h2>Sentiment Analysis</h2>"
   ]
  },
  {
   "cell_type": "code",
   "execution_count": null,
   "id": "b14a395e",
   "metadata": {},
   "outputs": [],
   "source": []
  },
  {
   "cell_type": "markdown",
   "id": "f993f251",
   "metadata": {},
   "source": [
    "<h2>Storage of Sentiment and Pages</h2>"
   ]
  },
  {
   "cell_type": "code",
   "execution_count": null,
   "id": "77b8049e",
   "metadata": {},
   "outputs": [],
   "source": []
  }
 ],
 "metadata": {
  "kernelspec": {
   "display_name": "Python 3",
   "language": "python",
   "name": "python3"
  },
  "language_info": {
   "codemirror_mode": {
    "name": "ipython",
    "version": 3
   },
   "file_extension": ".py",
   "mimetype": "text/x-python",
   "name": "python",
   "nbconvert_exporter": "python",
   "pygments_lexer": "ipython3",
   "version": "3.8.8"
  }
 },
 "nbformat": 4,
 "nbformat_minor": 5
}
