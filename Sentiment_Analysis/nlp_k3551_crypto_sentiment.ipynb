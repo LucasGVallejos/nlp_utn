{
 "cells": [
  {
   "cell_type": "markdown",
   "id": "715b7abb",
   "metadata": {},
   "source": [
    "<h1>Emotion Detection and Information Retrieval</h1>"
   ]
  },
  {
   "cell_type": "markdown",
   "id": "9b62b9d1",
   "metadata": {},
   "source": [
    "<h2>Installing Libraries</h2>"
   ]
  },
  {
   "cell_type": "code",
   "execution_count": 53,
   "id": "d8b59b9c",
   "metadata": {
    "scrolled": true
   },
   "outputs": [],
   "source": [
    "#!pip install duckduckgo-search\n",
    "#!pip install search-engines\n",
    "#!pip install beautifulsoup4\n",
    "#!pip install spacy\n",
    "#!pip install spacy-langdetect\n",
    "#!python -m spacy download en_core_web_lg\n",
    "#!python -m spacy download en_core_web_trf\n",
    "#!pip install spacytextblob"
   ]
  },
  {
   "cell_type": "markdown",
   "id": "0fcabefd",
   "metadata": {},
   "source": [
    "<h2>Defining Relevant Tokens</h2>"
   ]
  },
  {
   "cell_type": "code",
   "execution_count": 54,
   "id": "33dbb958",
   "metadata": {},
   "outputs": [],
   "source": [
    "cryptocurrency_name = \"bitcoin\"\n",
    "cryptocurrency_symbol = \"$BTC\"\n",
    "keywords = f\"{cryptocurrency_name} {cryptocurrency_symbol} sentiment\""
   ]
  },
  {
   "cell_type": "code",
   "execution_count": 55,
   "id": "cad1948f",
   "metadata": {},
   "outputs": [],
   "source": [
    "expected_tokens_text = f\"{keywords} \" \\\n",
    "                       f\"cryptos cryptocurrencies currencies markets price\""
   ]
  },
  {
   "cell_type": "code",
   "execution_count": 56,
   "id": "3cd89a98",
   "metadata": {},
   "outputs": [
    {
     "data": {
      "text/plain": [
       "'bitcoin $BTC sentiment cryptos cryptocurrencies currencies markets price'"
      ]
     },
     "execution_count": 56,
     "metadata": {},
     "output_type": "execute_result"
    }
   ],
   "source": [
    "expected_tokens_text"
   ]
  },
  {
   "cell_type": "markdown",
   "id": "f65c7cb2",
   "metadata": {},
   "source": [
    "<h2>Retrieve Links from Search Engines</h2>"
   ]
  },
  {
   "cell_type": "code",
   "execution_count": 57,
   "id": "83800c7e",
   "metadata": {},
   "outputs": [],
   "source": [
    "# References:\n",
    "############# DuckDuckGo\n",
    "# (GoogleSearch) 1. https://medium.com/@nutanbhogendrasharma/how-to-scrape-google-search-engines-in-python-44770b8eab5\n",
    "# (DuckDuckGo)   2. https://pypi.org/project/duckduckgo-search/\n",
    "# (DuckDuckGo vs GoogleSearch) 3. https://medium.com/hackernoon/duckduckgo-vs-google-what-you-need-to-know-869368b08c4f\n",
    "# (DuckDuckGo vs GoogleSearch) 4. https://www.cnet.com/tech/mobile/in-ios-17-apple-adds-ability-to-change-search-engine-in-safari-private-browsing/\n",
    "\n",
    "############# Serch engines like Bing or Yahoo\n",
    "#https://pypi.org/project/search-engines/"
   ]
  },
  {
   "cell_type": "markdown",
   "id": "904dd1f2",
   "metadata": {},
   "source": [
    "<h3> Importing Libraries </h3>"
   ]
  },
  {
   "cell_type": "code",
   "execution_count": 58,
   "id": "766f1287",
   "metadata": {},
   "outputs": [],
   "source": [
    "from duckduckgo_search import DDGS\n",
    "from search_engines import bing_search, yahoo_search\n",
    "import requests"
   ]
  },
  {
   "cell_type": "code",
   "execution_count": 59,
   "id": "c9f6788d",
   "metadata": {},
   "outputs": [],
   "source": [
    "MAX_SITES_RESULTS = 100\n",
    "TIMEOUT_SECONDS = 5"
   ]
  },
  {
   "cell_type": "markdown",
   "id": "fb0ee6c9",
   "metadata": {},
   "source": [
    "<h3>Functions</h3>"
   ]
  },
  {
   "cell_type": "code",
   "execution_count": 60,
   "id": "a0c7205a",
   "metadata": {},
   "outputs": [],
   "source": [
    "def get_results(search_engine, page_url):\n",
    "    try:\n",
    "        response = requests.get(page_url, timeout=TIMEOUT_SECONDS)\n",
    "        response.raise_for_status()  # Raise an exception for HTTP errors\n",
    "        html = response.text\n",
    "        results, next_page_url = search_engine.extract_search_results(html, page_url)\n",
    "        return results, response.url\n",
    "    except requests.exceptions.RequestException as e:\n",
    "        print(f\"An error occurred during 'get_results' function execution: {e}\")\n",
    "        return [], None"
   ]
  },
  {
   "cell_type": "code",
   "execution_count": 61,
   "id": "6b3a0012",
   "metadata": {},
   "outputs": [],
   "source": [
    "def fetch_search_results(search_engine, query, max_results):\n",
    "    search_results = []\n",
    "    search_url = search_engine.get_search_url(query)\n",
    "\n",
    "    while len(search_results) < max_results and search_url:\n",
    "        try:\n",
    "            next_search_results, search_url = get_results(search_engine, search_url)\n",
    "            for result in next_search_results:\n",
    "                if \"url\" in result:\n",
    "                    search_results.append(result['url'])\n",
    "        except Exception as e:\n",
    "            print(f\"An error occurred during 'fetch_search_results' function execution: {e}\")\n",
    "            break\n",
    "\n",
    "    return search_results[:max_results]\n"
   ]
  },
  {
   "cell_type": "markdown",
   "id": "b6dc3d31",
   "metadata": {},
   "source": [
    "<h3>DuckDuckGo for SearchEngine</h3>"
   ]
  },
  {
   "cell_type": "code",
   "execution_count": 62,
   "id": "b1e06589",
   "metadata": {
    "scrolled": true
   },
   "outputs": [
    {
     "data": {
      "text/plain": [
       "100"
      ]
     },
     "execution_count": 62,
     "metadata": {},
     "output_type": "execute_result"
    }
   ],
   "source": [
    "ddgs_results = list(map(lambda r: r[\"href\"], DDGS().text(keywords, max_results=MAX_SITES_RESULTS)))\n",
    "len(ddgs_results)"
   ]
  },
  {
   "cell_type": "markdown",
   "id": "1c3882e8",
   "metadata": {},
   "source": [
    "<h3>Bing for SearchEngine</h3>"
   ]
  },
  {
   "cell_type": "code",
   "execution_count": 63,
   "id": "c72e589f",
   "metadata": {
    "scrolled": true
   },
   "outputs": [
    {
     "name": "stdout",
     "output_type": "stream",
     "text": [
      "Extracted 0 results from page .\n",
      "Extracted 0 results from page .\n",
      "Extracted 0 results from page .\n",
      "Extracted 0 results from page .\n",
      "Extracted 0 results from page .\n",
      "Extracted 0 results from page .\n",
      "Extracted 0 results from page .\n",
      "Extracted 0 results from page .\n",
      "Extracted 0 results from page .\n",
      "Extracted 0 results from page .\n",
      "Extracted 0 results from page .\n",
      "Extracted 0 results from page .\n",
      "Extracted 0 results from page .\n",
      "Extracted 0 results from page .\n",
      "Extracted 0 results from page .\n",
      "Extracted 0 results from page .\n",
      "Extracted 0 results from page .\n",
      "Extracted 0 results from page .\n",
      "Extracted 0 results from page .\n",
      "Extracted 0 results from page .\n",
      "Extracted 0 results from page .\n",
      "Extracted 0 results from page .\n",
      "Extracted 0 results from page .\n",
      "Extracted 0 results from page .\n",
      "Extracted 0 results from page .\n",
      "Extracted 0 results from page .\n",
      "Extracted 0 results from page .\n",
      "Extracted 0 results from page .\n",
      "Extracted 0 results from page .\n",
      "Extracted 0 results from page .\n",
      "An error occurred during 'get_results' function execution: (\"Connection broken: InvalidChunkLength(got length b'', 0 bytes read)\", InvalidChunkLength(got length b'', 0 bytes read))\n"
     ]
    },
    {
     "data": {
      "text/plain": [
       "0"
      ]
     },
     "execution_count": 63,
     "metadata": {},
     "output_type": "execute_result"
    }
   ],
   "source": [
    "bing_search_results = fetch_search_results(bing_search, keywords, MAX_SITES_RESULTS)\n",
    "len(bing_search_results)"
   ]
  },
  {
   "cell_type": "markdown",
   "id": "ca1bba08",
   "metadata": {},
   "source": [
    "<h3>Yahoo for SearchEngine</h3>"
   ]
  },
  {
   "cell_type": "code",
   "execution_count": 64,
   "id": "8929ab89",
   "metadata": {
    "scrolled": true
   },
   "outputs": [
    {
     "data": {
      "text/plain": [
       "100"
      ]
     },
     "execution_count": 64,
     "metadata": {},
     "output_type": "execute_result"
    }
   ],
   "source": [
    "yahoo_search_results = fetch_search_results(yahoo_search, keywords, MAX_SITES_RESULTS)\n",
    "len(yahoo_search_results)"
   ]
  },
  {
   "cell_type": "markdown",
   "id": "8053aa5a",
   "metadata": {},
   "source": [
    "<h3> Mergin all Results </h3>"
   ]
  },
  {
   "cell_type": "code",
   "execution_count": 65,
   "id": "ca538139",
   "metadata": {},
   "outputs": [
    {
     "data": {
      "text/plain": [
       "{'https://academy.binance.com/en/articles/what-is-crypto-market-sentiment',\n",
       " 'https://alternative.me/crypto/',\n",
       " 'https://alternative.me/crypto/fear-and-greed-index/',\n",
       " 'https://ambcrypto.com/bitcoin-what-do-the-next-2-years-hold-for-btc/',\n",
       " 'https://beincrypto.com/bitcoin-btc-color-charts-indicate-neutral-sentiment/',\n",
       " 'https://beincrypto.com/price/bitcoin/price-prediction/',\n",
       " 'https://bitcoinist.com/bitcoin-sentiment-returns-neutral-prices-down/',\n",
       " 'https://bitcoinist.com/bitcoin-sentiment-turns-neutral-btc-plunges-29000/',\n",
       " 'https://capital.com/bitcoin-price-prediction-2030-2050',\n",
       " 'https://cfgi.io/bitcoin-fear-greed-index/',\n",
       " 'https://coincodex.com/crypto/bitcoin/price-prediction/',\n",
       " 'https://coincodex.com/sentiment/',\n",
       " 'https://coinmarketcap.com/currencies/bitcoin/',\n",
       " 'https://coinpedia.org/price-prediction/bitcoin-price-prediction/',\n",
       " 'https://cointelegraph.com/news/btc-mining-difficulty-5-things-bitcoin-this-week',\n",
       " 'https://cointelegraph.com/news/btc-price-fear-svb-5-things-bitcoin-this-week',\n",
       " 'https://cointelegraph.com/news/crypto-fear-and-greed-index-hits-highest-level-since-bitcoin-s-all-time-high',\n",
       " 'https://cointelegraph.com/news/price-analysis-10-16-spx-dxy-btc-eth-bnb-xrp-sol-ada-doge-ton',\n",
       " 'https://cointelegraph.com/news/the-economics-of-bitcoin-halving-understanding-the-effects-on-price-and-market-sentiment',\n",
       " 'https://cointelegraph.com/news/uptober-might-be-over-bitcoin-price-data-shows-investor-sentiment-at-3-month-low',\n",
       " 'https://cryptonews.com/exclusives/top-3-btc-sentiment-analysis-tools-how-they-work-how-to-use-6889.htm',\n",
       " 'https://cryptonews.com/news/bitcoin-price-prediction-btc-rises-4-amidst-dovish-fomc-sentiment.htm',\n",
       " 'https://cryptopotato.com/chainlink-link-defies-market-sentiment-bitcoin-btc-stalls-at-26-5k-weekend-watch/',\n",
       " 'https://dailyhodl.com/2023/10/22/bitcoin-xrp-and-two-other-trends-are-driving-the-crypto-markets-right-now-according-to-analytics-firm-santiment/',\n",
       " 'https://datamish.com/',\n",
       " 'https://finbold.com/bitcoin-btc-immutable-imx-and-vc-spectra-spct-sustain-bullish-sentiment-in-crypto-community/',\n",
       " 'https://insidebitcoins.com/news/bitcoin-price-prediction-btc-stops-the-drop-bullish-sentiments-taking-over',\n",
       " 'https://insights.santiment.net/read/bitcoin-s-hidden-indicator-social-dominance-7085',\n",
       " 'https://investorplace.com/2023/04/7-cryptos-to-watch-as-market-sentiment-hits-a-snag/',\n",
       " 'https://link.springer.com/article/10.1007/s42521-022-00052-y',\n",
       " 'https://milkroad.com/fear-greed/',\n",
       " 'https://news.bitcoin.com/bitcoin-ethereum-technical-analysis-btc-eth-consolidate-ahead-of-us-consumer-sentiment-data',\n",
       " 'https://news.bitcoin.com/bitcoin-ethereum-technical-analysis-btc-eth-consolidate-ahead-of-us-gdp-consumer-sentiment-data/',\n",
       " 'https://news.bitcoin.com/bitcoin-ethereum-technical-analysis-btc-eth-start-week-lower-as-bearish-sentiment-returns-to-markets/',\n",
       " 'https://news.bitcoin.com/bitcoin-ethereum-technical-analysis-btc-falls-below-24000-ahead-of-us-consumer-sentiment-data',\n",
       " 'https://news.bitcoin.com/bitcoin-ethereum-technical-analysis-btc-hits-1-week-low-bullish-sentiment-fades-on-monday',\n",
       " 'https://news.bitcoin.com/bitcoin-ethereum-technical-analysis-btc-nears-10-day-low-as-bears-regain-market-sentiment/',\n",
       " 'https://news.bitcoin.com/bitcoin-sentiment-on-twitter-highest-level-in-3-years/',\n",
       " 'https://seekingalpha.com/article/4593766-bitcoin-surges-81-percent-ytd-is-the-rally-for-real-or-just-fomo',\n",
       " 'https://seekingalpha.com/article/4635271-bitcoin-why-im-buying-14-year-old-tulips-with-both-hands',\n",
       " 'https://twitter.com/btcsentimentCOM',\n",
       " 'https://www.augmento.ai/bitcoin-sentiment/',\n",
       " 'https://www.binance.com/en/blog/futures/what-is-longshort-ratio-and-what-does-it-convey-in-cryptocurrency-futures-6728490800036398885',\n",
       " 'https://www.bitdegree.org/cryptocurrency-prices/fear-and-greed-index',\n",
       " 'https://www.bittsanalytics.com/Bitcoin-historical-data-download-prices-csv/history-BTC',\n",
       " 'https://www.bittsanalytics.com/cryptocurrency_api.php',\n",
       " 'https://www.bittsanalytics.com/sentiment-index/BTC',\n",
       " 'https://www.bloomberg.com/news/articles/2023-10-17/bitcoin-btc-10-jump-to-30-000-hints-at-playbook-for-spot-etfs',\n",
       " 'https://www.bloomberg.com/news/articles/2023-10-20/bitcoin-climbs-back-above-30-000-before-latest-grayscale-ruling',\n",
       " 'https://www.cmegroup.com/markets/cryptocurrencies/bitcoin/bitcoin.html',\n",
       " 'https://www.coinbase.com/price/bitcoin',\n",
       " 'https://www.coindesk.com/consensus-magazine/2022/12/06/btc-dominance-is-behaving-weirdly-and-thats-sort-of-good/',\n",
       " 'https://www.coindesk.com/markets/2022/01/06/market-wrap-bitcoin-sentiment-turns-extremely-bearish/',\n",
       " 'https://www.coindesk.com/markets/2022/05/24/bitcoin-records-eighth-week-of-losses-but-sentiment-indicator-suggests-upside/',\n",
       " 'https://www.coindesk.com/markets/2023/10/10/ether-bitcoin-ratio-drops-to-15-month-low-as-etfs-fail-to-uplift-sentiment/',\n",
       " 'https://www.coindesk.com/markets/2023/10/18/bitcoin-nears-29k-as-fidelity-etf-amendment-bumps-bullish-sentiment/',\n",
       " 'https://www.coindesk.com/markets/2023/10/18/spot-bitcoin-etf-approval-is-coming-but-analysts-differ-on-possible-price-reaction/',\n",
       " 'https://www.coindesk.com/markets/2023/10/20/bitcoin-inches-closer-to-30k-as-etf-hope-drives-bulls/',\n",
       " 'https://www.coindesk.com/price/bitcoin/',\n",
       " 'https://www.coindesk.com/tag/bitcoin-sentiment-index/',\n",
       " 'https://www.cointree.com/learn/crypto-fear-and-greed-index/',\n",
       " 'https://www.crypto-sentiment.com/',\n",
       " 'https://www.crypto-sentiment.com/bitcoin-sentiment',\n",
       " 'https://www.cryptoeq.io/sentiment-report/sentiment/bitcoin',\n",
       " 'https://www.dailyfx.com/bitcoin',\n",
       " 'https://www.dailyfx.com/forex/technical/sentiment/2021/03/12/BITCOIN-IG-Client-Sentiment-0923.html',\n",
       " 'https://www.dailyfx.com/news/bitcoin-btc-latest-breaking-higher-a-change-of-sentiment-20221026.html',\n",
       " 'https://www.dailyfx.com/news/bitcoin-btc-usd-struggling-to-break-stubborn-resistance-around-25k-20230316.html',\n",
       " 'https://www.dailyfx.com/sentiment-report',\n",
       " 'https://www.emerald.com/insight/content/doi/10.1108/SEF-07-2021-0293/full/html',\n",
       " 'https://www.fool.com/investing/2023/04/02/is-bitcoin-a-screaming-buy-right-now-this-metric-s/',\n",
       " 'https://www.forbes.com/sites/digital-assets/2023/10/21/this-is-not-priced-in-a-huge-shift-just-happened-thats-about-to-blow-up-the-bitcoin-ethereum-xrp-and-crypto-market/',\n",
       " 'https://www.forbes.com/sites/hershshefrin/2023/07/17/rising-sentiment-dampens-bitcoins-correlation-with-us-stocks-and-expected-price-appreciation/',\n",
       " 'https://www.fxempire.com/forecasts/article/bitcoin-prices-forecast-how-btc-reacts-to-sec-moves-and-us-economic-indicators-1370094',\n",
       " 'https://www.fxstreet.com/rates-charts/btcusd',\n",
       " 'https://www.gemini.com/blog/introducing-geminis-bitcoinbuzz-btc-sentiment-indicator',\n",
       " 'https://www.gemini.com/cryptopedia/crypto-indicators-token-metrics-crypto-fear-and-greed-index',\n",
       " 'https://www.google.com/finance/quote/BTC-USDT',\n",
       " 'https://www.ig.com/en/forex/markets-forex/bitcoin-1',\n",
       " 'https://www.investing.com/news/cryptocurrency-news/sentiment-for-bitcoin-btc-remains-negative-santiment-feed-2903442',\n",
       " 'https://www.lookintobitcoin.com/',\n",
       " 'https://www.lookintobitcoin.com/charts/active-address-sentiment-indicator/',\n",
       " 'https://www.lookintobitcoin.com/charts/bitcoin-fear-and-greed-index/',\n",
       " 'https://www.marketbeat.com/cryptocurrencies/bitcoin/',\n",
       " 'https://www.mdpi.com/2504-2289/4/4/33',\n",
       " 'https://www.msn.com/en-us/money/markets/today-s-bitcoin-surge-the-real-factors-at-play/ar-AA1iAUYf',\n",
       " 'https://www.nasdaq.com/articles/the-effect-of-sentiment-on-the-bitcoin-price',\n",
       " 'https://www.ncbi.nlm.nih.gov/pmc/articles/PMC9581699/',\n",
       " 'https://www.newsbtc.com/all/bitcoin-btc-sentiment-is-bullish-but-is-98-million-even-possible/',\n",
       " 'https://www.newsbtc.com/bitcoin-news/bitcoin-sentiment-close-extreme-fear-why-matters/',\n",
       " 'https://www.newsbtc.com/bitcoin-news/bitcoin-sentiment-neutral-traders-embrace-greed/',\n",
       " 'https://www.newsbtc.com/bitcoin-news/bitcoin-sentiment-social-red-covid-crash-bottom-signal/',\n",
       " 'https://www.newsbtc.com/news/bitcoin/bitcoin-investor-sentiment/',\n",
       " 'https://www.newsbtc.com/news/bitcoin/bitcoin-sentiment-local-high-cant-shake-recent-fear/',\n",
       " 'https://www.newsbtc.com/news/bitcoin/bitcoin-trader-sentiment-greed-btc-jumps-25000/',\n",
       " 'https://www.newsbtc.com/news/bitcoin/buy-signal-bitcoin-investor-sentiment-falls-to-lowest-level-in-two-months/',\n",
       " 'https://www.researchgate.net/publication/346808998_A_complete_vader-based_sentiment_analysis_of_bitcoin_BTC_tweets_during_the_ERA_of_COVID-19',\n",
       " 'https://www.sciencedirect.com/science/article/pii/S1059056021000083',\n",
       " 'https://www.tandfonline.com/doi/full/10.1080/15427560.2021.1950723',\n",
       " 'https://www.tandfonline.com/doi/full/10.1080/15427560.2021.1975285'}"
      ]
     },
     "execution_count": 65,
     "metadata": {},
     "output_type": "execute_result"
    }
   ],
   "source": [
    "search_engines_results = set().union(yahoo_search_results, bing_search_results, ddgs_results)\n",
    "search_engines_results"
   ]
  },
  {
   "cell_type": "code",
   "execution_count": 66,
   "id": "a62f2ac5",
   "metadata": {},
   "outputs": [
    {
     "data": {
      "text/plain": [
       "100"
      ]
     },
     "execution_count": 66,
     "metadata": {},
     "output_type": "execute_result"
    }
   ],
   "source": [
    "len(search_engines_results)"
   ]
  },
  {
   "cell_type": "markdown",
   "id": "d959a260",
   "metadata": {},
   "source": [
    "<h2>Web Scraping</h2>"
   ]
  },
  {
   "cell_type": "code",
   "execution_count": 67,
   "id": "80800ec1",
   "metadata": {},
   "outputs": [],
   "source": [
    "# References:\n",
    "# (BeautifulSoup) 1. https://ai.plainenglish.io/mastering-web-scraping-and-sentiment-analysis-with-python-and-machine-learning-255d1d6234c5\n",
    "#                 2. https://j2logo.com/python/web-scraping-con-python-guia-inicio-beautifulsoup/\n",
    "#                 3. https://www.geeksforgeeks.org/remove-all-style-scripts-and-html-tags-using-beautifulsoup/"
   ]
  },
  {
   "cell_type": "markdown",
   "id": "213dbf95",
   "metadata": {},
   "source": [
    "<h3> Importing Libraries </h3>"
   ]
  },
  {
   "cell_type": "code",
   "execution_count": 68,
   "id": "6d9381f1",
   "metadata": {},
   "outputs": [],
   "source": [
    "from bs4 import BeautifulSoup\n",
    "import re"
   ]
  },
  {
   "cell_type": "code",
   "execution_count": 69,
   "id": "e640b3c9",
   "metadata": {},
   "outputs": [],
   "source": [
    "selectors_to_remove = [\"header\", \"div.header\", \"footer\", \"script\", \"noscript\", \"iframe\"]"
   ]
  },
  {
   "cell_type": "markdown",
   "id": "38d89519",
   "metadata": {},
   "source": [
    "<h3>Functions</h3>"
   ]
  },
  {
   "cell_type": "code",
   "execution_count": 70,
   "id": "43b364a9",
   "metadata": {},
   "outputs": [],
   "source": [
    "def fetch_page_content(page_url):\n",
    "    try:\n",
    "        response = requests.get(page_url, timeout=TIMEOUT_SECONDS)\n",
    "        response.raise_for_status()\n",
    "        return response.text\n",
    "    except Exception as e:\n",
    "        print(f\"Error fetching page content: {e}\")\n",
    "        return None"
   ]
  },
  {
   "cell_type": "code",
   "execution_count": 71,
   "id": "c7b30bfd",
   "metadata": {},
   "outputs": [],
   "source": [
    "def remove_unwanted_elements(soup):\n",
    "    for selector in selectors_to_remove:\n",
    "        elements = soup.body.select(selector)\n",
    "        for element in elements:\n",
    "            element.decompose()"
   ]
  },
  {
   "cell_type": "code",
   "execution_count": 72,
   "id": "ba6cb42f",
   "metadata": {},
   "outputs": [],
   "source": [
    "def get_mineable_text_from_soup(soup):\n",
    "    remove_unwanted_elements(soup)\n",
    "    return \" \".join(soup.stripped_strings)"
   ]
  },
  {
   "cell_type": "code",
   "execution_count": 74,
   "id": "4791d6d7",
   "metadata": {},
   "outputs": [],
   "source": [
    "def get_page_content(page_url):\n",
    "    try:\n",
    "        page_content = fetch_page_content(page_url)\n",
    "        if page_content:\n",
    "            soup = BeautifulSoup(page_content, \"html.parser\")\n",
    "        \n",
    "            page_title = soup.find(\"title\").get_text().strip()\n",
    "            print(f\"Title web page: {page_title}\")\n",
    "        \n",
    "            mineable_text = get_mineable_text_from_soup(soup)\n",
    "            \n",
    "            return {\n",
    "                'title': page_title,\n",
    "                'text': mineable_text,\n",
    "                'page_url': page_url\n",
    "            }\n",
    "    except Exception as e:\n",
    "        print(f\"Error in retrieving {page_url}\")\n",
    "        print(f\"An error occurred {e}\")\n",
    "        return None"
   ]
  },
  {
   "cell_type": "code",
   "execution_count": 75,
   "id": "cc8bb9bd",
   "metadata": {
    "scrolled": true
   },
   "outputs": [
    {
     "name": "stdout",
     "output_type": "stream",
     "text": [
      "Error fetching page content: 403 Client Error: Forbidden for url: https://news.bitcoin.com/bitcoin-ethereum-technical-analysis-btc-eth-consolidate-ahead-of-us-gdp-consumer-sentiment-data/\n",
      "Title web page: Bitcoin Price Today | BTC Live Chart and Forecast\n",
      "Error in retrieving https://twitter.com/btcsentimentCOM\n",
      "An error occurred 'NoneType' object has no attribute 'get_text'\n",
      "Title web page: Bitcoin Investor Sentiment Remains Steady As BTC Stalls At $16,000\n",
      "Title web page: 3 Bitcoin Sentiment Analysis Tools: How They Work & How to Use Them\n",
      "Error fetching page content: 403 Client Error: Forbidden for url: https://www.lookintobitcoin.com/charts/active-address-sentiment-indicator/\n",
      "Error fetching page content: 403 Client Error: Forbidden for url: https://news.bitcoin.com/bitcoin-ethereum-technical-analysis-btc-eth-consolidate-ahead-of-us-consumer-sentiment-data\n",
      "Title web page: Bitcoin shorts vs Longs - Click for BTC margin charts - Datamish\n",
      "Title web page: sentix Bitcoin sentiment index - Crypto Currencies Sentiment\n",
      "Title web page: BTC Dominance Is Behaving Weirdly, and That’s Sort of Good\n",
      "Title web page: Bitcoin (BTC), Immutable (IMX), and VC Spectra (SPCT) Sustain Bullish Sentiment in Crypto Community | Finbold\n",
      "Error fetching page content: 403 Client Error: Forbidden for url: https://news.bitcoin.com/bitcoin-ethereum-technical-analysis-btc-eth-start-week-lower-as-bearish-sentiment-returns-to-markets/\n",
      "Title web page: MSN\n",
      "Error fetching page content: 403 Client Error: Forbidden for url: https://cointelegraph.com/news/btc-mining-difficulty-5-things-bitcoin-this-week\n",
      "Title web page: Is the future of bitcoin safe? A triangulation approach in the reality of BTC market through a sentiments analysis | SpringerLink\n",
      "Error fetching page content: 403 Client Error: Forbidden for url: https://www.fxempire.com/forecasts/article/bitcoin-prices-forecast-how-btc-reacts-to-sec-moves-and-us-economic-indicators-1370094\n",
      "Title web page: The home of crypto currencies sentiment - Crypto Currencies Sentiment\n",
      "Title web page: What Is Crypto Market Sentiment? | Binance Academy\n",
      "Title web page: Bitcoin Sentiment Now Close To Extreme Fear: Why This Matters\n",
      "Error fetching page content: 403 Client Error: Forbidden for url: https://news.bitcoin.com/bitcoin-ethereum-technical-analysis-btc-nears-10-day-low-as-bears-regain-market-sentiment/\n",
      "Title web page: Bitcoin: Why Iâm Buying 14-Year Old Tulips With Both Hands (BTC-USD) | Seeking Alpha\n",
      "Error fetching page content: 403 Client Error: Forbidden for url: https://cointelegraph.com/news/crypto-fear-and-greed-index-hits-highest-level-since-bitcoin-s-all-time-high\n",
      "Title web page: Introducing Gemini's BitcoinBuzz Sentiment Indicator | Gemini\n",
      "Title web page: Bitcoin (BTC) Sentiment is Bullish But is $98 Million Even Possible?\n",
      "Error fetching page content: HTTPSConnectionPool(host='www.coindesk.com', port=443): Read timed out. (read timeout=5)\n",
      "Error fetching page content: 403 Client Error: Forbidden for url: https://cointelegraph.com/news/the-economics-of-bitcoin-halving-understanding-the-effects-on-price-and-market-sentiment\n",
      "Error fetching page content: 403 Client Error: Forbidden for url: https://news.bitcoin.com/bitcoin-sentiment-on-twitter-highest-level-in-3-years/\n",
      "Title web page: Bitcoin: What do the next 2 years hold for BTC? - AMBCrypto\n",
      "Title web page: undefined (undefined): Sentiment, Live Charts, Signals | CryptoEQ\n",
      "Error fetching page content: 403 Client Error: Forbidden for url: https://news.bitcoin.com/bitcoin-ethereum-technical-analysis-btc-falls-below-24000-ahead-of-us-consumer-sentiment-data\n",
      "Error fetching page content: 403 Client Error: Forbidden for url: https://www.tandfonline.com/doi/full/10.1080/15427560.2021.1950723\n",
      "Title web page: Crypto Fear and Greed Index - Bitcoin Momentum Tracker\n",
      "Title web page: Chainlink (LINK) Defies Market Sentiment, Bitcoin (BTC) Stalls at $26.5K (Weekend Watch)\n",
      "Title web page: Bitcoin Sentiment Returns To Neutral As Price Tumbles Down\n",
      "Title web page: Live Crypto Fear and Greed Index (Updated: Oct 22, 2023)\n",
      "Title web page: Bitcoin (BTC) Prices Cross $30K as Bulls Charge Ahead With ETF Optimism\n",
      "Title web page: Bitcoin Records Eighth Week of Losses, but Sentiment Indicator Suggests Upside\n",
      "Title web page: Bitcoin price today, BTC to USD live price, marketcap and chart | CoinMarketCap\n",
      "Title web page: Bitcoin Overview - CME Group\n",
      "Error fetching page content: 403 Client Error: Forbidden for url: https://www.tandfonline.com/doi/full/10.1080/15427560.2021.1975285\n",
      "Title web page: This Is ‘Not Priced In’—A ‘Huge Shift’ Just Happened That’s About To Blow Up The Bitcoin, Ethereum, XRP And Crypto Market\n",
      "Title web page: Bloomberg - Are you a robot?\n",
      "Title web page: 7 Cryptos to Watch as Market Sentiment Hits a Snag | InvestorPlace\n",
      "Error fetching page content: 403 Client Error: Forbidden for url: https://www.sciencedirect.com/science/article/pii/S1059056021000083\n",
      "Title web page: Bitcoin Surges 81% YTD: Is The Rally For Real Or Just FOMO? (BTC-USD) | Seeking Alpha\n",
      "Title web page: BTC/USD BITCOIN\n",
      "Error fetching page content: 403 Client Error: Forbidden for url: https://www.coinbase.com/price/bitcoin\n",
      "Title web page: Crypto Fear & Greed Index for October 22, 2023\n",
      "Error fetching page content: 403 Client Error: Forbidden for url: https://www.lookintobitcoin.com/\n",
      "Title web page: Predicting bitcoin price movements using sentiment analysis: a machine learning approach\n",
      " |  Emerald Insight\n",
      "Title web page: Bitcoin Sentiment – Bull & Bear Index – Augmento\n",
      "Title web page: Bitcoin (BTC) Price Prediction 2023, 2024, 2025â2030 | CoinCodex\n",
      "Error fetching page content: HTTPSConnectionPool(host='www.nasdaq.com', port=443): Read timed out. (read timeout=5)\n",
      "Error fetching page content: 403 Client Error: Forbidden for url: https://beincrypto.com/bitcoin-btc-color-charts-indicate-neutral-sentiment/\n",
      "Error fetching page content: 403 Client Error: Forbidden for url: https://www.ncbi.nlm.nih.gov/pmc/articles/PMC9581699/\n",
      "Error fetching page content: 403 Client Error: Forbidden for url: https://www.investing.com/news/cryptocurrency-news/sentiment-for-bitcoin-btc-remains-negative-santiment-feed-2903442\n",
      "Title web page: Bitcoin (BTC) Latest – Breaking Higher, A Change of Sentiment?\n",
      "Title web page: Trade USD | USD to  | Bitcoin (USD)  | IG International\n",
      "Title web page: Crypto Sentiment | CoinCodex\n",
      "Title web page: Popular Crypto Indicators and Token Metrics | Gemini\n",
      "Title web page: IG Client Sentiment Report 2023-10-22 20:00\n",
      "Error fetching page content: 403 Client Error: Forbidden for url: https://beincrypto.com/price/bitcoin/price-prediction/\n",
      "Title web page: Bitcoin (BTC/USD)  Struggling to Break Stubborn Resistance Around $25k\n",
      "Title web page: Crypto Sentiment API - BittsAnalytics API Documentation (2.1.0)\n",
      "Title web page: Bitcoin Fear and Greed Index - Sentiment Analysis | CFGI.io\n",
      "Title web page: BDCC | Free Full-Text | A Complete VADER-Based Sentiment Analysis of Bitcoin (BTC) Tweets during the Era of COVID-19\n",
      "Title web page: What Is Long/Short Ratio and What Does It Convey in Cryptocurrency Futures? | Binance Blog\n",
      "Title web page: Bitcoin Price | BTC Price Index and Live Chart - CoinDesk\n",
      "Title web page: Bitcoin Price Prediction, News, and Analysis (BTC)\n",
      "Title web page: Bitcoin Price Prediction 2023, 2024, 2025, 2026 - 2030\n",
      "Title web page: Bitcoin, XRP and Two Other Trends Are Driving the Crypto Markets Right Now, According to Analytics Firm Santiment - The Daily Hodl\n",
      "Title web page: Bitcoin Sentiment Index - CoinDesk\n",
      "Title web page: Bitcoin historical data for csv download, BTC free prices, sentiment and other crypto data sets history\n",
      "Error fetching page content: HTTPSConnectionPool(host='www.bittsanalytics.com', port=443): Read timed out. (read timeout=5)\n",
      "Title web page: Bitcoin Sentiment Returns To Neutral, Will Traders Embrace Greed Next?\n",
      "Title web page: Bitcoin (BTC) Price Outlook if a Spot Bitcoin ETF Gets Approved by the SEC\n",
      "Error fetching page content: 403 Client Error: Forbidden for url: https://cointelegraph.com/news/uptober-might-be-over-bitcoin-price-data-shows-investor-sentiment-at-3-month-low\n",
      "Title web page: Crypto Dashboard - Alternative.me\n",
      "Title web page: Bitcoin Trader Sentiment Returns To Greed As BTC Jumps Past $25,000\n"
     ]
    },
    {
     "name": "stdout",
     "output_type": "stream",
     "text": [
      "Title web page: Bitcoin Sentiment Turns Neutral As BTC Plunges Below $29,000 | Bitcoinist.com\n",
      "Error fetching page content: 403 Client Error: Forbidden for url: https://www.lookintobitcoin.com/charts/bitcoin-fear-and-greed-index/\n",
      "Error fetching page content: 403 Client Error: Forbidden for url: https://news.bitcoin.com/bitcoin-ethereum-technical-analysis-btc-hits-1-week-low-bullish-sentiment-fades-on-monday\n",
      "Error fetching page content: HTTPSConnectionPool(host='www.coindesk.com', port=443): Read timed out. (read timeout=5)\n",
      "Error fetching page content: 403 Client Error: Forbidden for url: https://www.researchgate.net/publication/346808998_A_complete_vader-based_sentiment_analysis_of_bitcoin_BTC_tweets_during_the_ERA_of_COVID-19\n",
      "Title web page: Bitcoin's Hidden Indicator - Social Dominance - Santiment Community Insights\n",
      "Title web page: Bitcoin Sentiment Reaches Local High, But Can’t Shake Recent Fear\n",
      "Title web page: Bitcoin IG Client Sentiment: Our data shows traders are now at their least net-long Bitcoin since Jan 02 when Bitcoin traded near 32,175.37.\n",
      "Title web page: Bitcoin Price Prediction 2030–2050 | What Will Bitcoin Be Worth in 2030?\n",
      "Error fetching page content: 403 Client Error: Forbidden for url: https://cointelegraph.com/news/price-analysis-10-16-spx-dxy-btc-eth-bnb-xrp-sol-ada-doge-ton\n",
      "Title web page: Buy Signal? Bitcoin Investor Sentiment Falls To Lowest Level In Two Months\n",
      "Title web page: Rising Sentiment Dampens Bitcoin’s Correlation With U.S. Stocks\n",
      "Title web page: Is Bitcoin a Screaming Buy Right Now? This Metric Says Yes | The Motley Fool\n",
      "Title web page: Bitcoin Sentiment On Social Media Now Most Red Since COVID Crash, Bottom Signal?\n",
      "Title web page: Bloomberg - Are you a robot?\n",
      "Title web page: Bitcoin Price Prediction: BTC Stops The Drop - Bullish Sentiments Taking Over?\n",
      "Title web page: Crypto Fear & Greed Index - Bitcoin Sentiment - Alternative.me\n",
      "Title web page: Fidelity Spot Bitcoin ETF Amendment Spurs BTC Jump on SEC Dialog Speculation\n",
      "Title web page: Bitcoin (BTC) Price, Real-time Quote & News - Google Finance\n",
      "Title web page: Bitcoin Price Prediction: BTC Rises 4% Amidst Dovish FOMC Sentiment\n",
      "Error fetching page content: 403 Client Error: Forbidden for url: https://cointelegraph.com/news/btc-price-fear-svb-5-things-bitcoin-this-week\n"
     ]
    }
   ],
   "source": [
    "web_scrap_pages = list(filter(lambda wbp: wbp is not None, map(get_page_content, search_engines_results)))"
   ]
  },
  {
   "cell_type": "code",
   "execution_count": 76,
   "id": "1edd5118",
   "metadata": {},
   "outputs": [
    {
     "data": {
      "text/plain": [
       "69"
      ]
     },
     "execution_count": 76,
     "metadata": {},
     "output_type": "execute_result"
    }
   ],
   "source": [
    "len(web_scrap_pages)"
   ]
  },
  {
   "cell_type": "code",
   "execution_count": 77,
   "id": "5491169c",
   "metadata": {
    "scrolled": true
   },
   "outputs": [
    {
     "data": {
      "text/plain": [
       "'Bitcoin Price Today | BTC Live Chart and Forecast Skip to Content News & Analysis at your fingertips. Install We use a range of cookies to give you the best possible browsing experience. By continuing to use this website, you agree to our use of cookies. You can learn more about our cookie policy here , or by following the link at the bottom of any page on our site. See our updated Privacy Policy here . Accept 0 Search Clear Search results See all results No entries matching your query were found. English 日本語 中文（繁體） 中文（简体） Free Trading Guides Subscribe Please try again Free Trading Guides Subscribe to Our Newsletter Please try again Market News Market Overview Real-time News Economic Calendar Market Themes EUR/USD News Gold News Oil - US Crude News Recent Market News Headlines Oct 22, 2023 Markets Week Ahead: S&P 500, Gold, US Dollar; Powell, ECB, BoC, Australia CPI, Germany Ifo, UK jobs Oct 21, 2023 Gold/Silver Weekly Forecast: A Dead-Cat Bounce or Game Changer? Oct 21, 2023 USD/JPY Weekly Forecast: Japanese Yen Staggers Towards 150 Free Guide Introduction to Forex News Trading Analysis Technical Analysis Analyst Picks Forecasts Market Outlook DailyFX TV Recent Trading Strategies Headlines Oct 22, 2023 Nasdaq 100, S&P 500 Weekly Forecast: Alphabet, Microsoft and Amazon Earnings Eyed Oct 22, 2023 US Dollar Forecast: The Fed and US Yields Sustain USD Support Oct 21, 2023 Oil Weekly Forecast: Technicals Hint at Further Upside but Geopolitics Holds the Key Free Guide The Fundamentals of Range Trading Currencies EUR/USD GBP/USD AUD/USD USD/JPY All currencies Major currency pairs Recent Currencies Headlines Oct 22, 2023 Markets Week Ahead: S&P 500, Gold, US Dollar; Powell, ECB, BoC, Australia CPI, Germany Ifo, UK jobs Oct 22, 2023 US Dollar Forecast: The Fed and US Yields Sustain USD Support Oct 21, 2023 Euro Weekly Forecast: EUR/USD, EUR/GBP Await ECB. Breakout or Breakdown Ahead? Oct 21, 2023 USD/JPY Weekly Forecast: Japanese Yen Staggers Towards 150 Commodities Oil - US Crude Gold Silver Natural Gas All commodities Major commodities Recent Commodities Headlines Oct 22, 2023 Markets Week Ahead: S&P 500, Gold, US Dollar; Powell, ECB, BoC, Australia CPI, Germany Ifo, UK jobs Oct 21, 2023 Gold/Silver Weekly Forecast: A Dead-Cat Bounce or Game Changer? Oct 21, 2023 Oil Weekly Forecast: Technicals Hint at Further Upside but Geopolitics Holds the Key Oct 20, 2023 Brent Crude Oil Set for Second Weekly Advance as Tensions Ramp Up Stocks Wall Street US 500 US Tech 100 FTSE 100 All stocks Major stock indices Recent Stocks Headlines Oct 22, 2023 Markets Week Ahead: S&P 500, Gold, US Dollar; Powell, ECB, BoC, Australia CPI, Germany Ifo, UK jobs Oct 22, 2023 Nasdaq 100, S&P 500 Weekly Forecast: Alphabet, Microsoft and Amazon Earnings Eyed Oct 21, 2023 USD/JPY Weekly Forecast: Japanese Yen Staggers Towards 150 Oct 20, 2023 FTSE 100, DAX 40 and Russell 2000 Drop on Risk-Off Sentiment Crypto Bitcoin Ethereum Litecoin All cryptocurrencies Major cryptocurrencies Recent Cryptocurrencies Headlines Oct 20, 2023 Bitcoin (BTC) Pumping Back to ETF Rumor High, No Smoke Without Fire? Oct 19, 2023 Bitcoin, Ethereum Trends Diverge; BTC/USD & ETH/USD Price Setups Oct 16, 2023 Bitcoin Spikes to a High of $29900 on False ETF Approval News Oct 12, 2023 Bitcoin (BTC) Price Latest: BTC/USD Chart Mixed as 200-day SMA Stands Firm Tools Rates Earnings Calendar Sentiment DNA FX Economic Calendar Live Chart Support & Resistance View All Tools Free Guide How to Use IG Client Sentiment in Your Trading Trading Tools Rates Live forex rates at a glance NEW Earnings Calendar Keep track of companies that are about to announce their earnings Sentiment Discover who is going long and short DNA FX Check what kind of trader you are Economic Calendar Explore key global events on the horizon Live Chart Latest price data across forex and major assets Support & Resistance View S&R levels for forex, commodities and indices View All Tools Calendars Economic Calendar 04:30:00 Medium Consumer Confidence (Oct) Actual Forecast Previous Revised -39 12:00:00 Medium Economic Activity YoY (Aug) Actual Forecast 3.4% Previous Revised 3.2% 12:30:00 Medium Chicago Fed National Activity Index (Sep) Actual Forecast Previous Revised -0.16 13:00:00 Medium Interest Rate Decision () Actual Forecast 4.75% Previous Revised 4.75% Economic Calendar Earnings Calendar Central Bank Calendar FOMC ECB BOE BOC Education Free Trading Guides Forex for Beginners Traits of Successful Traders Cryptocurrency Trading View All Free Trading Guides Trading Courses Forex Trading Basics Understanding the Stock Market Commodities Trading Forex for Beginners Free Trading Guides Live Webinars Trading Research About Us Company Authors Contact English English 日本語 中文（繁體） 中文（简体） 0 Notifications Manage Select Live Webinar Events 0 Economic Calendar Events 0 Notify me about Live Webinar Events Economic Calendar Events H High M Medium L Low EUR/USD Mixed 2d Last updated: Oct 20, 2023 Low High of clients are net long. of clients are net short. Long Short Note: Low and High figures are for the trading day. Data provided by News Markets Week Ahead: S&P 500, Gold, US Dollar; Powell, ECB, BoC, Australia CPI, Germany Ifo, UK jobs 2023-10-22 17:00:00 US Dollar Outlook After Powell: GBP/USD, AUD/USD, EUR/USD Price Action 2023-10-20 04:30:00 Oil - US Crude Mixed 2d Last updated: Oct 20, 2023 Low High of clients are net long. of clients are net short. Long Short Note: Low and High figures are for the trading day. Data provided by News Markets Week Ahead: S&P 500, Gold, US Dollar; Powell, ECB, BoC, Australia CPI, Germany Ifo, UK jobs 2023-10-22 17:00:00 Brent Crude Oil Set for Second Weekly Advance as Tensions Ramp Up 2023-10-20 11:09:26 Wall Street Bearish 2d Last updated: Oct 20, 2023 Low High of clients are net long. of clients are net short. Long Short Note: Low and High figures are for the trading day. Data provided by News Dow, Nasdaq 100 and Nikkei 225 Come under Fresh Pressure\\u200b\\u200b\\u200b\\u200b 2023-10-19 09:35:59 \\u200b\\u200b\\u200b\\u200bIndices Moving Higher Despite Fears of Widening Middle East Conflict\\u200b\\u200b\\u200b\\u200b 2023-10-17 09:41:49 Gold Bullish 2d Last updated: Oct 20, 2023 Low High of clients are net long. of clients are net short. Long Short Note: Low and High figures are for the trading day. Data provided by News Markets Week Ahead: S&P 500, Gold, US Dollar; Powell, ECB, BoC, Australia CPI, Germany Ifo, UK jobs 2023-10-22 17:00:00 Gold/Silver Weekly Forecast: A Dead-Cat Bounce or Game Changer? 2023-10-21 22:00:00 GBP/USD Bullish 2d Last updated: Oct 20, 2023 Low High of clients are net long. of clients are net short. Long Short Note: Low and High figures are for the trading day. Data provided by News Markets Week Ahead: S&P 500, Gold, US Dollar; Powell, ECB, BoC, Australia CPI, Germany Ifo, UK jobs 2023-10-22 17:00:00 US Dollar Outlook After Powell: GBP/USD, AUD/USD, EUR/USD Price Action 2023-10-20 04:30:00 USD/JPY Bullish 2d Last updated: Oct 20, 2023 Low High of clients are net long. of clients are net short. Long Short Note: Low and High figures are for the trading day. Data provided by News USD/JPY Weekly Forecast: Japanese Yen Staggers Towards 150 2023-10-21 04:00:07 Japanese Yen Scoping 150 Plus as US Dollar Consolidates. Higher USD/JPY? 2023-10-20 01:00:00 More View More News The Negative Outlook for Gold: Rising Rates and Strong Dollar.\\nGet your full analysis from @JaradiManish here: https://t.co/4LVmm... Earnings Inflation Monetary Policy More Bitcoin Price (BTC) Real-Time Live Price Data provided by Overview News & Analysis How to Trade BTC/USD Chart Show technical chart Show simple chart Bitcoin\\nchart by TradingView Bitcoin 2d Last updated: Oct 20, 2023 Low High Average True Range Total Intraday Range (% of ATR) Latest Market Volatility Levels Note: Low and High figures are for the trading day. Advertisement Bitcoin (BTC) is recognised as the world’s first truly digitalised digital currency (also known as a cryptocurrency). The Bitcoin price is prone to volatile swings; making it historically popular for traders to speculate on. Follow the live Bitcoin price using the real-time chart, and read the latest Bitcoin news and forecasts to plan your trades using fundamental and technical analysis. Support & Resistance S3 24752.3 S2 24877.1 S1 25954.7 R1 30184.5 R2 30184.5 R3 31786.3 Last updated: 2023-10-20 18:23:24 Pivot Points S3 29299.7 S2 29383.2 S1 29420.6 R1 29504.1 R2 29550.2 R3 29633.7 P 29466.7 Daily Classical Pivot Points. Last Updated: Oct 20, 2023 Advertisement News & Analysis Bitcoin (BTC) Pumping Back to ETF Rumor High, No Smoke Without Fire? 2023-10-20 12:30:54 Bitcoin, Ethereum Trends Diverge; BTC/USD & ETH/USD Price Setups 2023-10-19 06:30:00 Bitcoin Spikes to a High of $29900 on False ETF Approval News 2023-10-16 17:32:31 Bitcoin (BTC) Price Latest: BTC/USD Chart Mixed as 200-day SMA Stands Firm 2023-10-12 11:37:58 Bitcoin Faces Death Cross as XRP Fails to Capitalize on Appeal Ruling 2023-10-10 19:39:38 Bitcoin & Ethereum Jump: BTC/USD & ETH/USD Price Action 2023-10-02 06:00:00 Bitcoin, Ethereum Rally Following Latest ETH Futures ETF Application, Where Next? 2023-09-28 19:30:37 Real Time News DailyFX Oct 22, 2023 Follow See expert analysis for Bitcoin, covering political and economic influences and technical trends. Get your Bitcoin insight from @zvawda  https://t.co/xWxDOyyK7P https://t.co/T3o3lCduui DailyFX Oct 22, 2023 Follow Q4 Market Outlook: Can Bitcoin Break The $30,000 Barrier And Unleash Growth for Q4 and Beyond?\\nFind out more from @zvawda here: https://t.co/Vpmwx2E1ok https://t.co/GfWZSfGWJX DailyFXTeam Oct 20, 2023 Follow https://t.co/bm2tYwhu6k\\nBitcoin Update: \\nBitcoin (BTC) is touching $30k in early turnover as ETF rumors continue to do the rounds. The technical outlook also looks promising for BTC bulls. Update from @nickcawley1 \\n#BTC #Bitcoin #BTCUSD #CryptoNews Economic Calendar 12:30:00 M Chicago Fed National Activity Index (Sep) A: F: P: R: -0.16 15:30:00 L 3-Month Bill Auction () A: F: P: R: 5.34% 15:30:00 L 6-Month Bill Auction () A: F: P: R: 5.335% 00:00:00 L Fed Board Meeting () A: F: P: R: 12:55:00 L Redbook YoY (Oct/21) A: F: P: R: 4.6% 13:45:00 M S&P Global Composite PMI Flash (Oct) A: F: P: R: 50.2 A: Actual F: Forecast P: Previous R: Revised Full Calendar Bitcoin further reading Top Cryptocurrency Trading Stocks For Bitcoin Traders Trading Bitcoin For Stock Traders What is Bitcoin? Understanding Bitcoin as a Cryptocurrency Bitcoin is a weird, wonderful and volatile market to trade. Here’s what to know about this remarkable asset. Bitcoin vs Gold: Top Differences Traders Should Know Discover the differences and similarities between Bitcoin and gold, and how you can trade the two instruments. A Guide to Day Trading Bitcoin & Other Cryptocurrencies This trading guide is designed to help day traders navigate the cryptocurrency market with control and confidence and is built on decades of experience. Advertisement Market News Market Overview Real-Time News Market Themes Analysis Technical Analysis Analyst Picks Forecasts Market Outlook Tools Rates Economic Calendar Live Chart Sentiment Support & Resistance Education Trading courses Free Trading Guides Trading Research Live Webinars Education Archive DailyFX About Us Authors Contact Archive Cookies Risk Warning Privacy T&C Leveraged trading in foreign currency or off-exchange products on margin carries significant risk and may not be suitable for all investors. We advise you to carefully consider whether trading is appropriate for you based on your personal circumstances. Forex trading involves risk. Losses can exceed deposits. We recommend that you seek independent advice and ensure you fully understand the risks involved before trading. FX Publications Inc., abbreviated herein as FXP, (d.b.a DailyFX) is no longer a registered Introducing Broker with the Commodity Futures Trading Commission and is no longer a Member of the National Futures Association in the U.S.  Any and all information provided by FXP is not intended for use by U.S. residents or individuals domiciled in the U.S.   Information presented by FXP should be construed as market commentary, merely observing economical, political and market conditions.  This information is made available for informational purposes only.  It is not a solicitation or a recommendation to trade derivatives contracts or securities and should not be construed or interpreted as financial advice.  Any examples given are provided for illustrative purposes only and no representation is being made that any person will, or is likely to, achieve profits or losses similar to those examples.  FXP is not responsible for any trading decisions taken by persons not intended to view this material.  Registered Address:  251 Little Falls Drive, Wilmington, DE 19808. FX Publications Inc is a subsidiary of IG US Holdings, Inc (a company registered in Delaware under number 4456365).'"
      ]
     },
     "execution_count": 77,
     "metadata": {},
     "output_type": "execute_result"
    }
   ],
   "source": [
    "web_scrap_pages[0]['text']"
   ]
  },
  {
   "cell_type": "markdown",
   "id": "931dc7e0",
   "metadata": {},
   "source": [
    "<h2>Sentiment Analysis</h2>"
   ]
  },
  {
   "cell_type": "code",
   "execution_count": 78,
   "id": "5cc0035b",
   "metadata": {},
   "outputs": [],
   "source": [
    "# References:\n",
    "    #1. https://cnvrg.io/sentiment-analysis-python/\n",
    "    #2. https://spacy.io/usage/spacy-101\n",
    "    #3. https://importsem.com/evaluate-sentiment-analysis-in-bulk-with-spacy-and-python/\n",
    "    #4. https://www.analyticsvidhya.com/blog/2021/06/nlp-application-named-entity-recognition-ner-in-python-with-spacy/\n",
    "    #5. https://www.geeksforgeeks.org/python-named-entity-recognition-ner-using-spacy/\n",
    "    #6. https://josiah-adesola.medium.com/how-to-use-named-entity-recognition-in-spacy-to-analyze-blog-content-c46d50a8eb94\n",
    "    #7. https://spacy.io/models/en"
   ]
  },
  {
   "cell_type": "markdown",
   "id": "362b8e48",
   "metadata": {},
   "source": [
    "<h3> Importing Libraries </h3>"
   ]
  },
  {
   "cell_type": "code",
   "execution_count": 79,
   "id": "0062e0b6",
   "metadata": {},
   "outputs": [],
   "source": [
    "import spacy\n",
    "from spacytextblob.spacytextblob import SpacyTextBlob\n",
    "import nltk\n",
    "from nltk.tokenize import word_tokenize\n",
    "from nltk.corpus import stopwords\n",
    "from nltk.stem import SnowballStemmer\n",
    "from sklearn.feature_extraction.text import CountVectorizer\n",
    "from datetime import date\n",
    "from spacy import displacy"
   ]
  },
  {
   "cell_type": "code",
   "execution_count": 80,
   "id": "38d93420",
   "metadata": {},
   "outputs": [],
   "source": [
    "NER = spacy.load(\"en_core_web_lg\")\n",
    "#NER = spacy.load(\"en_core_web_trf\")\n",
    "NER.add_pipe(\"spacytextblob\")\n",
    "today = date.today()"
   ]
  },
  {
   "cell_type": "markdown",
   "id": "aa769b86",
   "metadata": {},
   "source": [
    "<h3> Defining Custom CountVectorizer </h3>"
   ]
  },
  {
   "cell_type": "code",
   "execution_count": 81,
   "id": "184f8523",
   "metadata": {},
   "outputs": [],
   "source": [
    "class EnglishStemmedCountVectorizer(CountVectorizer):\n",
    "    def build_analyzer(self):\n",
    "        stemmer = SnowballStemmer('english')\n",
    "        stop_words = set(stopwords.words('english'))\n",
    "\n",
    "        def analyze(doc):\n",
    "            words = word_tokenize(doc.lower())\n",
    "            words = [stemmer.stem(word) for word in words if word not in stop_words]\n",
    "            return words\n",
    "\n",
    "        return analyze"
   ]
  },
  {
   "cell_type": "code",
   "execution_count": 82,
   "id": "8fd0903c",
   "metadata": {},
   "outputs": [],
   "source": [
    "english_analyzer = EnglishStemmedCountVectorizer()"
   ]
  },
  {
   "cell_type": "code",
   "execution_count": 83,
   "id": "fb0be74f",
   "metadata": {},
   "outputs": [],
   "source": [
    "X1 = english_analyzer.fit_transform([expected_tokens_text])"
   ]
  },
  {
   "cell_type": "code",
   "execution_count": 84,
   "id": "cf8023be",
   "metadata": {},
   "outputs": [
    {
     "data": {
      "text/plain": [
       "['$',\n",
       " 'bitcoin',\n",
       " 'btc',\n",
       " 'crypto',\n",
       " 'cryptocurr',\n",
       " 'currenc',\n",
       " 'market',\n",
       " 'price',\n",
       " 'sentiment']"
      ]
     },
     "execution_count": 84,
     "metadata": {},
     "output_type": "execute_result"
    }
   ],
   "source": [
    "expected_tokens = english_analyzer.get_feature_names_out().tolist() \n",
    "expected_tokens"
   ]
  },
  {
   "cell_type": "code",
   "execution_count": 115,
   "id": "20e7b153",
   "metadata": {},
   "outputs": [],
   "source": []
  },
  {
   "cell_type": "markdown",
   "id": "9fd01615",
   "metadata": {},
   "source": [
    "<h3>Functions</h3>"
   ]
  },
  {
   "cell_type": "code",
   "execution_count": 118,
   "id": "394f6e88",
   "metadata": {},
   "outputs": [],
   "source": [
    "def get_page_sentiment(doc, threshold=0.02):\n",
    "    polarity = doc._.blob.polarity\n",
    "    page_sentiment = 'NEUTRAL'\n",
    "    if polarity < -threshold:\n",
    "        page_sentiment = \"NEGATIVE\"\n",
    "    elif polarity > threshold:\n",
    "        page_sentiment = \"POSITIVE\"\n",
    "    \n",
    "    return {\n",
    "        \"polarity\": polarity,\n",
    "        \"sentiment\": page_sentiment\n",
    "    }"
   ]
  },
  {
   "cell_type": "code",
   "execution_count": 162,
   "id": "f154d6a9",
   "metadata": {},
   "outputs": [],
   "source": [
    "def get_NERS_from_page(doc, mineable_words):\n",
    "    ners_with_frequency = []\n",
    "\n",
    "    for token in doc.ents:\n",
    "        ner_frequency = mineable_words.count(token.lemma_)\n",
    "\n",
    "        if ner_frequency != 0:\n",
    "            ner_info = {\n",
    "                'lemma': token.lemma_,\n",
    "                'label': token.label_,\n",
    "                'frequency': ner_frequency\n",
    "            }\n",
    "            if ner_info not in ners_with_frequency:\n",
    "                ners_with_frequency.append(ner_info)\n",
    "\n",
    "    return ners_with_frequency"
   ]
  },
  {
   "cell_type": "code",
   "execution_count": 151,
   "id": "4dd3df42",
   "metadata": {},
   "outputs": [],
   "source": [
    "def analyze_page_sentiment(page_title, mineable_text):\n",
    "    try:\n",
    "        print(f\"=== Analyzing Sentiment for {page_title} ===\")\n",
    "        doc = NER(mineable_text)\n",
    "        #displacy.render(doc,style=\"ent\",jupyter=True)\n",
    "        mineable_words = list(word_tokenize(mineable_text))\n",
    "        ners = get_NERS_from_page(doc, mineable_text)\n",
    "        sentiment = get_page_sentiment(doc)\n",
    "        return {\n",
    "            \"ners\": ners,\n",
    "            \"timestamp\": today.isoformat(),\n",
    "            \"sentiment\": sentiment\n",
    "        }\n",
    "    except Exception as e:\n",
    "        print(f\"Error in analyzing sentiment for {page_title}\")\n",
    "        print(f\"An error occurred {e}\")\n",
    "        return None"
   ]
  },
  {
   "cell_type": "code",
   "execution_count": 119,
   "id": "6c8e036c",
   "metadata": {},
   "outputs": [],
   "source": [
    "def analyze_page_content(web_page):\n",
    "    page_title = web_page['title']\n",
    "    mineable_text = web_page['text']\n",
    "    english_analyzer = EnglishStemmedCountVectorizer()\n",
    "    try:\n",
    "        print(f\"====== Analyzing Content for {page_title} ======\")\n",
    "        X1 = english_analyzer.fit_transform([mineable_text])\n",
    "        page_tokens = english_analyzer.get_feature_names_out().tolist() \n",
    "        if all(token not in expected_tokens for token in page_tokens):\n",
    "            raise Exception(\"Web content discarded, not a single expected token was found\")\n",
    "        \n",
    "        sentiment_result = analyze_page_sentiment(page_title, mineable_text)\n",
    "        sentiment_result['page_title'] = page_title\n",
    "        sentiment_result['page_url'] = web_page['page_url']\n",
    "        sentiment_result['mineable_text'] = mineable_text\n",
    "        return sentiment_result\n",
    "\n",
    "    except Exception as e:\n",
    "        print(f\"Error in analyzing {page_title}\")\n",
    "        print(f\"An error occurred {e}\")\n",
    "        return None"
   ]
  },
  {
   "cell_type": "code",
   "execution_count": 164,
   "id": "9995eefe",
   "metadata": {},
   "outputs": [
    {
     "name": "stdout",
     "output_type": "stream",
     "text": [
      "====== Analyzing Content for Bitcoin Price Today | BTC Live Chart and Forecast ======\n",
      "=== Analyzing Sentiment for Bitcoin Price Today | BTC Live Chart and Forecast ===\n",
      "====== Analyzing Content for Bitcoin Investor Sentiment Remains Steady As BTC Stalls At $16,000 ======\n",
      "=== Analyzing Sentiment for Bitcoin Investor Sentiment Remains Steady As BTC Stalls At $16,000 ===\n",
      "====== Analyzing Content for 3 Bitcoin Sentiment Analysis Tools: How They Work & How to Use Them ======\n",
      "=== Analyzing Sentiment for 3 Bitcoin Sentiment Analysis Tools: How They Work & How to Use Them ===\n",
      "====== Analyzing Content for Bitcoin shorts vs Longs - Click for BTC margin charts - Datamish ======\n",
      "=== Analyzing Sentiment for Bitcoin shorts vs Longs - Click for BTC margin charts - Datamish ===\n",
      "====== Analyzing Content for sentix Bitcoin sentiment index - Crypto Currencies Sentiment ======\n",
      "=== Analyzing Sentiment for sentix Bitcoin sentiment index - Crypto Currencies Sentiment ===\n",
      "====== Analyzing Content for BTC Dominance Is Behaving Weirdly, and That’s Sort of Good ======\n",
      "=== Analyzing Sentiment for BTC Dominance Is Behaving Weirdly, and That’s Sort of Good ===\n",
      "====== Analyzing Content for Bitcoin (BTC), Immutable (IMX), and VC Spectra (SPCT) Sustain Bullish Sentiment in Crypto Community | Finbold ======\n",
      "=== Analyzing Sentiment for Bitcoin (BTC), Immutable (IMX), and VC Spectra (SPCT) Sustain Bullish Sentiment in Crypto Community | Finbold ===\n",
      "====== Analyzing Content for MSN ======\n",
      "Error in analyzing MSN\n",
      "An error occurred Web content discarded, not a single expected token was found\n",
      "====== Analyzing Content for Is the future of bitcoin safe? A triangulation approach in the reality of BTC market through a sentiments analysis | SpringerLink ======\n",
      "=== Analyzing Sentiment for Is the future of bitcoin safe? A triangulation approach in the reality of BTC market through a sentiments analysis | SpringerLink ===\n",
      "====== Analyzing Content for The home of crypto currencies sentiment - Crypto Currencies Sentiment ======\n",
      "=== Analyzing Sentiment for The home of crypto currencies sentiment - Crypto Currencies Sentiment ===\n",
      "====== Analyzing Content for What Is Crypto Market Sentiment? | Binance Academy ======\n",
      "=== Analyzing Sentiment for What Is Crypto Market Sentiment? | Binance Academy ===\n",
      "====== Analyzing Content for Bitcoin Sentiment Now Close To Extreme Fear: Why This Matters ======\n",
      "=== Analyzing Sentiment for Bitcoin Sentiment Now Close To Extreme Fear: Why This Matters ===\n",
      "====== Analyzing Content for Bitcoin: Why Iâm Buying 14-Year Old Tulips With Both Hands (BTC-USD) | Seeking Alpha ======\n",
      "=== Analyzing Sentiment for Bitcoin: Why Iâm Buying 14-Year Old Tulips With Both Hands (BTC-USD) | Seeking Alpha ===\n",
      "====== Analyzing Content for Introducing Gemini's BitcoinBuzz Sentiment Indicator | Gemini ======\n",
      "=== Analyzing Sentiment for Introducing Gemini's BitcoinBuzz Sentiment Indicator | Gemini ===\n",
      "====== Analyzing Content for Bitcoin (BTC) Sentiment is Bullish But is $98 Million Even Possible? ======\n",
      "=== Analyzing Sentiment for Bitcoin (BTC) Sentiment is Bullish But is $98 Million Even Possible? ===\n",
      "====== Analyzing Content for Bitcoin: What do the next 2 years hold for BTC? - AMBCrypto ======\n",
      "=== Analyzing Sentiment for Bitcoin: What do the next 2 years hold for BTC? - AMBCrypto ===\n",
      "====== Analyzing Content for undefined (undefined): Sentiment, Live Charts, Signals | CryptoEQ ======\n",
      "=== Analyzing Sentiment for undefined (undefined): Sentiment, Live Charts, Signals | CryptoEQ ===\n",
      "====== Analyzing Content for Crypto Fear and Greed Index - Bitcoin Momentum Tracker ======\n",
      "=== Analyzing Sentiment for Crypto Fear and Greed Index - Bitcoin Momentum Tracker ===\n",
      "====== Analyzing Content for Chainlink (LINK) Defies Market Sentiment, Bitcoin (BTC) Stalls at $26.5K (Weekend Watch) ======\n",
      "=== Analyzing Sentiment for Chainlink (LINK) Defies Market Sentiment, Bitcoin (BTC) Stalls at $26.5K (Weekend Watch) ===\n",
      "====== Analyzing Content for Bitcoin Sentiment Returns To Neutral As Price Tumbles Down ======\n",
      "=== Analyzing Sentiment for Bitcoin Sentiment Returns To Neutral As Price Tumbles Down ===\n",
      "====== Analyzing Content for Live Crypto Fear and Greed Index (Updated: Oct 22, 2023) ======\n",
      "=== Analyzing Sentiment for Live Crypto Fear and Greed Index (Updated: Oct 22, 2023) ===\n",
      "====== Analyzing Content for Bitcoin (BTC) Prices Cross $30K as Bulls Charge Ahead With ETF Optimism ======\n",
      "=== Analyzing Sentiment for Bitcoin (BTC) Prices Cross $30K as Bulls Charge Ahead With ETF Optimism ===\n",
      "====== Analyzing Content for Bitcoin Records Eighth Week of Losses, but Sentiment Indicator Suggests Upside ======\n",
      "=== Analyzing Sentiment for Bitcoin Records Eighth Week of Losses, but Sentiment Indicator Suggests Upside ===\n",
      "====== Analyzing Content for Bitcoin price today, BTC to USD live price, marketcap and chart | CoinMarketCap ======\n",
      "=== Analyzing Sentiment for Bitcoin price today, BTC to USD live price, marketcap and chart | CoinMarketCap ===\n",
      "====== Analyzing Content for Bitcoin Overview - CME Group ======\n",
      "=== Analyzing Sentiment for Bitcoin Overview - CME Group ===\n",
      "====== Analyzing Content for This Is ‘Not Priced In’—A ‘Huge Shift’ Just Happened That’s About To Blow Up The Bitcoin, Ethereum, XRP And Crypto Market ======\n",
      "=== Analyzing Sentiment for This Is ‘Not Priced In’—A ‘Huge Shift’ Just Happened That’s About To Blow Up The Bitcoin, Ethereum, XRP And Crypto Market ===\n",
      "====== Analyzing Content for Bloomberg - Are you a robot? ======\n",
      "Error in analyzing Bloomberg - Are you a robot?\n",
      "An error occurred Web content discarded, not a single expected token was found\n",
      "====== Analyzing Content for 7 Cryptos to Watch as Market Sentiment Hits a Snag | InvestorPlace ======\n",
      "=== Analyzing Sentiment for 7 Cryptos to Watch as Market Sentiment Hits a Snag | InvestorPlace ===\n",
      "====== Analyzing Content for Bitcoin Surges 81% YTD: Is The Rally For Real Or Just FOMO? (BTC-USD) | Seeking Alpha ======\n",
      "=== Analyzing Sentiment for Bitcoin Surges 81% YTD: Is The Rally For Real Or Just FOMO? (BTC-USD) | Seeking Alpha ===\n",
      "====== Analyzing Content for BTC/USD BITCOIN ======\n",
      "=== Analyzing Sentiment for BTC/USD BITCOIN ===\n",
      "====== Analyzing Content for Crypto Fear & Greed Index for October 22, 2023 ======\n",
      "=== Analyzing Sentiment for Crypto Fear & Greed Index for October 22, 2023 ===\n",
      "====== Analyzing Content for Predicting bitcoin price movements using sentiment analysis: a machine learning approach\n",
      " |  Emerald Insight ======\n",
      "=== Analyzing Sentiment for Predicting bitcoin price movements using sentiment analysis: a machine learning approach\n",
      " |  Emerald Insight ===\n",
      "====== Analyzing Content for Bitcoin Sentiment – Bull & Bear Index – Augmento ======\n",
      "=== Analyzing Sentiment for Bitcoin Sentiment – Bull & Bear Index – Augmento ===\n",
      "====== Analyzing Content for Bitcoin (BTC) Price Prediction 2023, 2024, 2025â2030 | CoinCodex ======\n",
      "=== Analyzing Sentiment for Bitcoin (BTC) Price Prediction 2023, 2024, 2025â2030 | CoinCodex ===\n",
      "====== Analyzing Content for Bitcoin (BTC) Latest – Breaking Higher, A Change of Sentiment? ======\n",
      "=== Analyzing Sentiment for Bitcoin (BTC) Latest – Breaking Higher, A Change of Sentiment? ===\n",
      "====== Analyzing Content for Trade USD | USD to  | Bitcoin (USD)  | IG International ======\n",
      "=== Analyzing Sentiment for Trade USD | USD to  | Bitcoin (USD)  | IG International ===\n",
      "====== Analyzing Content for Crypto Sentiment | CoinCodex ======\n",
      "=== Analyzing Sentiment for Crypto Sentiment | CoinCodex ===\n",
      "====== Analyzing Content for Popular Crypto Indicators and Token Metrics | Gemini ======\n",
      "=== Analyzing Sentiment for Popular Crypto Indicators and Token Metrics | Gemini ===\n",
      "====== Analyzing Content for IG Client Sentiment Report 2023-10-22 20:00 ======\n",
      "=== Analyzing Sentiment for IG Client Sentiment Report 2023-10-22 20:00 ===\n",
      "====== Analyzing Content for Bitcoin (BTC/USD)  Struggling to Break Stubborn Resistance Around $25k ======\n",
      "=== Analyzing Sentiment for Bitcoin (BTC/USD)  Struggling to Break Stubborn Resistance Around $25k ===\n",
      "====== Analyzing Content for Crypto Sentiment API - BittsAnalytics API Documentation (2.1.0) ======\n",
      "=== Analyzing Sentiment for Crypto Sentiment API - BittsAnalytics API Documentation (2.1.0) ===\n",
      "====== Analyzing Content for Bitcoin Fear and Greed Index - Sentiment Analysis | CFGI.io ======\n",
      "=== Analyzing Sentiment for Bitcoin Fear and Greed Index - Sentiment Analysis | CFGI.io ===\n"
     ]
    },
    {
     "name": "stdout",
     "output_type": "stream",
     "text": [
      "====== Analyzing Content for BDCC | Free Full-Text | A Complete VADER-Based Sentiment Analysis of Bitcoin (BTC) Tweets during the Era of COVID-19 ======\n",
      "=== Analyzing Sentiment for BDCC | Free Full-Text | A Complete VADER-Based Sentiment Analysis of Bitcoin (BTC) Tweets during the Era of COVID-19 ===\n",
      "====== Analyzing Content for What Is Long/Short Ratio and What Does It Convey in Cryptocurrency Futures? | Binance Blog ======\n",
      "=== Analyzing Sentiment for What Is Long/Short Ratio and What Does It Convey in Cryptocurrency Futures? | Binance Blog ===\n",
      "====== Analyzing Content for Bitcoin Price | BTC Price Index and Live Chart - CoinDesk ======\n",
      "=== Analyzing Sentiment for Bitcoin Price | BTC Price Index and Live Chart - CoinDesk ===\n",
      "====== Analyzing Content for Bitcoin Price Prediction, News, and Analysis (BTC) ======\n",
      "=== Analyzing Sentiment for Bitcoin Price Prediction, News, and Analysis (BTC) ===\n",
      "====== Analyzing Content for Bitcoin Price Prediction 2023, 2024, 2025, 2026 - 2030 ======\n",
      "=== Analyzing Sentiment for Bitcoin Price Prediction 2023, 2024, 2025, 2026 - 2030 ===\n",
      "====== Analyzing Content for Bitcoin, XRP and Two Other Trends Are Driving the Crypto Markets Right Now, According to Analytics Firm Santiment - The Daily Hodl ======\n",
      "=== Analyzing Sentiment for Bitcoin, XRP and Two Other Trends Are Driving the Crypto Markets Right Now, According to Analytics Firm Santiment - The Daily Hodl ===\n",
      "====== Analyzing Content for Bitcoin Sentiment Index - CoinDesk ======\n",
      "=== Analyzing Sentiment for Bitcoin Sentiment Index - CoinDesk ===\n",
      "====== Analyzing Content for Bitcoin historical data for csv download, BTC free prices, sentiment and other crypto data sets history ======\n",
      "=== Analyzing Sentiment for Bitcoin historical data for csv download, BTC free prices, sentiment and other crypto data sets history ===\n",
      "====== Analyzing Content for Bitcoin Sentiment Returns To Neutral, Will Traders Embrace Greed Next? ======\n",
      "=== Analyzing Sentiment for Bitcoin Sentiment Returns To Neutral, Will Traders Embrace Greed Next? ===\n",
      "====== Analyzing Content for Bitcoin (BTC) Price Outlook if a Spot Bitcoin ETF Gets Approved by the SEC ======\n",
      "=== Analyzing Sentiment for Bitcoin (BTC) Price Outlook if a Spot Bitcoin ETF Gets Approved by the SEC ===\n",
      "====== Analyzing Content for Crypto Dashboard - Alternative.me ======\n",
      "=== Analyzing Sentiment for Crypto Dashboard - Alternative.me ===\n",
      "====== Analyzing Content for Bitcoin Trader Sentiment Returns To Greed As BTC Jumps Past $25,000 ======\n",
      "=== Analyzing Sentiment for Bitcoin Trader Sentiment Returns To Greed As BTC Jumps Past $25,000 ===\n",
      "====== Analyzing Content for Bitcoin Sentiment Turns Neutral As BTC Plunges Below $29,000 | Bitcoinist.com ======\n",
      "=== Analyzing Sentiment for Bitcoin Sentiment Turns Neutral As BTC Plunges Below $29,000 | Bitcoinist.com ===\n",
      "====== Analyzing Content for Bitcoin's Hidden Indicator - Social Dominance - Santiment Community Insights ======\n",
      "=== Analyzing Sentiment for Bitcoin's Hidden Indicator - Social Dominance - Santiment Community Insights ===\n",
      "====== Analyzing Content for Bitcoin Sentiment Reaches Local High, But Can’t Shake Recent Fear ======\n",
      "=== Analyzing Sentiment for Bitcoin Sentiment Reaches Local High, But Can’t Shake Recent Fear ===\n",
      "====== Analyzing Content for Bitcoin IG Client Sentiment: Our data shows traders are now at their least net-long Bitcoin since Jan 02 when Bitcoin traded near 32,175.37. ======\n",
      "=== Analyzing Sentiment for Bitcoin IG Client Sentiment: Our data shows traders are now at their least net-long Bitcoin since Jan 02 when Bitcoin traded near 32,175.37. ===\n",
      "====== Analyzing Content for Bitcoin Price Prediction 2030–2050 | What Will Bitcoin Be Worth in 2030? ======\n",
      "=== Analyzing Sentiment for Bitcoin Price Prediction 2030–2050 | What Will Bitcoin Be Worth in 2030? ===\n",
      "====== Analyzing Content for Buy Signal? Bitcoin Investor Sentiment Falls To Lowest Level In Two Months ======\n",
      "=== Analyzing Sentiment for Buy Signal? Bitcoin Investor Sentiment Falls To Lowest Level In Two Months ===\n",
      "====== Analyzing Content for Rising Sentiment Dampens Bitcoin’s Correlation With U.S. Stocks ======\n",
      "=== Analyzing Sentiment for Rising Sentiment Dampens Bitcoin’s Correlation With U.S. Stocks ===\n",
      "====== Analyzing Content for Is Bitcoin a Screaming Buy Right Now? This Metric Says Yes | The Motley Fool ======\n",
      "=== Analyzing Sentiment for Is Bitcoin a Screaming Buy Right Now? This Metric Says Yes | The Motley Fool ===\n",
      "====== Analyzing Content for Bitcoin Sentiment On Social Media Now Most Red Since COVID Crash, Bottom Signal? ======\n",
      "=== Analyzing Sentiment for Bitcoin Sentiment On Social Media Now Most Red Since COVID Crash, Bottom Signal? ===\n",
      "====== Analyzing Content for Bloomberg - Are you a robot? ======\n",
      "Error in analyzing Bloomberg - Are you a robot?\n",
      "An error occurred Web content discarded, not a single expected token was found\n",
      "====== Analyzing Content for Bitcoin Price Prediction: BTC Stops The Drop - Bullish Sentiments Taking Over? ======\n",
      "=== Analyzing Sentiment for Bitcoin Price Prediction: BTC Stops The Drop - Bullish Sentiments Taking Over? ===\n",
      "====== Analyzing Content for Crypto Fear & Greed Index - Bitcoin Sentiment - Alternative.me ======\n",
      "=== Analyzing Sentiment for Crypto Fear & Greed Index - Bitcoin Sentiment - Alternative.me ===\n",
      "====== Analyzing Content for Fidelity Spot Bitcoin ETF Amendment Spurs BTC Jump on SEC Dialog Speculation ======\n",
      "=== Analyzing Sentiment for Fidelity Spot Bitcoin ETF Amendment Spurs BTC Jump on SEC Dialog Speculation ===\n",
      "====== Analyzing Content for Bitcoin (BTC) Price, Real-time Quote & News - Google Finance ======\n",
      "=== Analyzing Sentiment for Bitcoin (BTC) Price, Real-time Quote & News - Google Finance ===\n",
      "====== Analyzing Content for Bitcoin Price Prediction: BTC Rises 4% Amidst Dovish FOMC Sentiment ======\n",
      "=== Analyzing Sentiment for Bitcoin Price Prediction: BTC Rises 4% Amidst Dovish FOMC Sentiment ===\n"
     ]
    }
   ],
   "source": [
    "result_analysis = list(filter(lambda wbp: wbp is not None, map(analyze_page_content, web_scrap_pages)))"
   ]
  },
  {
   "cell_type": "code",
   "execution_count": 165,
   "id": "46afd65d",
   "metadata": {},
   "outputs": [
    {
     "data": {
      "text/plain": [
       "66"
      ]
     },
     "execution_count": 165,
     "metadata": {},
     "output_type": "execute_result"
    }
   ],
   "source": [
    "len(result_analysis)"
   ]
  },
  {
   "cell_type": "code",
   "execution_count": 167,
   "id": "7d6f3a2f",
   "metadata": {},
   "outputs": [
    {
     "data": {
      "text/plain": [
       "{'ners': [{'lemma': 'Oct 22', 'label': 'DATE', 'frequency': 10},\n",
       "  {'lemma': 'Gold', 'label': 'ORG', 'frequency': 16},\n",
       "  {'lemma': 'Powell', 'label': 'PERSON', 'frequency': 10},\n",
       "  {'lemma': 'ECB', 'label': 'ORG', 'frequency': 10},\n",
       "  {'lemma': 'BoC', 'label': 'GPE', 'frequency': 8},\n",
       "  {'lemma': 'Australia', 'label': 'GPE', 'frequency': 8},\n",
       "  {'lemma': 'Germany Ifo', 'label': 'GPE', 'frequency': 8},\n",
       "  {'lemma': 'UK', 'label': 'GPE', 'frequency': 8},\n",
       "  {'lemma': 'Oct 21', 'label': 'DATE', 'frequency': 8},\n",
       "  {'lemma': '2023', 'label': 'CARDINAL', 'frequency': 53},\n",
       "  {'lemma': 'Gold/Silver Weekly', 'label': 'ORG', 'frequency': 3},\n",
       "  {'lemma': '150', 'label': 'CARDINAL', 'frequency': 5},\n",
       "  {'lemma': 'Alphabet', 'label': 'ORG', 'frequency': 2},\n",
       "  {'lemma': 'Microsoft', 'label': 'ORG', 'frequency': 2},\n",
       "  {'lemma': 'Amazon', 'label': 'ORG', 'frequency': 2},\n",
       "  {'lemma': '2023 US Dollar', 'label': 'MONEY', 'frequency': 2},\n",
       "  {'lemma': 'Fed', 'label': 'ORG', 'frequency': 5},\n",
       "  {'lemma': 'US', 'label': 'GPE', 'frequency': 53},\n",
       "  {'lemma': '2023', 'label': 'DATE', 'frequency': 53},\n",
       "  {'lemma': '2023 Euro', 'label': 'DATE', 'frequency': 1},\n",
       "  {'lemma': '500', 'label': 'CARDINAL', 'frequency': 11},\n",
       "  {'lemma': '150 Oct 20', 'label': 'DATE', 'frequency': 1},\n",
       "  {'lemma': 'Russell', 'label': 'PERSON', 'frequency': 1},\n",
       "  {'lemma': 'Oct 20', 'label': 'DATE', 'frequency': 12},\n",
       "  {'lemma': 'Oct 19', 'label': 'DATE', 'frequency': 1},\n",
       "  {'lemma': 'Oct 16', 'label': 'DATE', 'frequency': 1},\n",
       "  {'lemma': 'Oct 12', 'label': 'DATE', 'frequency': 1},\n",
       "  {'lemma': '200-day', 'label': 'DATE', 'frequency': 2},\n",
       "  {'lemma': 'Support & Resistance View S&R', 'label': 'ORG', 'frequency': 1},\n",
       "  {'lemma': '3.4%', 'label': 'PERCENT', 'frequency': 1},\n",
       "  {'lemma': '3.2%', 'label': 'PERCENT', 'frequency': 1},\n",
       "  {'lemma': '13:00:00', 'label': 'TIME', 'frequency': 1},\n",
       "  {'lemma': '4.75%', 'label': 'PERCENT', 'frequency': 2},\n",
       "  {'lemma': 'English', 'label': 'LANGUAGE', 'frequency': 3},\n",
       "  {'lemma': 'the trading day', 'label': 'DATE', 'frequency': 7},\n",
       "  {'lemma': '2023-10-22', 'label': 'DATE', 'frequency': 4},\n",
       "  {'lemma': '17:00:00', 'label': 'TIME', 'frequency': 4},\n",
       "  {'lemma': 'US Dollar Outlook', 'label': 'EVENT', 'frequency': 2},\n",
       "  {'lemma': '2023-10-20', 'label': 'DATE', 'frequency': 6},\n",
       "  {'lemma': '11:09:26', 'label': 'TIME', 'frequency': 1},\n",
       "  {'lemma': 'News Dow', 'label': 'ORG', 'frequency': 1},\n",
       "  {'lemma': '2023-10-19', 'label': 'DATE', 'frequency': 2},\n",
       "  {'lemma': '2023-10-17', 'label': 'DATE', 'frequency': 1},\n",
       "  {'lemma': '2023-10-21', 'label': 'DATE', 'frequency': 2},\n",
       "  {'lemma': 'ATR', 'label': 'ORG', 'frequency': 1},\n",
       "  {'lemma': 'first', 'label': 'ORDINAL', 'frequency': 1},\n",
       "  {'lemma': '24752.3', 'label': 'CARDINAL', 'frequency': 1},\n",
       "  {'lemma': '24877.1', 'label': 'CARDINAL', 'frequency': 1},\n",
       "  {'lemma': '30184.5', 'label': 'CARDINAL', 'frequency': 2},\n",
       "  {'lemma': '31786.3', 'label': 'CARDINAL', 'frequency': 1},\n",
       "  {'lemma': '2023-10-20', 'label': 'CARDINAL', 'frequency': 6},\n",
       "  {'lemma': 'Pivot Points', 'label': 'WORK_OF_ART', 'frequency': 2},\n",
       "  {'lemma': '29466.7', 'label': 'CARDINAL', 'frequency': 1},\n",
       "  {'lemma': '12:30:54 Bitcoin', 'label': 'PERSON', 'frequency': 1},\n",
       "  {'lemma': 'Ethereum', 'label': 'GPE', 'frequency': 5},\n",
       "  {'lemma': '2023-10-16 17:32:31', 'label': 'DATE', 'frequency': 1},\n",
       "  {'lemma': '2023-10-10', 'label': 'DATE', 'frequency': 1},\n",
       "  {'lemma': 'Bitcoin & Ethereum Jump', 'label': 'ORG', 'frequency': 1},\n",
       "  {'lemma': '2023-10-02', 'label': 'DATE', 'frequency': 1},\n",
       "  {'lemma': '2023-09-28', 'label': 'DATE', 'frequency': 1},\n",
       "  {'lemma': '@zvawda  https://t.co/xWxDOyyK7P https://t.co/T3o3lCduui DailyFX Oct 22',\n",
       "   'label': 'ORG',\n",
       "   'frequency': 1},\n",
       "  {'lemma': '@zvawda', 'label': 'PERSON', 'frequency': 2},\n",
       "  {'lemma': '30k', 'label': 'MONEY', 'frequency': 1},\n",
       "  {'lemma': '#BTC #Bitcoin', 'label': 'MONEY', 'frequency': 1},\n",
       "  {'lemma': 'BTCUSD #CryptoNews Economic Calendar',\n",
       "   'label': 'ORG',\n",
       "   'frequency': 1},\n",
       "  {'lemma': '5.34%', 'label': 'PERCENT', 'frequency': 1},\n",
       "  {'lemma': '5.335%', 'label': 'PERCENT', 'frequency': 1},\n",
       "  {'lemma': 'L Fed Board', 'label': 'ORG', 'frequency': 1},\n",
       "  {'lemma': 'YoY', 'label': 'MONEY', 'frequency': 2},\n",
       "  {'lemma': '4.6%', 'label': 'PERCENT', 'frequency': 1},\n",
       "  {'lemma': 'M S&P Global Composite PMI Flash',\n",
       "   'label': 'ORG',\n",
       "   'frequency': 1},\n",
       "  {'lemma': '50.2', 'label': 'CARDINAL', 'frequency': 2},\n",
       "  {'lemma': 'two', 'label': 'CARDINAL', 'frequency': 1},\n",
       "  {'lemma': 'decade', 'label': 'DATE', 'frequency': 1},\n",
       "  {'lemma': 'FX Publications Inc.', 'label': 'ORG', 'frequency': 1},\n",
       "  {'lemma': 'FXP', 'label': 'ORG', 'frequency': 4},\n",
       "  {'lemma': 'Introducing Broker', 'label': 'WORK_OF_ART', 'frequency': 1},\n",
       "  {'lemma': 'the Commodity Futures Trading Commission',\n",
       "   'label': 'ORG',\n",
       "   'frequency': 1},\n",
       "  {'lemma': 'the National Futures Association',\n",
       "   'label': 'ORG',\n",
       "   'frequency': 1},\n",
       "  {'lemma': 'U.S.', 'label': 'GPE', 'frequency': 3},\n",
       "  {'lemma': '251', 'label': 'CARDINAL', 'frequency': 1},\n",
       "  {'lemma': 'Wilmington', 'label': 'GPE', 'frequency': 1},\n",
       "  {'lemma': 'DE 19808', 'label': 'ORG', 'frequency': 1},\n",
       "  {'lemma': 'FX Publications Inc', 'label': 'ORG', 'frequency': 2},\n",
       "  {'lemma': 'IG US Holdings, Inc', 'label': 'ORG', 'frequency': 1},\n",
       "  {'lemma': 'Delaware', 'label': 'GPE', 'frequency': 1},\n",
       "  {'lemma': 'number 4456365', 'label': 'CARDINAL', 'frequency': 1}],\n",
       " 'timestamp': '2023-10-22',\n",
       " 'sentiment': {'polarity': 0.089277022190408, 'sentiment': 'POSITIVE'},\n",
       " 'page_title': 'Bitcoin Price Today | BTC Live Chart and Forecast',\n",
       " 'page_url': 'https://www.dailyfx.com/bitcoin'}"
      ]
     },
     "execution_count": 167,
     "metadata": {},
     "output_type": "execute_result"
    }
   ],
   "source": [
    "result_analysis[0]"
   ]
  },
  {
   "cell_type": "markdown",
   "id": "f993f251",
   "metadata": {},
   "source": [
    "<h2>Storage of Sentiment and Pages</h2>"
   ]
  },
  {
   "cell_type": "code",
   "execution_count": null,
   "id": "818ae1dd",
   "metadata": {},
   "outputs": [],
   "source": []
  }
 ],
 "metadata": {
  "kernelspec": {
   "display_name": "Python 3 (ipykernel)",
   "language": "python",
   "name": "python3"
  },
  "language_info": {
   "codemirror_mode": {
    "name": "ipython",
    "version": 3
   },
   "file_extension": ".py",
   "mimetype": "text/x-python",
   "name": "python",
   "nbconvert_exporter": "python",
   "pygments_lexer": "ipython3",
   "version": "3.9.12"
  }
 },
 "nbformat": 4,
 "nbformat_minor": 5
}
