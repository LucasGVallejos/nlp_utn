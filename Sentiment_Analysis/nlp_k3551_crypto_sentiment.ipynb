{
 "cells": [
  {
   "cell_type": "markdown",
   "id": "715b7abb",
   "metadata": {},
   "source": [
    "<h1>Emotion Detection and Information Retrieval</h1>"
   ]
  },
  {
   "cell_type": "markdown",
   "id": "9b62b9d1",
   "metadata": {},
   "source": [
    "<h2>Installing Libraries</h2>"
   ]
  },
  {
   "cell_type": "code",
   "execution_count": 49,
   "id": "d8b59b9c",
   "metadata": {
    "scrolled": true
   },
   "outputs": [],
   "source": [
    "#!pip install duckduckgo-search\n",
    "#!pip install search-engines\n",
    "#!pip install beautifulsoup4"
   ]
  },
  {
   "cell_type": "markdown",
   "id": "0fcabefd",
   "metadata": {},
   "source": [
    "<h2>Defining Relevant Tokens</h2>"
   ]
  },
  {
   "cell_type": "code",
   "execution_count": 50,
   "id": "33dbb958",
   "metadata": {},
   "outputs": [],
   "source": [
    "cryptocurrency_name = \"bitcoin\"\n",
    "cryptocurrency_symbol = \"$BTC\"\n",
    "keywords = f\"{cryptocurrency_name} {cryptocurrency_symbol} sentiment\"\n",
    "keywords_for_news = f\"{cryptocurrency_name} crypto\""
   ]
  },
  {
   "cell_type": "markdown",
   "id": "f65c7cb2",
   "metadata": {},
   "source": [
    "<h2>Retrieve Links from Search Engines</h2>"
   ]
  },
  {
   "cell_type": "code",
   "execution_count": 51,
   "id": "83800c7e",
   "metadata": {},
   "outputs": [],
   "source": [
    "# References:\n",
    "############# DuckDuckGo\n",
    "# (GoogleSearch) 1. https://medium.com/@nutanbhogendrasharma/how-to-scrape-google-search-engines-in-python-44770b8eab5\n",
    "# (DuckDuckGo)   2. https://pypi.org/project/duckduckgo-search/\n",
    "# (DuckDuckGo vs GoogleSearch) 3. https://medium.com/hackernoon/duckduckgo-vs-google-what-you-need-to-know-869368b08c4f\n",
    "# (DuckDuckGo vs GoogleSearch) 4. https://www.cnet.com/tech/mobile/in-ios-17-apple-adds-ability-to-change-search-engine-in-safari-private-browsing/\n",
    "\n",
    "############# Serch engines like Bing or Yahoo\n",
    "#https://pypi.org/project/search-engines/"
   ]
  },
  {
   "cell_type": "markdown",
   "id": "904dd1f2",
   "metadata": {},
   "source": [
    "<h3> Importing Libraries </h3>"
   ]
  },
  {
   "cell_type": "code",
   "execution_count": 52,
   "id": "766f1287",
   "metadata": {},
   "outputs": [],
   "source": [
    "from duckduckgo_search import DDGS\n",
    "from search_engines import bing_search, yahoo_search\n",
    "import requests"
   ]
  },
  {
   "cell_type": "code",
   "execution_count": 53,
   "id": "c9f6788d",
   "metadata": {},
   "outputs": [],
   "source": [
    "MAX_SITES_RESULTS = 100\n",
    "TIMEOUT_SECONDS = 5"
   ]
  },
  {
   "cell_type": "markdown",
   "id": "fb0ee6c9",
   "metadata": {},
   "source": [
    "<h3>Functions</h3>"
   ]
  },
  {
   "cell_type": "code",
   "execution_count": 54,
   "id": "a0c7205a",
   "metadata": {},
   "outputs": [],
   "source": [
    "def get_results(search_engine, page_url):\n",
    "    try:\n",
    "        response = requests.get(page_url, timeout=TIMEOUT_SECONDS)\n",
    "        response.raise_for_status()  # Raise an exception for HTTP errors\n",
    "        html = response.text\n",
    "        results, next_page_url = search_engine.extract_search_results(html, page_url)\n",
    "        return results, response.url\n",
    "    except requests.exceptions.RequestException as e:\n",
    "        print(f\"An error occurred during 'get_results' function execution: {e}\")\n",
    "        return [], None"
   ]
  },
  {
   "cell_type": "code",
   "execution_count": 55,
   "id": "6b3a0012",
   "metadata": {},
   "outputs": [],
   "source": [
    "def fetch_search_results(search_engine, query, max_results):\n",
    "    search_results = []\n",
    "    search_url = search_engine.get_search_url(query)\n",
    "\n",
    "    while len(search_results) < max_results and search_url:\n",
    "        try:\n",
    "            next_search_results, search_url = get_results(search_engine, search_url)\n",
    "            for result in next_search_results:\n",
    "                if \"url\" in result:\n",
    "                    search_results.append(result['url'])\n",
    "        except Exception as e:\n",
    "            print(f\"An error occurred during 'fetch_search_results' function execution: {e}\")\n",
    "            break\n",
    "\n",
    "    return search_results[:max_results]\n"
   ]
  },
  {
   "cell_type": "markdown",
   "id": "b6dc3d31",
   "metadata": {},
   "source": [
    "<h3>DuckDuckGo for SearchEngine</h3>"
   ]
  },
  {
   "cell_type": "code",
   "execution_count": 56,
   "id": "b1e06589",
   "metadata": {
    "scrolled": true
   },
   "outputs": [
    {
     "data": {
      "text/plain": [
       "['https://alternative.me/crypto/fear-and-greed-index/',\n",
       " 'https://coincodex.com/sentiment/',\n",
       " 'https://www.forbes.com/sites/digital-assets/2023/10/02/flashing-red-warning-33-trillion-us-debt-death-spiral-could-suddenly-trigger-a-bitcoin-price-vicious-circle/',\n",
       " 'https://www.forbes.com/sites/digital-assets/2023/10/05/blackrock-insider-primes-crypto-for-a-huge-177-wall-street-earthquake-that-could-hit-the-price-of-bitcoin-ethereum-and-xrp/',\n",
       " 'https://www.fxstreet.com/cryptocurrencies/news/bitcoin-weekly-forecast-btc-bearish-fractal-holds-steady-ahead-of-us-nonfarm-payrolls-202310061127',\n",
       " 'https://www.cnbc.com/2023/10/05/bitcoin-is-a-critical-hedge-against-currency-debasement-and-return-of-inflation-jefferies-says.html',\n",
       " 'https://www.kaggle.com/datasets/gautamchettiar/bitcoin-sentiment-analysis-twitter-data',\n",
       " 'https://twitter.com/btcsentimentCOM',\n",
       " 'https://www.lookintobitcoin.com/charts/bitcoin-fear-and-greed-index/',\n",
       " 'https://www.forbes.com/sites/roomykhan/2023/10/04/spot-bitcoin-etf-launch-will-solidify-crypto-as-a-distinct-asset-class/',\n",
       " 'https://www.tradingview.com/news/newsbtc:d44dd6202094b:0-bitcoin-price-projection-soars-btc-gold-ratio-indicator-proposes-120-000-price-target/',\n",
       " 'https://www.newsbtc.com/bitcoin-news/bitcoin-price-projection-soars-btc-gold-ratio-indicator-proposes-120000-price-target/',\n",
       " 'https://www.newsbtc.com/bitcoin-news/bitcoin-sentiment-close-extreme-fear-why-matters/',\n",
       " 'https://www.mdpi.com/2504-2289/4/4/33',\n",
       " 'https://www.coindesk.com/markets/2023/10/05/bitcoin-enters-quiet-bull-market-as-safe-haven-from-bond-market-turmoil-analyst-says/',\n",
       " 'https://cryptonews.com/exclusives/top-3-btc-sentiment-analysis-tools-how-they-work-how-to-use-6889.htm',\n",
       " 'https://www.augmento.ai/bitcoin-sentiment/',\n",
       " 'https://www.coindesk.com/markets/2023/10/06/bitcoin-at-risk-of-falling-ether-etfs-lacklustre-performance-dismays-traders/',\n",
       " 'https://www.coindesk.com/markets/2023/10/06/bitcoin-grapples-with-28k-resistance-but-uncorrelated-asset-allure-could-mean-higher-prices-says-analyst/',\n",
       " 'https://bitcoinmagazine.com/markets/grayscale-wins-court-case-vs-sec-bitcoin-etf-on-the-horizon',\n",
       " 'https://news.yahoo.com/bitcoin-price-rally-blackrock-093152634.html',\n",
       " 'https://www.newsbtc.com/bitcoin-news/bitcoin-sentiment-neutral-traders-embrace-greed/',\n",
       " 'https://cryptonews.com/news/bitcoin-price-prediction-btc-rises-4-amidst-dovish-fomc-sentiment.htm',\n",
       " 'https://www.newsbtc.com/bitcoin-news/bitcoin-dip-worth-buying-market-sentiment/',\n",
       " 'https://ambcrypto.com/bitcoin-analyzing-the-latest-sentiment-in-btc-derivatives-market/',\n",
       " 'https://www.cryptoeq.io/sentiment-report/sentiment/bitcoin',\n",
       " 'https://www.forbes.com/sites/digital-assets/2023/10/04/the-first-bitcoin-mining-pool-from-el-salvador-is-here/',\n",
       " 'https://www.bittsanalytics.com/sentiment-index/BTC',\n",
       " 'https://www.dailyfx.com/bitcoin',\n",
       " 'https://coinpedia.org/price-prediction/bitcoin-price-prediction/',\n",
       " 'https://alternative.me/crypto/',\n",
       " 'https://www.statista.com/statistics/1343514/bitcoin-sentiment/',\n",
       " 'https://news.bitcoin.com/bitcoin-ethereum-technical-analysis-btc-nears-10-day-low-as-bears-regain-market-sentiment/',\n",
       " 'https://www.investing.com/crypto/bitcoin/bitcoin-futures-scoreboard',\n",
       " 'https://www.binance.com/en/price/bitcoin',\n",
       " 'https://coincodex.com/crypto/bitcoin/price-prediction/',\n",
       " 'https://www.crypto-sentiment.com/bitcoin-sentiment',\n",
       " 'https://www.ig.com/en/forex/markets-forex/bitcoin-1',\n",
       " 'https://news.bitcoin.com/bitcoin-ethereum-technical-analysis-btc-eth-start-week-lower-as-bearish-sentiment-returns-to-markets/',\n",
       " 'https://www.coinbase.com/price/bitcoin',\n",
       " 'https://www.cmegroup.com/markets/cryptocurrencies/bitcoin/bitcoin.html',\n",
       " 'https://www.fool.com/investing/2023/04/02/is-bitcoin-a-screaming-buy-right-now-this-metric-s/',\n",
       " 'https://www.lookintobitcoin.com/',\n",
       " 'https://www.coinglass.com/LongShortRatio',\n",
       " 'https://www.newsbtc.com/news/bitcoin/bitcoin-trader-sentiment-greed-btc-jumps-25000/',\n",
       " 'https://www.investing.com/news/cryptocurrency-news/sentiment-for-bitcoin-btc-remains-negative-santiment-feed-2903442',\n",
       " 'https://www.coindesk.com/tag/bitcoin-sentiment-index/',\n",
       " 'https://cointelegraph.com/news/crypto-fear-and-greed-index-hits-highest-level-since-bitcoin-s-all-time-high',\n",
       " 'https://insidebitcoins.com/news/bitcoin-price-prediction-btc-stops-the-drop-bullish-sentiments-taking-over',\n",
       " 'https://academy.binance.com/en/articles/what-is-crypto-market-sentiment',\n",
       " 'https://bitcointalk.org/index.php?topic=5465299.0',\n",
       " 'https://news.bitcoin.com/bitcoin-sentiment-on-twitter-highest-level-in-3-years/',\n",
       " 'https://www.coindesk.com/markets/2022/01/06/market-wrap-bitcoin-sentiment-turns-extremely-bearish/',\n",
       " 'https://bitcoinist.com/bitcoin-sentiment-returns-neutral-prices-down/',\n",
       " 'https://www.researchgate.net/publication/346808998_A_complete_vader-based_sentiment_analysis_of_bitcoin_BTC_tweets_during_the_ERA_of_COVID-19',\n",
       " 'https://www.coindesk.com/markets/',\n",
       " 'https://www.lookintobitcoin.com/bitcoin-price-live/',\n",
       " 'https://beincrypto.com/unbelievable-bitcoin-price-predictions-2023-top-analysts/',\n",
       " 'https://www.coinbase.com/price/bitcoin/usd',\n",
       " 'https://www.emerald.com/insight/content/doi/10.1108/SEF-07-2021-0293/full/html',\n",
       " 'https://www.marketbeat.com/cryptocurrencies/bitcoin/',\n",
       " 'https://www.newsbtc.com/news/bitcoin/buy-signal-bitcoin-investor-sentiment-falls-to-lowest-level-in-two-months/',\n",
       " 'https://investorplace.com/2023/04/7-cryptos-to-watch-as-market-sentiment-hits-a-snag/',\n",
       " 'https://coinmarketcap.com/currencies/bitcoin/',\n",
       " 'https://www.gemini.com/blog/introducing-geminis-bitcoinbuzz-btc-sentiment-indicator',\n",
       " 'https://www.newsbtc.com/news/bitcoin/bitcoin-investor-sentiment/',\n",
       " 'https://seekingalpha.com/article/4593766-bitcoin-surges-81-percent-ytd-is-the-rally-for-real-or-just-fomo',\n",
       " 'https://www.cointree.com/learn/crypto-fear-and-greed-index/',\n",
       " 'https://coincodex.com/fear-greed/',\n",
       " 'https://www.investing.com/crypto/bitcoin/btc-usd-scoreboard',\n",
       " 'https://link.springer.com/article/10.1007/s42521-022-00052-y',\n",
       " 'https://cointelegraph.com/news/the-economics-of-bitcoin-halving-understanding-the-effects-on-price-and-market-sentiment',\n",
       " 'https://markets.bitcoin.com/crypto/BTC',\n",
       " 'https://www.newsbtc.com/analysis/btc/bitcoin-price-slide-27650/',\n",
       " 'https://www.crypto-sentiment.com/',\n",
       " 'https://www.tradingview.com/symbols/BTCUSD/history-timeline/',\n",
       " 'https://www.ncbi.nlm.nih.gov/pmc/articles/PMC9581699/',\n",
       " 'https://bitcoinmagazine.com/markets/social-sentiment-and-the-bitcoin-price',\n",
       " 'https://www.researchgate.net/publication/357915029_Can_Bitcoin_be_a_safe_haven_in_fear_sentiment',\n",
       " 'https://datamish.com/ethusd',\n",
       " 'https://www.google.com/finance/quote/BTC-USDT',\n",
       " 'https://www.coindesk.com/price/bitcoin/',\n",
       " 'https://www.tandfonline.com/doi/full/10.1080/15427560.2021.1975285',\n",
       " 'https://cointelegraph.com/news/bitcoin-short-term-holders-panic-amid-nearly-100-unrealized-loss',\n",
       " 'https://cointelegraph.com/news/bitcoin-crowd-sentiment-hit-multi-month-high-as-btc-price-touches-21k',\n",
       " 'https://www.dailyfx.com/news/bitcoin-btc-usd-struggling-to-break-stubborn-resistance-around-25k-20230316.html',\n",
       " 'https://cryptonews.com/news/bitcoin-price-prediction-as-btc-bulls-eye-30000-resistance-as-non-farm-payroll-data-is-released-a-comeback-in-play.htm',\n",
       " 'https://news.bitcoin.com/bitcoin-ethereum-technical-analysis-btc-falls-below-24000-ahead-of-us-consumer-sentiment-data',\n",
       " 'https://www.fxstreet.com/cryptocurrencies/news/breaking-bitcoin-price-breaches-30-000-on-binance-in-mega-rally-202306211538',\n",
       " 'https://www.fxstreet.com/cryptocurrencies/news/bitcoin-bulls-in-full-retreat-as-btc-sentiment-slumps-to-fear-territory-202104260404',\n",
       " 'https://www.fxstreet.com/cryptocurrencies/bitcoin',\n",
       " 'https://cointelegraph.com/news/bitcoin-will-surge-in-2023-but-be-careful-what-you-wish-for',\n",
       " 'https://link.springer.com/article/10.1007/s11156-022-01086-4',\n",
       " 'https://www.forbes.com/sites/hershshefrin/2023/07/17/rising-sentiment-dampens-bitcoins-correlation-with-us-stocks-and-expected-price-appreciation/',\n",
       " 'https://cryptonews.com/news/bitcoin-price-prediction-as-btc-smashes-past-27000-resistance-best-time-buy.htm',\n",
       " 'https://coinpedia.org/research-report/secs-bitcoin-etf-delay-impact-on-investor-sentiments-and-btc-price-research-report/',\n",
       " 'https://www.coinlore.com/coin/bitcoin/forecast/price-prediction',\n",
       " 'https://cryptopotato.com/bitcoin-hodler-growth-comparable-to-2017-cycle-will-btc-10x-in-next-bull-run/',\n",
       " 'https://jfin-swufe.springeropen.com/articles/10.1186/s40854-022-00352-7',\n",
       " 'https://cryptonews.com/news/pro-evergrande-group-chapter-15-indirectly-influenced-bitcoin-sentiment.htm']"
      ]
     },
     "execution_count": 56,
     "metadata": {},
     "output_type": "execute_result"
    }
   ],
   "source": [
    "ddgs_results = list(map(lambda r: r[\"href\"], DDGS().text(keywords, max_results=MAX_SITES_RESULTS)))\n",
    "ddgs_results"
   ]
  },
  {
   "cell_type": "markdown",
   "id": "1c3882e8",
   "metadata": {},
   "source": [
    "<h3>Bing for SearchEngine</h3>"
   ]
  },
  {
   "cell_type": "code",
   "execution_count": 57,
   "id": "c72e589f",
   "metadata": {
    "scrolled": true
   },
   "outputs": [
    {
     "name": "stdout",
     "output_type": "stream",
     "text": [
      "Extracted 10 results from page .\n",
      "Extracted 10 results from page .\n",
      "Extracted 10 results from page .\n",
      "Extracted 10 results from page .\n",
      "Extracted 10 results from page .\n",
      "Extracted 10 results from page .\n",
      "Extracted 10 results from page .\n",
      "Extracted 10 results from page .\n",
      "Extracted 10 results from page .\n",
      "Extracted 10 results from page .\n"
     ]
    },
    {
     "data": {
      "text/plain": [
       "['https://alternative.me/crypto/fear-and-greed-index/',\n",
       " 'https://es.investing.com/crypto/bitcoin/btc-usd-scoreboard',\n",
       " 'https://www.augmento.ai/bitcoin-sentiment/',\n",
       " 'https://coincodex.com/sentiment/',\n",
       " 'https://www.bittsanalytics.com/sentiment-index/BTC',\n",
       " 'https://www.newsbtc.com/bitcoin-news/bitcoin-sentiment-close-extreme-fear-why-matters/',\n",
       " 'https://www.fxstreet.com/cryptocurrencies/news/bitcoin-price-could-revisit-10-000-amid-growing-correlation-with-us-dollar-index-202310042140',\n",
       " 'https://finbold.com/bitcoin-btc-immutable-imx-and-vc-spectra-spct-sustain-bullish-sentiment-in-crypto-community/',\n",
       " 'https://www.bloomberg.com/news/articles/2023-10-03/bitcoin-btc-price-dips-from-six-week-high-amid-bond-rout',\n",
       " 'https://www.dailyfx.com/news/bitcoin-ethereum-jump-btc-usd-eth-usd-price-action-20231002.html',\n",
       " 'https://alternative.me/crypto/fear-and-greed-index/',\n",
       " 'https://es.investing.com/crypto/bitcoin/btc-usd-scoreboard',\n",
       " 'https://www.augmento.ai/bitcoin-sentiment/',\n",
       " 'https://coincodex.com/sentiment/',\n",
       " 'https://www.bittsanalytics.com/sentiment-index/BTC',\n",
       " 'https://www.newsbtc.com/bitcoin-news/bitcoin-sentiment-close-extreme-fear-why-matters/',\n",
       " 'https://www.fxstreet.com/cryptocurrencies/news/bitcoin-price-could-revisit-10-000-amid-growing-correlation-with-us-dollar-index-202310042140',\n",
       " 'https://finbold.com/bitcoin-btc-immutable-imx-and-vc-spectra-spct-sustain-bullish-sentiment-in-crypto-community/',\n",
       " 'https://www.bloomberg.com/news/articles/2023-10-03/bitcoin-btc-price-dips-from-six-week-high-amid-bond-rout',\n",
       " 'https://www.dailyfx.com/news/bitcoin-ethereum-jump-btc-usd-eth-usd-price-action-20231002.html',\n",
       " 'https://alternative.me/crypto/fear-and-greed-index/',\n",
       " 'https://es.investing.com/crypto/bitcoin/btc-usd-scoreboard',\n",
       " 'https://www.augmento.ai/bitcoin-sentiment/',\n",
       " 'https://coincodex.com/sentiment/',\n",
       " 'https://www.bittsanalytics.com/sentiment-index/BTC',\n",
       " 'https://www.newsbtc.com/bitcoin-news/bitcoin-sentiment-close-extreme-fear-why-matters/',\n",
       " 'https://www.fxstreet.com/cryptocurrencies/news/bitcoin-price-could-revisit-10-000-amid-growing-correlation-with-us-dollar-index-202310042140',\n",
       " 'https://finbold.com/bitcoin-btc-immutable-imx-and-vc-spectra-spct-sustain-bullish-sentiment-in-crypto-community/',\n",
       " 'https://www.bloomberg.com/news/articles/2023-10-03/bitcoin-btc-price-dips-from-six-week-high-amid-bond-rout',\n",
       " 'https://www.dailyfx.com/news/bitcoin-ethereum-jump-btc-usd-eth-usd-price-action-20231002.html',\n",
       " 'https://alternative.me/crypto/fear-and-greed-index/',\n",
       " 'https://es.investing.com/crypto/bitcoin/btc-usd-scoreboard',\n",
       " 'https://www.augmento.ai/bitcoin-sentiment/',\n",
       " 'https://coincodex.com/sentiment/',\n",
       " 'https://www.bittsanalytics.com/sentiment-index/BTC',\n",
       " 'https://www.newsbtc.com/bitcoin-news/bitcoin-sentiment-close-extreme-fear-why-matters/',\n",
       " 'https://www.fxstreet.com/cryptocurrencies/news/bitcoin-price-could-revisit-10-000-amid-growing-correlation-with-us-dollar-index-202310042140',\n",
       " 'https://finbold.com/bitcoin-btc-immutable-imx-and-vc-spectra-spct-sustain-bullish-sentiment-in-crypto-community/',\n",
       " 'https://www.bloomberg.com/news/articles/2023-10-03/bitcoin-btc-price-dips-from-six-week-high-amid-bond-rout',\n",
       " 'https://www.dailyfx.com/news/bitcoin-ethereum-jump-btc-usd-eth-usd-price-action-20231002.html',\n",
       " 'https://alternative.me/crypto/fear-and-greed-index/',\n",
       " 'https://es.investing.com/crypto/bitcoin/btc-usd-scoreboard',\n",
       " 'https://www.augmento.ai/bitcoin-sentiment/',\n",
       " 'https://coincodex.com/sentiment/',\n",
       " 'https://www.bittsanalytics.com/sentiment-index/BTC',\n",
       " 'https://www.newsbtc.com/bitcoin-news/bitcoin-sentiment-close-extreme-fear-why-matters/',\n",
       " 'https://www.fxstreet.com/cryptocurrencies/news/bitcoin-price-could-revisit-10-000-amid-growing-correlation-with-us-dollar-index-202310042140',\n",
       " 'https://finbold.com/bitcoin-btc-immutable-imx-and-vc-spectra-spct-sustain-bullish-sentiment-in-crypto-community/',\n",
       " 'https://www.bloomberg.com/news/articles/2023-10-03/bitcoin-btc-price-dips-from-six-week-high-amid-bond-rout',\n",
       " 'https://www.dailyfx.com/news/bitcoin-ethereum-jump-btc-usd-eth-usd-price-action-20231002.html',\n",
       " 'https://alternative.me/crypto/fear-and-greed-index/',\n",
       " 'https://es.investing.com/crypto/bitcoin/btc-usd-scoreboard',\n",
       " 'https://www.augmento.ai/bitcoin-sentiment/',\n",
       " 'https://coincodex.com/sentiment/',\n",
       " 'https://www.bittsanalytics.com/sentiment-index/BTC',\n",
       " 'https://www.newsbtc.com/bitcoin-news/bitcoin-sentiment-close-extreme-fear-why-matters/',\n",
       " 'https://www.fxstreet.com/cryptocurrencies/news/bitcoin-price-could-revisit-10-000-amid-growing-correlation-with-us-dollar-index-202310042140',\n",
       " 'https://finbold.com/bitcoin-btc-immutable-imx-and-vc-spectra-spct-sustain-bullish-sentiment-in-crypto-community/',\n",
       " 'https://www.bloomberg.com/news/articles/2023-10-03/bitcoin-btc-price-dips-from-six-week-high-amid-bond-rout',\n",
       " 'https://www.dailyfx.com/news/bitcoin-ethereum-jump-btc-usd-eth-usd-price-action-20231002.html',\n",
       " 'https://alternative.me/crypto/fear-and-greed-index/',\n",
       " 'https://es.investing.com/crypto/bitcoin/btc-usd-scoreboard',\n",
       " 'https://www.augmento.ai/bitcoin-sentiment/',\n",
       " 'https://coincodex.com/sentiment/',\n",
       " 'https://www.bittsanalytics.com/sentiment-index/BTC',\n",
       " 'https://www.newsbtc.com/bitcoin-news/bitcoin-sentiment-close-extreme-fear-why-matters/',\n",
       " 'https://www.fxstreet.com/cryptocurrencies/news/bitcoin-price-could-revisit-10-000-amid-growing-correlation-with-us-dollar-index-202310042140',\n",
       " 'https://finbold.com/bitcoin-btc-immutable-imx-and-vc-spectra-spct-sustain-bullish-sentiment-in-crypto-community/',\n",
       " 'https://www.bloomberg.com/news/articles/2023-10-03/bitcoin-btc-price-dips-from-six-week-high-amid-bond-rout',\n",
       " 'https://www.dailyfx.com/news/bitcoin-ethereum-jump-btc-usd-eth-usd-price-action-20231002.html',\n",
       " 'https://alternative.me/crypto/fear-and-greed-index/',\n",
       " 'https://es.investing.com/crypto/bitcoin/btc-usd-scoreboard',\n",
       " 'https://www.augmento.ai/bitcoin-sentiment/',\n",
       " 'https://coincodex.com/sentiment/',\n",
       " 'https://www.bittsanalytics.com/sentiment-index/BTC',\n",
       " 'https://www.newsbtc.com/bitcoin-news/bitcoin-sentiment-close-extreme-fear-why-matters/',\n",
       " 'https://www.fxstreet.com/cryptocurrencies/news/bitcoin-price-could-revisit-10-000-amid-growing-correlation-with-us-dollar-index-202310042140',\n",
       " 'https://finbold.com/bitcoin-btc-immutable-imx-and-vc-spectra-spct-sustain-bullish-sentiment-in-crypto-community/',\n",
       " 'https://www.bloomberg.com/news/articles/2023-10-03/bitcoin-btc-price-dips-from-six-week-high-amid-bond-rout',\n",
       " 'https://www.dailyfx.com/news/bitcoin-ethereum-jump-btc-usd-eth-usd-price-action-20231002.html',\n",
       " 'https://alternative.me/crypto/fear-and-greed-index/',\n",
       " 'https://es.investing.com/crypto/bitcoin/btc-usd-scoreboard',\n",
       " 'https://www.augmento.ai/bitcoin-sentiment/',\n",
       " 'https://coincodex.com/sentiment/',\n",
       " 'https://www.bittsanalytics.com/sentiment-index/BTC',\n",
       " 'https://www.newsbtc.com/bitcoin-news/bitcoin-sentiment-close-extreme-fear-why-matters/',\n",
       " 'https://www.fxstreet.com/cryptocurrencies/news/bitcoin-price-could-revisit-10-000-amid-growing-correlation-with-us-dollar-index-202310042140',\n",
       " 'https://finbold.com/bitcoin-btc-immutable-imx-and-vc-spectra-spct-sustain-bullish-sentiment-in-crypto-community/',\n",
       " 'https://www.bloomberg.com/news/articles/2023-10-03/bitcoin-btc-price-dips-from-six-week-high-amid-bond-rout',\n",
       " 'https://www.dailyfx.com/news/bitcoin-ethereum-jump-btc-usd-eth-usd-price-action-20231002.html',\n",
       " 'https://alternative.me/crypto/fear-and-greed-index/',\n",
       " 'https://es.investing.com/crypto/bitcoin/btc-usd-scoreboard',\n",
       " 'https://www.augmento.ai/bitcoin-sentiment/',\n",
       " 'https://coincodex.com/sentiment/',\n",
       " 'https://www.bittsanalytics.com/sentiment-index/BTC',\n",
       " 'https://www.newsbtc.com/bitcoin-news/bitcoin-sentiment-close-extreme-fear-why-matters/',\n",
       " 'https://www.fxstreet.com/cryptocurrencies/news/bitcoin-price-could-revisit-10-000-amid-growing-correlation-with-us-dollar-index-202310042140',\n",
       " 'https://finbold.com/bitcoin-btc-immutable-imx-and-vc-spectra-spct-sustain-bullish-sentiment-in-crypto-community/',\n",
       " 'https://www.bloomberg.com/news/articles/2023-10-03/bitcoin-btc-price-dips-from-six-week-high-amid-bond-rout',\n",
       " 'https://www.dailyfx.com/news/bitcoin-ethereum-jump-btc-usd-eth-usd-price-action-20231002.html']"
      ]
     },
     "execution_count": 57,
     "metadata": {},
     "output_type": "execute_result"
    }
   ],
   "source": [
    "bing_search_results = fetch_search_results(bing_search, keywords, MAX_SITES_RESULTS)\n",
    "bing_search_results"
   ]
  },
  {
   "cell_type": "markdown",
   "id": "ca1bba08",
   "metadata": {},
   "source": [
    "<h3>Yahoo for SearchEngine</h3>"
   ]
  },
  {
   "cell_type": "code",
   "execution_count": 58,
   "id": "8929ab89",
   "metadata": {
    "scrolled": true
   },
   "outputs": [
    {
     "data": {
      "text/plain": [
       "['https://alternative.me/crypto/fear-and-greed-index/',\n",
       " 'https://www.augmento.ai/bitcoin-sentiment/',\n",
       " 'https://coincodex.com/sentiment/',\n",
       " 'https://coincodex.com/sentiment/',\n",
       " 'https://www.lookintobitcoin.com/charts/bitcoin-fear-and-greed-index/',\n",
       " 'https://www.cryptoeq.io/sentiment-report/sentiment/bitcoin',\n",
       " 'https://alternative.me/crypto/fear-and-greed-index/',\n",
       " 'https://www.augmento.ai/bitcoin-sentiment/',\n",
       " 'https://coincodex.com/sentiment/',\n",
       " 'https://coincodex.com/sentiment/',\n",
       " 'https://www.lookintobitcoin.com/charts/bitcoin-fear-and-greed-index/',\n",
       " 'https://www.cryptoeq.io/sentiment-report/sentiment/bitcoin',\n",
       " 'https://alternative.me/crypto/fear-and-greed-index/',\n",
       " 'https://www.augmento.ai/bitcoin-sentiment/',\n",
       " 'https://coincodex.com/sentiment/',\n",
       " 'https://coincodex.com/sentiment/',\n",
       " 'https://www.lookintobitcoin.com/charts/bitcoin-fear-and-greed-index/',\n",
       " 'https://www.cryptoeq.io/sentiment-report/sentiment/bitcoin',\n",
       " 'https://alternative.me/crypto/fear-and-greed-index/',\n",
       " 'https://www.augmento.ai/bitcoin-sentiment/',\n",
       " 'https://coincodex.com/sentiment/',\n",
       " 'https://coincodex.com/sentiment/',\n",
       " 'https://www.lookintobitcoin.com/charts/bitcoin-fear-and-greed-index/',\n",
       " 'https://www.cryptoeq.io/sentiment-report/sentiment/bitcoin',\n",
       " 'https://alternative.me/crypto/fear-and-greed-index/',\n",
       " 'https://www.augmento.ai/bitcoin-sentiment/',\n",
       " 'https://coincodex.com/sentiment/',\n",
       " 'https://coincodex.com/sentiment/',\n",
       " 'https://www.lookintobitcoin.com/charts/bitcoin-fear-and-greed-index/',\n",
       " 'https://www.cryptoeq.io/sentiment-report/sentiment/bitcoin',\n",
       " 'https://alternative.me/crypto/fear-and-greed-index/',\n",
       " 'https://www.augmento.ai/bitcoin-sentiment/',\n",
       " 'https://coincodex.com/sentiment/',\n",
       " 'https://coincodex.com/sentiment/',\n",
       " 'https://www.lookintobitcoin.com/charts/bitcoin-fear-and-greed-index/',\n",
       " 'https://www.cryptoeq.io/sentiment-report/sentiment/bitcoin',\n",
       " 'https://alternative.me/crypto/fear-and-greed-index/',\n",
       " 'https://www.augmento.ai/bitcoin-sentiment/',\n",
       " 'https://coincodex.com/sentiment/',\n",
       " 'https://coincodex.com/sentiment/',\n",
       " 'https://www.lookintobitcoin.com/charts/bitcoin-fear-and-greed-index/',\n",
       " 'https://www.cryptoeq.io/sentiment-report/sentiment/bitcoin',\n",
       " 'https://alternative.me/crypto/fear-and-greed-index/',\n",
       " 'https://www.augmento.ai/bitcoin-sentiment/',\n",
       " 'https://coincodex.com/sentiment/',\n",
       " 'https://coincodex.com/sentiment/',\n",
       " 'https://www.lookintobitcoin.com/charts/bitcoin-fear-and-greed-index/',\n",
       " 'https://www.cryptoeq.io/sentiment-report/sentiment/bitcoin',\n",
       " 'https://alternative.me/crypto/fear-and-greed-index/',\n",
       " 'https://www.augmento.ai/bitcoin-sentiment/',\n",
       " 'https://coincodex.com/sentiment/',\n",
       " 'https://coincodex.com/sentiment/',\n",
       " 'https://www.lookintobitcoin.com/charts/bitcoin-fear-and-greed-index/',\n",
       " 'https://www.cryptoeq.io/sentiment-report/sentiment/bitcoin',\n",
       " 'https://alternative.me/crypto/fear-and-greed-index/',\n",
       " 'https://www.augmento.ai/bitcoin-sentiment/',\n",
       " 'https://coincodex.com/sentiment/',\n",
       " 'https://coincodex.com/sentiment/',\n",
       " 'https://www.lookintobitcoin.com/charts/bitcoin-fear-and-greed-index/',\n",
       " 'https://www.cryptoeq.io/sentiment-report/sentiment/bitcoin',\n",
       " 'https://alternative.me/crypto/fear-and-greed-index/',\n",
       " 'https://www.augmento.ai/bitcoin-sentiment/',\n",
       " 'https://coincodex.com/sentiment/',\n",
       " 'https://coincodex.com/sentiment/',\n",
       " 'https://www.lookintobitcoin.com/charts/bitcoin-fear-and-greed-index/',\n",
       " 'https://www.cryptoeq.io/sentiment-report/sentiment/bitcoin',\n",
       " 'https://alternative.me/crypto/fear-and-greed-index/',\n",
       " 'https://www.augmento.ai/bitcoin-sentiment/',\n",
       " 'https://coincodex.com/sentiment/',\n",
       " 'https://coincodex.com/sentiment/',\n",
       " 'https://www.lookintobitcoin.com/charts/bitcoin-fear-and-greed-index/',\n",
       " 'https://www.cryptoeq.io/sentiment-report/sentiment/bitcoin',\n",
       " 'https://alternative.me/crypto/fear-and-greed-index/',\n",
       " 'https://www.augmento.ai/bitcoin-sentiment/',\n",
       " 'https://coincodex.com/sentiment/',\n",
       " 'https://coincodex.com/sentiment/',\n",
       " 'https://www.lookintobitcoin.com/charts/bitcoin-fear-and-greed-index/',\n",
       " 'https://www.cryptoeq.io/sentiment-report/sentiment/bitcoin',\n",
       " 'https://alternative.me/crypto/fear-and-greed-index/',\n",
       " 'https://www.augmento.ai/bitcoin-sentiment/',\n",
       " 'https://coincodex.com/sentiment/',\n",
       " 'https://coincodex.com/sentiment/',\n",
       " 'https://www.lookintobitcoin.com/charts/bitcoin-fear-and-greed-index/',\n",
       " 'https://www.cryptoeq.io/sentiment-report/sentiment/bitcoin',\n",
       " 'https://alternative.me/crypto/fear-and-greed-index/',\n",
       " 'https://www.augmento.ai/bitcoin-sentiment/',\n",
       " 'https://coincodex.com/sentiment/',\n",
       " 'https://coincodex.com/sentiment/',\n",
       " 'https://www.lookintobitcoin.com/charts/bitcoin-fear-and-greed-index/',\n",
       " 'https://www.cryptoeq.io/sentiment-report/sentiment/bitcoin',\n",
       " 'https://alternative.me/crypto/fear-and-greed-index/',\n",
       " 'https://www.augmento.ai/bitcoin-sentiment/',\n",
       " 'https://coincodex.com/sentiment/',\n",
       " 'https://coincodex.com/sentiment/',\n",
       " 'https://www.lookintobitcoin.com/charts/bitcoin-fear-and-greed-index/',\n",
       " 'https://www.cryptoeq.io/sentiment-report/sentiment/bitcoin',\n",
       " 'https://alternative.me/crypto/fear-and-greed-index/',\n",
       " 'https://www.augmento.ai/bitcoin-sentiment/',\n",
       " 'https://coincodex.com/sentiment/',\n",
       " 'https://coincodex.com/sentiment/']"
      ]
     },
     "execution_count": 58,
     "metadata": {},
     "output_type": "execute_result"
    }
   ],
   "source": [
    "yahoo_search_results = fetch_search_results(yahoo_search, keywords, MAX_SITES_RESULTS)\n",
    "yahoo_search_results"
   ]
  },
  {
   "cell_type": "markdown",
   "id": "8053aa5a",
   "metadata": {},
   "source": [
    "<h3> Mergin all Results </h3>"
   ]
  },
  {
   "cell_type": "code",
   "execution_count": 59,
   "id": "ca538139",
   "metadata": {},
   "outputs": [
    {
     "data": {
      "text/plain": [
       "{'https://academy.binance.com/en/articles/what-is-crypto-market-sentiment',\n",
       " 'https://alternative.me/crypto/',\n",
       " 'https://alternative.me/crypto/fear-and-greed-index/',\n",
       " 'https://ambcrypto.com/bitcoin-analyzing-the-latest-sentiment-in-btc-derivatives-market/',\n",
       " 'https://beincrypto.com/unbelievable-bitcoin-price-predictions-2023-top-analysts/',\n",
       " 'https://bitcoinist.com/bitcoin-sentiment-returns-neutral-prices-down/',\n",
       " 'https://bitcoinmagazine.com/markets/grayscale-wins-court-case-vs-sec-bitcoin-etf-on-the-horizon',\n",
       " 'https://bitcoinmagazine.com/markets/social-sentiment-and-the-bitcoin-price',\n",
       " 'https://bitcointalk.org/index.php?topic=5465299.0',\n",
       " 'https://coincodex.com/crypto/bitcoin/price-prediction/',\n",
       " 'https://coincodex.com/fear-greed/',\n",
       " 'https://coincodex.com/sentiment/',\n",
       " 'https://coinmarketcap.com/currencies/bitcoin/',\n",
       " 'https://coinpedia.org/price-prediction/bitcoin-price-prediction/',\n",
       " 'https://coinpedia.org/research-report/secs-bitcoin-etf-delay-impact-on-investor-sentiments-and-btc-price-research-report/',\n",
       " 'https://cointelegraph.com/news/bitcoin-crowd-sentiment-hit-multi-month-high-as-btc-price-touches-21k',\n",
       " 'https://cointelegraph.com/news/bitcoin-short-term-holders-panic-amid-nearly-100-unrealized-loss',\n",
       " 'https://cointelegraph.com/news/bitcoin-will-surge-in-2023-but-be-careful-what-you-wish-for',\n",
       " 'https://cointelegraph.com/news/crypto-fear-and-greed-index-hits-highest-level-since-bitcoin-s-all-time-high',\n",
       " 'https://cointelegraph.com/news/the-economics-of-bitcoin-halving-understanding-the-effects-on-price-and-market-sentiment',\n",
       " 'https://cryptonews.com/exclusives/top-3-btc-sentiment-analysis-tools-how-they-work-how-to-use-6889.htm',\n",
       " 'https://cryptonews.com/news/bitcoin-price-prediction-as-btc-bulls-eye-30000-resistance-as-non-farm-payroll-data-is-released-a-comeback-in-play.htm',\n",
       " 'https://cryptonews.com/news/bitcoin-price-prediction-as-btc-smashes-past-27000-resistance-best-time-buy.htm',\n",
       " 'https://cryptonews.com/news/bitcoin-price-prediction-btc-rises-4-amidst-dovish-fomc-sentiment.htm',\n",
       " 'https://cryptonews.com/news/pro-evergrande-group-chapter-15-indirectly-influenced-bitcoin-sentiment.htm',\n",
       " 'https://cryptopotato.com/bitcoin-hodler-growth-comparable-to-2017-cycle-will-btc-10x-in-next-bull-run/',\n",
       " 'https://datamish.com/ethusd',\n",
       " 'https://es.investing.com/crypto/bitcoin/btc-usd-scoreboard',\n",
       " 'https://finbold.com/bitcoin-btc-immutable-imx-and-vc-spectra-spct-sustain-bullish-sentiment-in-crypto-community/',\n",
       " 'https://insidebitcoins.com/news/bitcoin-price-prediction-btc-stops-the-drop-bullish-sentiments-taking-over',\n",
       " 'https://investorplace.com/2023/04/7-cryptos-to-watch-as-market-sentiment-hits-a-snag/',\n",
       " 'https://jfin-swufe.springeropen.com/articles/10.1186/s40854-022-00352-7',\n",
       " 'https://link.springer.com/article/10.1007/s11156-022-01086-4',\n",
       " 'https://link.springer.com/article/10.1007/s42521-022-00052-y',\n",
       " 'https://markets.bitcoin.com/crypto/BTC',\n",
       " 'https://news.bitcoin.com/bitcoin-ethereum-technical-analysis-btc-eth-start-week-lower-as-bearish-sentiment-returns-to-markets/',\n",
       " 'https://news.bitcoin.com/bitcoin-ethereum-technical-analysis-btc-falls-below-24000-ahead-of-us-consumer-sentiment-data',\n",
       " 'https://news.bitcoin.com/bitcoin-ethereum-technical-analysis-btc-nears-10-day-low-as-bears-regain-market-sentiment/',\n",
       " 'https://news.bitcoin.com/bitcoin-sentiment-on-twitter-highest-level-in-3-years/',\n",
       " 'https://news.yahoo.com/bitcoin-price-rally-blackrock-093152634.html',\n",
       " 'https://seekingalpha.com/article/4593766-bitcoin-surges-81-percent-ytd-is-the-rally-for-real-or-just-fomo',\n",
       " 'https://twitter.com/btcsentimentCOM',\n",
       " 'https://www.augmento.ai/bitcoin-sentiment/',\n",
       " 'https://www.binance.com/en/price/bitcoin',\n",
       " 'https://www.bittsanalytics.com/sentiment-index/BTC',\n",
       " 'https://www.bloomberg.com/news/articles/2023-10-03/bitcoin-btc-price-dips-from-six-week-high-amid-bond-rout',\n",
       " 'https://www.cmegroup.com/markets/cryptocurrencies/bitcoin/bitcoin.html',\n",
       " 'https://www.cnbc.com/2023/10/05/bitcoin-is-a-critical-hedge-against-currency-debasement-and-return-of-inflation-jefferies-says.html',\n",
       " 'https://www.coinbase.com/price/bitcoin',\n",
       " 'https://www.coinbase.com/price/bitcoin/usd',\n",
       " 'https://www.coindesk.com/markets/',\n",
       " 'https://www.coindesk.com/markets/2022/01/06/market-wrap-bitcoin-sentiment-turns-extremely-bearish/',\n",
       " 'https://www.coindesk.com/markets/2023/10/05/bitcoin-enters-quiet-bull-market-as-safe-haven-from-bond-market-turmoil-analyst-says/',\n",
       " 'https://www.coindesk.com/markets/2023/10/06/bitcoin-at-risk-of-falling-ether-etfs-lacklustre-performance-dismays-traders/',\n",
       " 'https://www.coindesk.com/markets/2023/10/06/bitcoin-grapples-with-28k-resistance-but-uncorrelated-asset-allure-could-mean-higher-prices-says-analyst/',\n",
       " 'https://www.coindesk.com/price/bitcoin/',\n",
       " 'https://www.coindesk.com/tag/bitcoin-sentiment-index/',\n",
       " 'https://www.coinglass.com/LongShortRatio',\n",
       " 'https://www.coinlore.com/coin/bitcoin/forecast/price-prediction',\n",
       " 'https://www.cointree.com/learn/crypto-fear-and-greed-index/',\n",
       " 'https://www.crypto-sentiment.com/',\n",
       " 'https://www.crypto-sentiment.com/bitcoin-sentiment',\n",
       " 'https://www.cryptoeq.io/sentiment-report/sentiment/bitcoin',\n",
       " 'https://www.dailyfx.com/bitcoin',\n",
       " 'https://www.dailyfx.com/news/bitcoin-btc-usd-struggling-to-break-stubborn-resistance-around-25k-20230316.html',\n",
       " 'https://www.dailyfx.com/news/bitcoin-ethereum-jump-btc-usd-eth-usd-price-action-20231002.html',\n",
       " 'https://www.emerald.com/insight/content/doi/10.1108/SEF-07-2021-0293/full/html',\n",
       " 'https://www.fool.com/investing/2023/04/02/is-bitcoin-a-screaming-buy-right-now-this-metric-s/',\n",
       " 'https://www.forbes.com/sites/digital-assets/2023/10/02/flashing-red-warning-33-trillion-us-debt-death-spiral-could-suddenly-trigger-a-bitcoin-price-vicious-circle/',\n",
       " 'https://www.forbes.com/sites/digital-assets/2023/10/04/the-first-bitcoin-mining-pool-from-el-salvador-is-here/',\n",
       " 'https://www.forbes.com/sites/digital-assets/2023/10/05/blackrock-insider-primes-crypto-for-a-huge-177-wall-street-earthquake-that-could-hit-the-price-of-bitcoin-ethereum-and-xrp/',\n",
       " 'https://www.forbes.com/sites/hershshefrin/2023/07/17/rising-sentiment-dampens-bitcoins-correlation-with-us-stocks-and-expected-price-appreciation/',\n",
       " 'https://www.forbes.com/sites/roomykhan/2023/10/04/spot-bitcoin-etf-launch-will-solidify-crypto-as-a-distinct-asset-class/',\n",
       " 'https://www.fxstreet.com/cryptocurrencies/bitcoin',\n",
       " 'https://www.fxstreet.com/cryptocurrencies/news/bitcoin-bulls-in-full-retreat-as-btc-sentiment-slumps-to-fear-territory-202104260404',\n",
       " 'https://www.fxstreet.com/cryptocurrencies/news/bitcoin-price-could-revisit-10-000-amid-growing-correlation-with-us-dollar-index-202310042140',\n",
       " 'https://www.fxstreet.com/cryptocurrencies/news/bitcoin-weekly-forecast-btc-bearish-fractal-holds-steady-ahead-of-us-nonfarm-payrolls-202310061127',\n",
       " 'https://www.fxstreet.com/cryptocurrencies/news/breaking-bitcoin-price-breaches-30-000-on-binance-in-mega-rally-202306211538',\n",
       " 'https://www.gemini.com/blog/introducing-geminis-bitcoinbuzz-btc-sentiment-indicator',\n",
       " 'https://www.google.com/finance/quote/BTC-USDT',\n",
       " 'https://www.ig.com/en/forex/markets-forex/bitcoin-1',\n",
       " 'https://www.investing.com/crypto/bitcoin/bitcoin-futures-scoreboard',\n",
       " 'https://www.investing.com/crypto/bitcoin/btc-usd-scoreboard',\n",
       " 'https://www.investing.com/news/cryptocurrency-news/sentiment-for-bitcoin-btc-remains-negative-santiment-feed-2903442',\n",
       " 'https://www.kaggle.com/datasets/gautamchettiar/bitcoin-sentiment-analysis-twitter-data',\n",
       " 'https://www.lookintobitcoin.com/',\n",
       " 'https://www.lookintobitcoin.com/bitcoin-price-live/',\n",
       " 'https://www.lookintobitcoin.com/charts/bitcoin-fear-and-greed-index/',\n",
       " 'https://www.marketbeat.com/cryptocurrencies/bitcoin/',\n",
       " 'https://www.mdpi.com/2504-2289/4/4/33',\n",
       " 'https://www.ncbi.nlm.nih.gov/pmc/articles/PMC9581699/',\n",
       " 'https://www.newsbtc.com/analysis/btc/bitcoin-price-slide-27650/',\n",
       " 'https://www.newsbtc.com/bitcoin-news/bitcoin-dip-worth-buying-market-sentiment/',\n",
       " 'https://www.newsbtc.com/bitcoin-news/bitcoin-price-projection-soars-btc-gold-ratio-indicator-proposes-120000-price-target/',\n",
       " 'https://www.newsbtc.com/bitcoin-news/bitcoin-sentiment-close-extreme-fear-why-matters/',\n",
       " 'https://www.newsbtc.com/bitcoin-news/bitcoin-sentiment-neutral-traders-embrace-greed/',\n",
       " 'https://www.newsbtc.com/news/bitcoin/bitcoin-investor-sentiment/',\n",
       " 'https://www.newsbtc.com/news/bitcoin/bitcoin-trader-sentiment-greed-btc-jumps-25000/',\n",
       " 'https://www.newsbtc.com/news/bitcoin/buy-signal-bitcoin-investor-sentiment-falls-to-lowest-level-in-two-months/',\n",
       " 'https://www.researchgate.net/publication/346808998_A_complete_vader-based_sentiment_analysis_of_bitcoin_BTC_tweets_during_the_ERA_of_COVID-19',\n",
       " 'https://www.researchgate.net/publication/357915029_Can_Bitcoin_be_a_safe_haven_in_fear_sentiment',\n",
       " 'https://www.statista.com/statistics/1343514/bitcoin-sentiment/',\n",
       " 'https://www.tandfonline.com/doi/full/10.1080/15427560.2021.1975285',\n",
       " 'https://www.tradingview.com/news/newsbtc:d44dd6202094b:0-bitcoin-price-projection-soars-btc-gold-ratio-indicator-proposes-120-000-price-target/',\n",
       " 'https://www.tradingview.com/symbols/BTCUSD/history-timeline/'}"
      ]
     },
     "execution_count": 59,
     "metadata": {},
     "output_type": "execute_result"
    }
   ],
   "source": [
    "search_engines_results = set().union(yahoo_search_results, bing_search_results, ddgs_results)\n",
    "search_engines_results"
   ]
  },
  {
   "cell_type": "code",
   "execution_count": 60,
   "id": "a62f2ac5",
   "metadata": {},
   "outputs": [
    {
     "data": {
      "text/plain": [
       "105"
      ]
     },
     "execution_count": 60,
     "metadata": {},
     "output_type": "execute_result"
    }
   ],
   "source": [
    "len(search_engines_results)"
   ]
  },
  {
   "cell_type": "markdown",
   "id": "d959a260",
   "metadata": {},
   "source": [
    "<h2>Web Scraping</h2>"
   ]
  },
  {
   "cell_type": "code",
   "execution_count": 61,
   "id": "80800ec1",
   "metadata": {},
   "outputs": [],
   "source": [
    "# References:\n",
    "# (BeautifulSoup) 1. https://ai.plainenglish.io/mastering-web-scraping-and-sentiment-analysis-with-python-and-machine-learning-255d1d6234c5\n",
    "#                 2. https://j2logo.com/python/web-scraping-con-python-guia-inicio-beautifulsoup/\n",
    "#                 3. https://www.geeksforgeeks.org/remove-all-style-scripts-and-html-tags-using-beautifulsoup/"
   ]
  },
  {
   "cell_type": "markdown",
   "id": "213dbf95",
   "metadata": {},
   "source": [
    "<h3> Importing Libraries </h3>"
   ]
  },
  {
   "cell_type": "code",
   "execution_count": 62,
   "id": "6d9381f1",
   "metadata": {},
   "outputs": [],
   "source": [
    "from bs4 import BeautifulSoup"
   ]
  },
  {
   "cell_type": "markdown",
   "id": "38d89519",
   "metadata": {},
   "source": [
    "<h3>Functions</h3>"
   ]
  },
  {
   "cell_type": "code",
   "execution_count": 63,
   "id": "43b364a9",
   "metadata": {},
   "outputs": [],
   "source": [
    "def fetch_page_content(page_url):\n",
    "    try:\n",
    "        response = requests.get(page_url, timeout=TIMEOUT_SECONDS)\n",
    "        response.raise_for_status()\n",
    "        return response.text\n",
    "    except Exception as e:\n",
    "        print(f\"Error fetching page content: {e}\")\n",
    "        return None"
   ]
  },
  {
   "cell_type": "code",
   "execution_count": 64,
   "id": "c7b30bfd",
   "metadata": {},
   "outputs": [],
   "source": [
    "def remove_unwanted_elements(soup):\n",
    "    # Implement the logic to remove unwanted elements from the soup object\n",
    "    pass"
   ]
  },
  {
   "cell_type": "code",
   "execution_count": 65,
   "id": "ba6cb42f",
   "metadata": {},
   "outputs": [],
   "source": [
    "def get_mineable_text_from_soup(soup):\n",
    "    remove_unwanted_elements(soup)\n",
    "    return \" \".join(soup.stripped_strings)"
   ]
  },
  {
   "cell_type": "code",
   "execution_count": 66,
   "id": "4791d6d7",
   "metadata": {},
   "outputs": [],
   "source": [
    "def analyze_page_content(page_url):\n",
    "    try:\n",
    "        page_content = fetch_page_content(page_url)\n",
    "        if page_content:\n",
    "            soup = BeautifulSoup(page_content, \"html.parser\")\n",
    "        \n",
    "            page_title = soup.find(\"title\").get_text().strip()\n",
    "            print(f\"Title web page: {page_title}\")\n",
    "        \n",
    "            mineable_text = get_mineable_text_from_soup(soup)\n",
    "        \n",
    "            return {\n",
    "                'title': page_title\n",
    "            }\n",
    "    except Exception as e:\n",
    "        print(f\"Error in retrieving {page_url}\")\n",
    "        print(f\"An error occurred {e}\")\n",
    "        return None"
   ]
  },
  {
   "cell_type": "code",
   "execution_count": 67,
   "id": "cc8bb9bd",
   "metadata": {
    "scrolled": true
   },
   "outputs": [
    {
     "name": "stdout",
     "output_type": "stream",
     "text": [
      "Title web page: Bitcoin price breaches $30,000 on Binance in mega rally\n",
      "Title web page: Bitcoin Weekly Forecast: BTC bearish fractal holds steady ahead of US Nonfarm Payrolls\n",
      "Title web page: sentix Bitcoin sentiment index - Crypto Currencies Sentiment\n",
      "Title web page: 7 Cryptos to Watch as Market Sentiment Hits a Snag | InvestorPlace\n",
      "Error fetching page content: 403 Client Error: Forbidden for url: https://bitcoinmagazine.com/markets/grayscale-wins-court-case-vs-sec-bitcoin-etf-on-the-horizon\n",
      "Error fetching page content: 403 Client Error: Forbidden for url: https://www.investing.com/crypto/bitcoin/btc-usd-scoreboard\n",
      "Title web page: Bitcoin Trader Sentiment Returns To Greed As BTC Jumps Past $25,000\n",
      "Error fetching page content: 403 Client Error: Forbidden for url: https://www.researchgate.net/publication/346808998_A_complete_vader-based_sentiment_analysis_of_bitcoin_BTC_tweets_during_the_ERA_of_COVID-19\n",
      "Title web page: Bitcoin Price Prediction as BTC Bulls Eye $30,000 Resistance as Non-Farm Payroll Data is Released â A Comeback in Play?\n",
      "Title web page: Bitcoin Price Prediction 2023, 2024, 2025, 2026 - 2030\n",
      "Title web page: The First Bitcoin Mining Pool From El Salvador Is Here\n",
      "Error fetching page content: 403 Client Error: Forbidden for url: https://www.investing.com/news/cryptocurrency-news/sentiment-for-bitcoin-btc-remains-negative-santiment-feed-2903442\n",
      "Title web page: Fear And Greed Index | LookIntoBitcoin\n",
      "Title web page: Bloomberg - Are you a robot?\n",
      "Error fetching page content: 403 Client Error: Forbidden for url: https://cointelegraph.com/news/the-economics-of-bitcoin-halving-understanding-the-effects-on-price-and-market-sentiment\n",
      "Title web page: Crypto Dashboard - Alternative.me\n",
      "Title web page: ‘Flashing Red Warning’—$33 Trillion U.S. ‘Debt Death Spiral’ Could Suddenly Trigger A Bitcoin Price ‘Vicious Circle’\n",
      "Title web page: Rising Sentiment Dampens Bitcoin’s Correlation With U.S. Stocks\n",
      "Title web page: Bitcoin bulls in full retreat as BTC sentiment slumps to 'fear' territory\n",
      "Title web page: Bitcoin Price prediction, Short/Long Forecast - CoinLore\n",
      "Title web page: Crypto Sentiment | CoinCodex\n",
      "Title web page: Bitcoin Long Short Ratio, ETH Longs/Shorts Ratio, Cryptocurrency Longs VS Shorts Ratio, Binance Long And Short Ratio | CoinGlass\n",
      "Error in retrieving https://twitter.com/btcsentimentCOM\n",
      "An error occurred during 'get_article' function execution 'NoneType' object has no attribute 'get_text'\n",
      "Title web page: Bitcoin (BTC) Prices Could Face Downward Pressure in Short Term, Trader Warns\n",
      "Title web page: Bitcoin Sentiment Analysis | Twitter Data | Kaggle\n",
      "Title web page: Bitcoin Price Prediction: BTC Rises 4% Amidst Dovish FOMC Sentiment\n",
      "Title web page: Bitcoin Price Prediction: BTC Stops The Drop - Bullish Sentiments Taking Over?\n",
      "Title web page: Markets | CoinDesk\n",
      "Title web page: Bitcoin Investor Sentiment Remains Steady As BTC Stalls At $16,000\n",
      "Title web page: BTCUSD history — Timeline of major events — TradingView\n",
      "Error fetching page content: 403 Client Error: Forbidden for url: https://news.bitcoin.com/bitcoin-sentiment-on-twitter-highest-level-in-3-years/\n",
      "Title web page: Bitcoin Price Today | BTC Live Chart and Forecast\n",
      "Title web page: 3 Bitcoin Sentiment Analysis Tools: How They Work & How to Use Them\n",
      "Error fetching page content: 403 Client Error: Forbidden for url: https://cointelegraph.com/news/bitcoin-short-term-holders-panic-amid-nearly-100-unrealized-loss\n",
      "Error fetching page content: 403 Client Error: Forbidden for url: https://www.investing.com/crypto/bitcoin/bitcoin-futures-scoreboard\n",
      "Error fetching page content: HTTPSConnectionPool(host='www.bittsanalytics.com', port=443): Read timed out. (read timeout=5)\n",
      "Error fetching page content: 403 Client Error: Forbidden for url: https://www.researchgate.net/publication/357915029_Can_Bitcoin_be_a_safe_haven_in_fear_sentiment\n",
      "Title web page: Buy Signal? Bitcoin Investor Sentiment Falls To Lowest Level In Two Months\n",
      "Title web page: Crypto Fear & Greed Index - Bitcoin Sentiment - Alternative.me\n",
      "Title web page: Bitcoin (BTC) Price Prediction 2023, 2024, 2025â2030 | CoinCodex\n",
      "Error fetching page content: 403 Client Error: Forbidden for url: https://cointelegraph.com/news/crypto-fear-and-greed-index-hits-highest-level-since-bitcoin-s-all-time-high\n",
      "Title web page: Bitcoin price could revisit $10,000 amid growing correlation with US Dollar index\n",
      "Error fetching page content: 403 Client Error: Forbidden for url: https://cointelegraph.com/news/bitcoin-will-surge-in-2023-but-be-careful-what-you-wish-for\n",
      "Error fetching page content: 403 Client Error: Forbidden for url: https://news.bitcoin.com/bitcoin-ethereum-technical-analysis-btc-nears-10-day-low-as-bears-regain-market-sentiment/\n",
      "Title web page: Bitcoin (BTC) Price Hit High Above $28K but Quickly Sold Off. Is This a Buying Opportunity?\n",
      "Title web page: Pro: Evergrande Group chapter 15 'indirectly influenced Bitcoin sentiment'\n",
      "Title web page: Spot Bitcoin ETF Launch Will Solidify Crypto As A Distinct Asset Class\n",
      "Title web page: SEC's Bitcoin ETF Delay: Impact on BTC Price - Report\n",
      "Title web page: Bitcoin NVT ratio 2022 | Statista\n",
      "Title web page: The home of crypto currencies sentiment - Crypto Currencies Sentiment\n",
      "Title web page: Bitcoin Price | BTC Price Index and Live Chart - CoinDesk\n",
      "Title web page: Is Bitcoin a Screaming Buy Right Now? This Metric Says Yes | The Motley Fool\n",
      "Title web page: Jefferies: Bitcoin is a ‘critical hedge’ against currency debasement\n",
      "Title web page: Bitcoin Fear & Greed | CoinCodex\n",
      "Title web page: BlackRock Insider Primes Crypto For A Huge $17.7 Trillion Wall Street Earthquake That Could Be About To Hit The Price Of Bitcoin, Ethereum And XRP\n",
      "Title web page: Introducing Gemini's BitcoinBuzz Sentiment Indicator | Gemini\n",
      "Title web page: Bitcoin Technical Analysis - FXStreet\n",
      "Title web page: What Is Crypto Market Sentiment? | Binance Academy\n",
      "Title web page: Bitcoin Price Prediction as BTC Smashes Past $27,000 Resistance â Best Time to Buy?\n",
      "Title web page: Bitcoin.com Markets | Price, Charts, News\n",
      "Title web page: Bitcoin Overview - CME Group\n",
      "Title web page: Bitcoin Sentiment – Bull & Bear Index – Augmento\n",
      "Title web page: Bitcoin Sentiment Now Close To Extreme Fear: Why This Matters\n",
      "Title web page: Bitcoin Price Live | LookIntoBitcoin\n",
      "Title web page: Bitcoin Sentiment Returns To Neutral, Will Traders Embrace Greed Next?\n",
      "Title web page: Home | LookIntoBitcoin\n",
      "Title web page: Ethereum (ETH) market sentiment and market data - Datamish.com\n",
      "Title web page: Bitcoin (BTC) Price Grapples with $28K as Ether (ETH) Price Bounces; Avalanche (AVAX), Solana (SOL) Leads Crypto Rebound\n",
      "Title web page: Bitcoin Price Continues Slide As Crypto Market Sentiment Takes Hit\n",
      "Title web page: Bitcoin Price | BTC Price Index, Live Chart and USD Converter - Binance\n",
      "Title web page: Bitcoin (BTC/USD)  Struggling to Break Stubborn Resistance Around $25k\n",
      "Title web page: Bitcoin Dip Worth Buying? What Market Sentiment Suggests\n",
      "Title web page: Bitcoin Sentiment Index - CoinDesk\n",
      "Error fetching page content: 403 Client Error: Forbidden for url: https://cointelegraph.com/news/bitcoin-crowd-sentiment-hit-multi-month-high-as-btc-price-touches-21k\n",
      "Error fetching page content: 403 Client Error: Forbidden for url: https://bitcoinmagazine.com/markets/social-sentiment-and-the-bitcoin-price\n",
      "Title web page: Bitcoin Price Projection Soars: BTC-Gold Ratio Indicator Proposes $120,000 Price Target — TradingView News\n",
      "Title web page: Bitcoin Surges 81% YTD: Is The Rally For Real Or Just FOMO? (BTC-USD) | Seeking Alpha\n",
      "Error fetching page content: 403 Client Error: Forbidden for url: https://news.bitcoin.com/bitcoin-ethereum-technical-analysis-btc-falls-below-24000-ahead-of-us-consumer-sentiment-data\n",
      "Title web page: Bitcoin Sentiment Returns To Neutral As Price Tumbles Down\n",
      "Title web page: undefined (undefined): Sentiment, Live Charts, Signals | CryptoEQ\n",
      "Title web page: Bitcoin price change and trend prediction through twitter sentiment and data volume | Financial Innovation | Full Text\n",
      "Title web page: Bitcoin Price Prediction, News, and Analysis (BTC)\n",
      "Error fetching page content: 403 Client Error: Forbidden for url: https://news.bitcoin.com/bitcoin-ethereum-technical-analysis-btc-eth-start-week-lower-as-bearish-sentiment-returns-to-markets/\n"
     ]
    },
    {
     "name": "stdout",
     "output_type": "stream",
     "text": [
      "Error fetching page content: 403 Client Error: Forbidden for url: https://www.ncbi.nlm.nih.gov/pmc/articles/PMC9581699/\n",
      "Error fetching page content: 403 Client Error: Forbidden for url: https://beincrypto.com/unbelievable-bitcoin-price-predictions-2023-top-analysts/\n",
      "Title web page: Trade USD | USD to  | Bitcoin (USD)  | IG International\n",
      "Title web page: Market Wrap: Bitcoin Sentiment Turns Extremely Bearish\n",
      "Title web page: Bitcoin: Analyzing the latest sentiment in BTC derivatives market - AMBCrypto\n",
      "Title web page: Bitcoin (BTC), Immutable (IMX), and VC Spectra (SPCT) Sustain Bullish Sentiment in Crypto Community | Finbold\n",
      "Title web page: Bitcoin price today, BTC to USD live price, marketcap and chart | CoinMarketCap\n",
      "Error fetching page content: 403 Client Error: Forbidden for url: https://www.coinbase.com/price/bitcoin\n",
      "Title web page: Bitcoin (BTC) Price, Real-time Quote & News - Google Finance\n",
      "Title web page: Bitcoin rally driven by believers collecting evermore tokens\n",
      "Title web page: BDCC | Free Full-Text | A Complete VADER-Based Sentiment Analysis of Bitcoin (BTC) Tweets during the Era of COVID-19\n",
      "Error fetching page content: 403 Client Error: Forbidden for url: https://www.coinbase.com/price/bitcoin/usd\n",
      "Error fetching page content: 403 Client Error: Forbidden for url: https://www.tandfonline.com/doi/full/10.1080/15427560.2021.1975285\n",
      "Title web page: Bitcoin Price Projection Soars: BTC-Gold Ratio Indicator Proposes $120,000 Price Target\n",
      "Title web page: Bitcoin Hodler Growth Comparable to 2017 Cycle, Will BTC 10x in Next Bull Run?\n",
      "Title web page: Is the future of bitcoin safe? A triangulation approach in the reality of BTC market through a sentiments analysis | SpringerLink\n",
      "Title web page: Predicting bitcoin price movements using sentiment analysis: a machine learning approach\n",
      " |  Emerald Insight\n",
      "Error fetching page content: 403 Client Error: Forbidden for url: https://es.investing.com/crypto/bitcoin/btc-usd-scoreboard\n",
      "Title web page: Investor sentiment and bitcoin prices | SpringerLink\n",
      "Title web page: Bitcoin & Ethereum Jump: BTC/USD & ETH/USD Price Action\n",
      "Title web page: Crypto Fear and Greed Index - Bitcoin Momentum Tracker\n",
      "Title web page: BTC Sentiment Poll for September\n"
     ]
    },
    {
     "data": {
      "text/plain": [
       "[{'title': 'Bitcoin price breaches $30,000 on Binance in mega rally'},\n",
       " {'title': 'Bitcoin Weekly Forecast: BTC bearish fractal holds steady ahead of US Nonfarm Payrolls'},\n",
       " {'title': 'sentix Bitcoin sentiment index - Crypto Currencies Sentiment'},\n",
       " {'title': '7 Cryptos to Watch as Market Sentiment Hits a Snag | InvestorPlace'},\n",
       " {'title': 'Bitcoin Trader Sentiment Returns To Greed As BTC Jumps Past $25,000'},\n",
       " {'title': 'Bitcoin Price Prediction as BTC Bulls Eye $30,000 Resistance as Non-Farm Payroll Data is Released â\\x80\\x93 A Comeback in Play?'},\n",
       " {'title': 'Bitcoin Price Prediction 2023, 2024, 2025, 2026 - 2030'},\n",
       " {'title': 'The First Bitcoin Mining Pool From El Salvador Is Here'},\n",
       " {'title': 'Fear And Greed Index | LookIntoBitcoin'},\n",
       " {'title': 'Bloomberg - Are you a robot?'},\n",
       " {'title': 'Crypto Dashboard - Alternative.me'},\n",
       " {'title': '‘Flashing Red Warning’—$33 Trillion U.S. ‘Debt Death Spiral’ Could Suddenly Trigger A Bitcoin Price ‘Vicious Circle’'},\n",
       " {'title': 'Rising Sentiment Dampens Bitcoin’s Correlation With U.S. Stocks'},\n",
       " {'title': \"Bitcoin bulls in full retreat as BTC sentiment slumps to 'fear' territory\"},\n",
       " {'title': 'Bitcoin Price prediction, Short/Long Forecast - CoinLore'},\n",
       " {'title': 'Crypto Sentiment | CoinCodex'},\n",
       " {'title': 'Bitcoin Long Short Ratio, ETH Longs/Shorts Ratio, Cryptocurrency Longs VS Shorts Ratio, Binance Long And Short Ratio | CoinGlass'},\n",
       " {'title': 'Bitcoin (BTC) Prices Could Face Downward Pressure in Short Term, Trader Warns'},\n",
       " {'title': 'Bitcoin Sentiment Analysis | Twitter Data | Kaggle'},\n",
       " {'title': 'Bitcoin Price Prediction: BTC Rises 4% Amidst Dovish FOMC Sentiment'},\n",
       " {'title': 'Bitcoin Price Prediction: BTC Stops The Drop - Bullish Sentiments Taking Over?'},\n",
       " {'title': 'Markets | CoinDesk'},\n",
       " {'title': 'Bitcoin Investor Sentiment Remains Steady As BTC Stalls At $16,000'},\n",
       " {'title': 'BTCUSD history — Timeline of major events — TradingView'},\n",
       " {'title': 'Bitcoin Price Today | BTC Live Chart and Forecast'},\n",
       " {'title': '3 Bitcoin Sentiment Analysis Tools: How They Work & How to Use Them'},\n",
       " {'title': 'Buy Signal? Bitcoin Investor Sentiment Falls To Lowest Level In Two Months'},\n",
       " {'title': 'Crypto Fear & Greed Index - Bitcoin Sentiment - Alternative.me'},\n",
       " {'title': 'Bitcoin (BTC) Price Prediction 2023, 2024, 2025â\\x80\\x932030 | CoinCodex'},\n",
       " {'title': 'Bitcoin price could revisit $10,000 amid growing correlation with US Dollar index'},\n",
       " {'title': 'Bitcoin (BTC) Price Hit High Above $28K but Quickly Sold Off. Is This a Buying Opportunity?'},\n",
       " {'title': \"Pro: Evergrande Group chapter 15 'indirectly influenced Bitcoin sentiment'\"},\n",
       " {'title': 'Spot Bitcoin ETF Launch Will Solidify Crypto As A Distinct Asset Class'},\n",
       " {'title': \"SEC's Bitcoin ETF Delay: Impact on BTC Price - Report\"},\n",
       " {'title': 'Bitcoin NVT ratio 2022 | Statista'},\n",
       " {'title': 'The home of crypto currencies sentiment - Crypto Currencies Sentiment'},\n",
       " {'title': 'Bitcoin Price | BTC Price Index and Live Chart - CoinDesk'},\n",
       " {'title': 'Is Bitcoin a Screaming Buy Right Now? This Metric Says Yes | The Motley Fool'},\n",
       " {'title': 'Jefferies: Bitcoin is a ‘critical hedge’ against currency debasement'},\n",
       " {'title': 'Bitcoin Fear & Greed | CoinCodex'},\n",
       " {'title': 'BlackRock Insider Primes Crypto For A Huge $17.7 Trillion Wall Street Earthquake That Could Be About To Hit The Price Of Bitcoin, Ethereum And XRP'},\n",
       " {'title': \"Introducing Gemini's BitcoinBuzz Sentiment Indicator | Gemini\"},\n",
       " {'title': 'Bitcoin Technical Analysis - FXStreet'},\n",
       " {'title': 'What Is Crypto Market Sentiment? | Binance Academy'},\n",
       " {'title': 'Bitcoin Price Prediction as BTC Smashes Past $27,000 Resistance â\\x80\\x93 Best Time to Buy?'},\n",
       " {'title': 'Bitcoin.com Markets | Price, Charts, News'},\n",
       " {'title': 'Bitcoin Overview - CME Group'},\n",
       " {'title': 'Bitcoin Sentiment – Bull & Bear Index – Augmento'},\n",
       " {'title': 'Bitcoin Sentiment Now Close To Extreme Fear: Why This Matters'},\n",
       " {'title': 'Bitcoin Price Live | LookIntoBitcoin'},\n",
       " {'title': 'Bitcoin Sentiment Returns To Neutral, Will Traders Embrace Greed Next?'},\n",
       " {'title': 'Home | LookIntoBitcoin'},\n",
       " {'title': 'Ethereum (ETH) market sentiment and market data - Datamish.com'},\n",
       " {'title': 'Bitcoin (BTC) Price Grapples with $28K as Ether (ETH) Price Bounces; Avalanche (AVAX), Solana (SOL) Leads Crypto Rebound'},\n",
       " {'title': 'Bitcoin Price Continues Slide As Crypto Market Sentiment Takes Hit'},\n",
       " {'title': 'Bitcoin Price | BTC Price Index, Live Chart and USD Converter - Binance'},\n",
       " {'title': 'Bitcoin (BTC/USD)  Struggling to Break Stubborn Resistance Around $25k'},\n",
       " {'title': 'Bitcoin Dip Worth Buying? What Market Sentiment Suggests'},\n",
       " {'title': 'Bitcoin Sentiment Index - CoinDesk'},\n",
       " {'title': 'Bitcoin Price Projection Soars: BTC-Gold Ratio Indicator Proposes $120,000 Price Target — TradingView News'},\n",
       " {'title': 'Bitcoin Surges 81% YTD: Is The Rally For Real Or Just FOMO? (BTC-USD) | Seeking Alpha'},\n",
       " {'title': 'Bitcoin Sentiment Returns To Neutral As Price Tumbles Down'},\n",
       " {'title': 'undefined (undefined): Sentiment, Live Charts, Signals | CryptoEQ'},\n",
       " {'title': 'Bitcoin price change and trend prediction through twitter sentiment and data volume | Financial Innovation | Full Text'},\n",
       " {'title': 'Bitcoin Price Prediction, News, and Analysis (BTC)'},\n",
       " {'title': 'Trade USD | USD to  | Bitcoin (USD)  | IG International'},\n",
       " {'title': 'Market Wrap: Bitcoin Sentiment Turns Extremely Bearish'},\n",
       " {'title': 'Bitcoin: Analyzing the latest sentiment in BTC derivatives market - AMBCrypto'},\n",
       " {'title': 'Bitcoin (BTC), Immutable (IMX), and VC Spectra (SPCT) Sustain Bullish Sentiment in Crypto Community | Finbold'},\n",
       " {'title': 'Bitcoin price today, BTC to USD live price, marketcap and chart | CoinMarketCap'},\n",
       " {'title': 'Bitcoin (BTC) Price, Real-time Quote & News - Google Finance'},\n",
       " {'title': 'Bitcoin rally driven by believers collecting evermore tokens'},\n",
       " {'title': 'BDCC | Free Full-Text | A Complete VADER-Based Sentiment Analysis of Bitcoin (BTC) Tweets during the Era of COVID-19'},\n",
       " {'title': 'Bitcoin Price Projection Soars: BTC-Gold Ratio Indicator Proposes $120,000 Price Target'},\n",
       " {'title': 'Bitcoin Hodler Growth Comparable to 2017 Cycle, Will BTC 10x in Next Bull Run?'},\n",
       " {'title': 'Is the future of bitcoin safe? A triangulation approach in the reality of BTC market through a sentiments analysis | SpringerLink'},\n",
       " {'title': 'Predicting bitcoin price movements using sentiment analysis: a machine learning approach\\n |  Emerald Insight'},\n",
       " {'title': 'Investor sentiment and bitcoin prices | SpringerLink'},\n",
       " {'title': 'Bitcoin & Ethereum Jump: BTC/USD & ETH/USD Price Action'},\n",
       " {'title': 'Crypto Fear and Greed Index - Bitcoin Momentum Tracker'},\n",
       " {'title': 'BTC Sentiment Poll for September'}]"
      ]
     },
     "execution_count": 67,
     "metadata": {},
     "output_type": "execute_result"
    }
   ],
   "source": [
    "web_scrap_pages = list(filter(lambda wbp: wbp is not None, map(analyze_page_content, search_engines_results)))\n",
    "web_scrap_pages"
   ]
  },
  {
   "cell_type": "code",
   "execution_count": null,
   "id": "d8dfeb9c",
   "metadata": {},
   "outputs": [],
   "source": []
  },
  {
   "cell_type": "code",
   "execution_count": null,
   "id": "f53c61ce",
   "metadata": {},
   "outputs": [],
   "source": []
  },
  {
   "cell_type": "markdown",
   "id": "931dc7e0",
   "metadata": {},
   "source": [
    "<h2>Sentiment Analysis</h2>"
   ]
  },
  {
   "cell_type": "code",
   "execution_count": null,
   "id": "b14a395e",
   "metadata": {},
   "outputs": [],
   "source": []
  },
  {
   "cell_type": "markdown",
   "id": "f993f251",
   "metadata": {},
   "source": [
    "<h2>Storage of Sentiment and Pages</h2>"
   ]
  },
  {
   "cell_type": "code",
   "execution_count": null,
   "id": "77b8049e",
   "metadata": {},
   "outputs": [],
   "source": []
  }
 ],
 "metadata": {
  "kernelspec": {
   "display_name": "Python 3",
   "language": "python",
   "name": "python3"
  },
  "language_info": {
   "codemirror_mode": {
    "name": "ipython",
    "version": 3
   },
   "file_extension": ".py",
   "mimetype": "text/x-python",
   "name": "python",
   "nbconvert_exporter": "python",
   "pygments_lexer": "ipython3",
   "version": "3.8.8"
  }
 },
 "nbformat": 4,
 "nbformat_minor": 5
}
